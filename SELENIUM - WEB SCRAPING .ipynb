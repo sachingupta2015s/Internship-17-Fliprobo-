{
 "cells": [
  {
   "cell_type": "markdown",
   "metadata": {},
   "source": [
    "# Q1: Write a python program to scrape data for “Data Analyst” Job position in “Bangalore” location. You have to scrape the job-title, job-location, company_name, experience_required. You have to scrape first 10 jobs data.\n",
    "This task will be done in following steps:\n",
    "1. first get the webpage https://www.naukri.com/\n",
    "2. Enter “Data Analyst” in “Skill,Designations,Companies” field and enter “Bangalore” in “enter the location” field.\n",
    "3. Then click the search button.\n",
    "4. Then scrape the data for the first 10 jobs results you get.\n",
    "5. Finally create a dataframe of the scraped data."
   ]
  },
  {
   "cell_type": "code",
   "execution_count": 1,
   "metadata": {},
   "outputs": [
    {
     "name": "stdout",
     "output_type": "stream",
     "text": [
      "Requirement already satisfied: selenium in c:\\users\\sunil gupta\\anaconda3\\lib\\site-packages (3.141.0)\n",
      "Requirement already satisfied: urllib3 in c:\\users\\sunil gupta\\anaconda3\\lib\\site-packages (from selenium) (1.25.11)\n"
     ]
    }
   ],
   "source": [
    "# INSTALL THE SELENIUM LIBRARY\n",
    "!pip install selenium"
   ]
  },
  {
   "cell_type": "code",
   "execution_count": 2,
   "metadata": {},
   "outputs": [],
   "source": [
    "# lets import the libraries\n",
    "import selenium \n",
    "import pandas as pd \n",
    "from selenium import webdriver"
   ]
  },
  {
   "cell_type": "code",
   "execution_count": 3,
   "metadata": {},
   "outputs": [],
   "source": [
    "# lets connect to web driver\n",
    "driver = webdriver.Chrome(\"chromedriver.exe\")"
   ]
  },
  {
   "cell_type": "code",
   "execution_count": 4,
   "metadata": {},
   "outputs": [],
   "source": [
    "# opening the link\n",
    "url = \"https://www.naukri.com/\""
   ]
  },
  {
   "cell_type": "code",
   "execution_count": 5,
   "metadata": {},
   "outputs": [],
   "source": [
    "driver.get(url)"
   ]
  },
  {
   "cell_type": "code",
   "execution_count": 6,
   "metadata": {},
   "outputs": [
    {
     "data": {
      "text/plain": [
       "<selenium.webdriver.remote.webelement.WebElement (session=\"bfef79aa42336f0391ba3c87b0e1efcc\", element=\"0cd01c09-044f-44af-807c-bc19af133e15\")>"
      ]
     },
     "execution_count": 6,
     "metadata": {},
     "output_type": "execute_result"
    }
   ],
   "source": [
    "# how to search job\n",
    "search_job = driver.find_element_by_id('qsb-keyword-sugg')\n",
    "search_job"
   ]
  },
  {
   "cell_type": "code",
   "execution_count": 7,
   "metadata": {},
   "outputs": [],
   "source": [
    "# writing on the search bar\n",
    "search_job.send_keys('Data Analyst')"
   ]
  },
  {
   "cell_type": "code",
   "execution_count": 8,
   "metadata": {},
   "outputs": [
    {
     "data": {
      "text/plain": [
       "<selenium.webdriver.remote.webelement.WebElement (session=\"bfef79aa42336f0391ba3c87b0e1efcc\", element=\"2e5ed57c-cb1a-41eb-b852-03bf7ca44202\")>"
      ]
     },
     "execution_count": 8,
     "metadata": {},
     "output_type": "execute_result"
    }
   ],
   "source": [
    "# finding the elements for location bar\n",
    "search_location = driver.find_element_by_id('qsb-location-sugg')\n",
    "search_location"
   ]
  },
  {
   "cell_type": "code",
   "execution_count": 9,
   "metadata": {},
   "outputs": [],
   "source": [
    "# writing on search bar\n",
    "search_location.send_keys(\"Bangalore\")"
   ]
  },
  {
   "cell_type": "code",
   "execution_count": 10,
   "metadata": {},
   "outputs": [
    {
     "data": {
      "text/plain": [
       "<selenium.webdriver.remote.webelement.WebElement (session=\"bfef79aa42336f0391ba3c87b0e1efcc\", element=\"7d9eba3e-b0de-4ade-ba50-50514f40b2a6\")>"
      ]
     },
     "execution_count": 10,
     "metadata": {},
     "output_type": "execute_result"
    }
   ],
   "source": [
    "# how to click on button\n",
    "search_button = driver.find_element_by_xpath(\"//button[@class='btn']\")\n",
    "search_button"
   ]
  },
  {
   "cell_type": "code",
   "execution_count": 11,
   "metadata": {},
   "outputs": [],
   "source": [
    "# clicking on search button\n",
    "search_button.click()"
   ]
  },
  {
   "cell_type": "code",
   "execution_count": 42,
   "metadata": {},
   "outputs": [
    {
     "data": {
      "text/plain": [
       "[<selenium.webdriver.remote.webelement.WebElement (session=\"bfef79aa42336f0391ba3c87b0e1efcc\", element=\"b1304a7b-74dc-4cdd-9f4b-200316a66e0f\")>,\n",
       " <selenium.webdriver.remote.webelement.WebElement (session=\"bfef79aa42336f0391ba3c87b0e1efcc\", element=\"1333638b-600d-41ef-968d-83b09eb23fd7\")>,\n",
       " <selenium.webdriver.remote.webelement.WebElement (session=\"bfef79aa42336f0391ba3c87b0e1efcc\", element=\"c3e5056c-89f8-476f-8495-564f20f88e19\")>,\n",
       " <selenium.webdriver.remote.webelement.WebElement (session=\"bfef79aa42336f0391ba3c87b0e1efcc\", element=\"ae1ec70a-99b2-46ad-99e9-8f5266e88663\")>,\n",
       " <selenium.webdriver.remote.webelement.WebElement (session=\"bfef79aa42336f0391ba3c87b0e1efcc\", element=\"f44e0c5b-01a3-43b5-9167-8982d16e1110\")>,\n",
       " <selenium.webdriver.remote.webelement.WebElement (session=\"bfef79aa42336f0391ba3c87b0e1efcc\", element=\"d5566feb-6af4-4f58-9f1a-6114e2ab034d\")>,\n",
       " <selenium.webdriver.remote.webelement.WebElement (session=\"bfef79aa42336f0391ba3c87b0e1efcc\", element=\"05b10c14-7599-4ddd-be79-e2085dcc751a\")>,\n",
       " <selenium.webdriver.remote.webelement.WebElement (session=\"bfef79aa42336f0391ba3c87b0e1efcc\", element=\"eb015601-17bf-4998-90fb-fa55bad61dca\")>,\n",
       " <selenium.webdriver.remote.webelement.WebElement (session=\"bfef79aa42336f0391ba3c87b0e1efcc\", element=\"1621d625-482c-42a7-970e-3ba2b870010a\")>,\n",
       " <selenium.webdriver.remote.webelement.WebElement (session=\"bfef79aa42336f0391ba3c87b0e1efcc\", element=\"80d27905-1926-4daf-8a89-d7b6ed8381ec\")>]"
      ]
     },
     "execution_count": 42,
     "metadata": {},
     "output_type": "execute_result"
    }
   ],
   "source": [
    "# top 10 job titles\n",
    "titles = driver.find_elements_by_xpath(\"//a[@class='title fw500 ellipsis']\")\n",
    "titles[:10]"
   ]
  },
  {
   "cell_type": "code",
   "execution_count": 43,
   "metadata": {},
   "outputs": [],
   "source": [
    "# looping the job titles\n",
    "job_title = []\n",
    "\n",
    "for i in titles:\n",
    "    job_title.append(i.text)\n",
    "    job_title"
   ]
  },
  {
   "cell_type": "code",
   "execution_count": 44,
   "metadata": {},
   "outputs": [
    {
     "data": {
      "text/plain": [
       "['Data Analyst - SQL/Java/Python',\n",
       " 'Master Data Analyst, Bangalore',\n",
       " 'Master Data Analyst, Bangalore, Jigani Campus',\n",
       " 'Consultant-Data Analyst -Bangalore',\n",
       " 'Business Analyst / Data Analyst - SQL Queries, Power BI & Python exp.',\n",
       " 'Lead Data Analyst',\n",
       " 'Data Analyst(Immediate) - GSR Buz Services - Bangalore',\n",
       " 'Data Analyst',\n",
       " 'Data Analyst - Consumer Experience',\n",
       " 'Openings For Data & Research Analyst']"
      ]
     },
     "execution_count": 44,
     "metadata": {},
     "output_type": "execute_result"
    }
   ],
   "source": [
    "job_title[:10]"
   ]
  },
  {
   "cell_type": "code",
   "execution_count": 45,
   "metadata": {},
   "outputs": [
    {
     "data": {
      "text/plain": [
       "[<selenium.webdriver.remote.webelement.WebElement (session=\"bfef79aa42336f0391ba3c87b0e1efcc\", element=\"83128645-16a1-4a63-8fc5-eb719c115748\")>,\n",
       " <selenium.webdriver.remote.webelement.WebElement (session=\"bfef79aa42336f0391ba3c87b0e1efcc\", element=\"516e3aed-c728-4bbd-b19e-4f4ac49745b8\")>,\n",
       " <selenium.webdriver.remote.webelement.WebElement (session=\"bfef79aa42336f0391ba3c87b0e1efcc\", element=\"ea82ed77-0245-434f-8b6a-b4b746da3667\")>,\n",
       " <selenium.webdriver.remote.webelement.WebElement (session=\"bfef79aa42336f0391ba3c87b0e1efcc\", element=\"66eb9ce7-d780-4880-8328-38a4ba439fd0\")>,\n",
       " <selenium.webdriver.remote.webelement.WebElement (session=\"bfef79aa42336f0391ba3c87b0e1efcc\", element=\"5d939f29-5c67-4480-8cc2-b8b68822f937\")>,\n",
       " <selenium.webdriver.remote.webelement.WebElement (session=\"bfef79aa42336f0391ba3c87b0e1efcc\", element=\"a2003c35-2c02-4d48-a6bc-3684ee47ab34\")>,\n",
       " <selenium.webdriver.remote.webelement.WebElement (session=\"bfef79aa42336f0391ba3c87b0e1efcc\", element=\"d9cafff4-31b8-4da0-b893-8f4384da5a64\")>,\n",
       " <selenium.webdriver.remote.webelement.WebElement (session=\"bfef79aa42336f0391ba3c87b0e1efcc\", element=\"16f5c384-6835-4a59-8cba-f53a5aac347d\")>,\n",
       " <selenium.webdriver.remote.webelement.WebElement (session=\"bfef79aa42336f0391ba3c87b0e1efcc\", element=\"9c574592-9a2e-49c7-9e6d-48a46c6c8925\")>,\n",
       " <selenium.webdriver.remote.webelement.WebElement (session=\"bfef79aa42336f0391ba3c87b0e1efcc\", element=\"e1954bd8-4a24-43d8-ab54-1b60ae1025fe\")>]"
      ]
     },
     "execution_count": 45,
     "metadata": {},
     "output_type": "execute_result"
    }
   ],
   "source": [
    "# top 10 job location\n",
    "location = driver.find_elements_by_xpath(\"//li[@class='fleft grey-text br2 placeHolderLi location']//span\")\n",
    "location[:10]"
   ]
  },
  {
   "cell_type": "code",
   "execution_count": 46,
   "metadata": {},
   "outputs": [],
   "source": [
    "# looping the top 10 location\n",
    "job_location = []\n",
    "\n",
    "for i in location:\n",
    "    job_location.append(i.text)\n",
    "    job_location\n"
   ]
  },
  {
   "cell_type": "code",
   "execution_count": 47,
   "metadata": {},
   "outputs": [
    {
     "data": {
      "text/plain": [
       "['Bangalore/Bengaluru',\n",
       " 'Chennai, Bangalore/Bengaluru',\n",
       " 'Bangalore/Bengaluru',\n",
       " 'Bangalore/Bengaluru',\n",
       " 'Bangalore/Bengaluru',\n",
       " 'Bangalore/Bengaluru',\n",
       " 'Bangalore/Bengaluru',\n",
       " 'Bangalore/Bengaluru',\n",
       " 'Bangalore/Bengaluru',\n",
       " 'Bangalore/Bengaluru']"
      ]
     },
     "execution_count": 47,
     "metadata": {},
     "output_type": "execute_result"
    }
   ],
   "source": [
    "job_location[:10]"
   ]
  },
  {
   "cell_type": "code",
   "execution_count": 51,
   "metadata": {},
   "outputs": [
    {
     "data": {
      "text/plain": [
       "[<selenium.webdriver.remote.webelement.WebElement (session=\"bfef79aa42336f0391ba3c87b0e1efcc\", element=\"8bbf1c5f-21a9-4f4d-9d3c-c70e797c5db3\")>,\n",
       " <selenium.webdriver.remote.webelement.WebElement (session=\"bfef79aa42336f0391ba3c87b0e1efcc\", element=\"0f8b6d69-d7e0-4c8a-9c57-0678cf26dc23\")>,\n",
       " <selenium.webdriver.remote.webelement.WebElement (session=\"bfef79aa42336f0391ba3c87b0e1efcc\", element=\"db9698be-eddc-409d-9240-b3c5a4d66c1d\")>,\n",
       " <selenium.webdriver.remote.webelement.WebElement (session=\"bfef79aa42336f0391ba3c87b0e1efcc\", element=\"d80dd8af-8f39-41ac-8324-8a7c4b1ae13c\")>,\n",
       " <selenium.webdriver.remote.webelement.WebElement (session=\"bfef79aa42336f0391ba3c87b0e1efcc\", element=\"d6830c70-9ba4-4b3c-b3a4-112accdb3a16\")>,\n",
       " <selenium.webdriver.remote.webelement.WebElement (session=\"bfef79aa42336f0391ba3c87b0e1efcc\", element=\"28aa6326-b53c-4732-9507-63df1cde5516\")>,\n",
       " <selenium.webdriver.remote.webelement.WebElement (session=\"bfef79aa42336f0391ba3c87b0e1efcc\", element=\"068d1826-4332-4ff1-ae89-1007a3e0495b\")>,\n",
       " <selenium.webdriver.remote.webelement.WebElement (session=\"bfef79aa42336f0391ba3c87b0e1efcc\", element=\"f8deec65-e1d6-475d-af1d-6d6b73299a75\")>,\n",
       " <selenium.webdriver.remote.webelement.WebElement (session=\"bfef79aa42336f0391ba3c87b0e1efcc\", element=\"4cdaf034-aa98-49e4-b27d-b9f1f09a6ed9\")>,\n",
       " <selenium.webdriver.remote.webelement.WebElement (session=\"bfef79aa42336f0391ba3c87b0e1efcc\", element=\"5b31f6ef-12a1-4108-b659-84461a563b88\")>]"
      ]
     },
     "execution_count": 51,
     "metadata": {},
     "output_type": "execute_result"
    }
   ],
   "source": [
    "# top 10 company name\n",
    "\n",
    "companies = driver.find_elements_by_xpath(\"//a[@class='subTitle ellipsis fleft']\")\n",
    "companies[:10]"
   ]
  },
  {
   "cell_type": "code",
   "execution_count": 52,
   "metadata": {},
   "outputs": [],
   "source": [
    "# looping top 10 company\n",
    "\n",
    "company_name = []\n",
    "\n",
    "for i in companies:\n",
    "    company_name.append(i.text)\n",
    "    company_name"
   ]
  },
  {
   "cell_type": "code",
   "execution_count": 53,
   "metadata": {},
   "outputs": [
    {
     "data": {
      "text/plain": [
       "['Serving Skill',\n",
       " 'Creative Hands HR Consultancy',\n",
       " 'Creative Hands HR Consultancy',\n",
       " 'Innovsource Services Private Limited',\n",
       " 'Rivera Manpower Services',\n",
       " 'Publicis Groupe',\n",
       " 'GSR Business Services Private Limited.',\n",
       " 'Superior Group',\n",
       " 'ExecBoardinAsia',\n",
       " 'Frame Events and Productions']"
      ]
     },
     "execution_count": 53,
     "metadata": {},
     "output_type": "execute_result"
    }
   ],
   "source": [
    "company_name[:10]"
   ]
  },
  {
   "cell_type": "code",
   "execution_count": 54,
   "metadata": {},
   "outputs": [
    {
     "data": {
      "text/plain": [
       "[<selenium.webdriver.remote.webelement.WebElement (session=\"bfef79aa42336f0391ba3c87b0e1efcc\", element=\"dd0a802c-f976-4a58-a252-a9edd3993742\")>,\n",
       " <selenium.webdriver.remote.webelement.WebElement (session=\"bfef79aa42336f0391ba3c87b0e1efcc\", element=\"9134108c-5ed8-4a80-8465-0af978349908\")>,\n",
       " <selenium.webdriver.remote.webelement.WebElement (session=\"bfef79aa42336f0391ba3c87b0e1efcc\", element=\"683b1d8e-508a-47ea-a7c8-f3555612c9ec\")>,\n",
       " <selenium.webdriver.remote.webelement.WebElement (session=\"bfef79aa42336f0391ba3c87b0e1efcc\", element=\"8c1444ad-7435-47a0-a416-d5e94cbfc436\")>,\n",
       " <selenium.webdriver.remote.webelement.WebElement (session=\"bfef79aa42336f0391ba3c87b0e1efcc\", element=\"32958623-ec0d-4e1f-80b9-94115f7813a1\")>,\n",
       " <selenium.webdriver.remote.webelement.WebElement (session=\"bfef79aa42336f0391ba3c87b0e1efcc\", element=\"a20368b4-bac8-4539-8fe6-8bf749522e4f\")>,\n",
       " <selenium.webdriver.remote.webelement.WebElement (session=\"bfef79aa42336f0391ba3c87b0e1efcc\", element=\"add5e8c0-4cc9-41bb-b57c-ea013186a899\")>,\n",
       " <selenium.webdriver.remote.webelement.WebElement (session=\"bfef79aa42336f0391ba3c87b0e1efcc\", element=\"6aae6700-4afd-4b70-ac45-f473b76f245a\")>,\n",
       " <selenium.webdriver.remote.webelement.WebElement (session=\"bfef79aa42336f0391ba3c87b0e1efcc\", element=\"3ec4b22b-d1be-4f88-bc56-8ad91930ae87\")>,\n",
       " <selenium.webdriver.remote.webelement.WebElement (session=\"bfef79aa42336f0391ba3c87b0e1efcc\", element=\"54362a07-acd9-4db4-b4c9-06e47e9701aa\")>]"
      ]
     },
     "execution_count": 54,
     "metadata": {},
     "output_type": "execute_result"
    }
   ],
   "source": [
    "# top 10  companies experience_required\n",
    "\n",
    "experience = driver.find_elements_by_xpath(\"//li[@class='fleft grey-text br2 placeHolderLi experience']//span\")\n",
    "experience[:10]"
   ]
  },
  {
   "cell_type": "code",
   "execution_count": 55,
   "metadata": {},
   "outputs": [],
   "source": [
    "# looping the experience \n",
    "\n",
    "experience_required = []\n",
    "\n",
    "for i in experience:\n",
    "    experience_required.append(i.text)\n",
    "    experience_required"
   ]
  },
  {
   "cell_type": "code",
   "execution_count": 56,
   "metadata": {},
   "outputs": [
    {
     "data": {
      "text/plain": [
       "['4-7 Yrs',\n",
       " '1-4 Yrs',\n",
       " '1-4 Yrs',\n",
       " '2-3 Yrs',\n",
       " '1-5 Yrs',\n",
       " '1-4 Yrs',\n",
       " '3-7 Yrs',\n",
       " '4-9 Yrs',\n",
       " '5-10 Yrs',\n",
       " '2-5 Yrs']"
      ]
     },
     "execution_count": 56,
     "metadata": {},
     "output_type": "execute_result"
    }
   ],
   "source": [
    "experience_required[:10]"
   ]
  },
  {
   "cell_type": "code",
   "execution_count": 57,
   "metadata": {},
   "outputs": [
    {
     "name": "stdout",
     "output_type": "stream",
     "text": [
      "20 20 20 20\n"
     ]
    }
   ],
   "source": [
    "# checking the length\n",
    "\n",
    "print(len(job_title),len(company_name),len(job_location),len(experience_required))"
   ]
  },
  {
   "cell_type": "code",
   "execution_count": 58,
   "metadata": {},
   "outputs": [
    {
     "data": {
      "text/html": [
       "<div>\n",
       "<style scoped>\n",
       "    .dataframe tbody tr th:only-of-type {\n",
       "        vertical-align: middle;\n",
       "    }\n",
       "\n",
       "    .dataframe tbody tr th {\n",
       "        vertical-align: top;\n",
       "    }\n",
       "\n",
       "    .dataframe thead th {\n",
       "        text-align: right;\n",
       "    }\n",
       "</style>\n",
       "<table border=\"1\" class=\"dataframe\">\n",
       "  <thead>\n",
       "    <tr style=\"text-align: right;\">\n",
       "      <th></th>\n",
       "      <th>Job_Title</th>\n",
       "      <th>Company_Name</th>\n",
       "      <th>Experiences_Required</th>\n",
       "      <th>Location</th>\n",
       "    </tr>\n",
       "  </thead>\n",
       "  <tbody>\n",
       "    <tr>\n",
       "      <th>0</th>\n",
       "      <td>Data Analyst - SQL/Java/Python</td>\n",
       "      <td>Serving Skill</td>\n",
       "      <td>4-7 Yrs</td>\n",
       "      <td>Bangalore/Bengaluru</td>\n",
       "    </tr>\n",
       "    <tr>\n",
       "      <th>1</th>\n",
       "      <td>Master Data Analyst, Bangalore</td>\n",
       "      <td>Creative Hands HR Consultancy</td>\n",
       "      <td>1-4 Yrs</td>\n",
       "      <td>Chennai, Bangalore/Bengaluru</td>\n",
       "    </tr>\n",
       "    <tr>\n",
       "      <th>2</th>\n",
       "      <td>Master Data Analyst, Bangalore, Jigani Campus</td>\n",
       "      <td>Creative Hands HR Consultancy</td>\n",
       "      <td>1-4 Yrs</td>\n",
       "      <td>Bangalore/Bengaluru</td>\n",
       "    </tr>\n",
       "    <tr>\n",
       "      <th>3</th>\n",
       "      <td>Consultant-Data Analyst -Bangalore</td>\n",
       "      <td>Innovsource Services Private Limited</td>\n",
       "      <td>2-3 Yrs</td>\n",
       "      <td>Bangalore/Bengaluru</td>\n",
       "    </tr>\n",
       "    <tr>\n",
       "      <th>4</th>\n",
       "      <td>Business Analyst / Data Analyst - SQL Queries,...</td>\n",
       "      <td>Rivera Manpower Services</td>\n",
       "      <td>1-5 Yrs</td>\n",
       "      <td>Bangalore/Bengaluru</td>\n",
       "    </tr>\n",
       "    <tr>\n",
       "      <th>5</th>\n",
       "      <td>Lead Data Analyst</td>\n",
       "      <td>Publicis Groupe</td>\n",
       "      <td>1-4 Yrs</td>\n",
       "      <td>Bangalore/Bengaluru</td>\n",
       "    </tr>\n",
       "    <tr>\n",
       "      <th>6</th>\n",
       "      <td>Data Analyst(Immediate) - GSR Buz Services - B...</td>\n",
       "      <td>GSR Business Services Private Limited.</td>\n",
       "      <td>3-7 Yrs</td>\n",
       "      <td>Bangalore/Bengaluru</td>\n",
       "    </tr>\n",
       "    <tr>\n",
       "      <th>7</th>\n",
       "      <td>Data Analyst</td>\n",
       "      <td>Superior Group</td>\n",
       "      <td>4-9 Yrs</td>\n",
       "      <td>Bangalore/Bengaluru</td>\n",
       "    </tr>\n",
       "    <tr>\n",
       "      <th>8</th>\n",
       "      <td>Data Analyst - Consumer Experience</td>\n",
       "      <td>ExecBoardinAsia</td>\n",
       "      <td>5-10 Yrs</td>\n",
       "      <td>Bangalore/Bengaluru</td>\n",
       "    </tr>\n",
       "    <tr>\n",
       "      <th>9</th>\n",
       "      <td>Openings For Data &amp; Research Analyst</td>\n",
       "      <td>Frame Events and Productions</td>\n",
       "      <td>2-5 Yrs</td>\n",
       "      <td>Bangalore/Bengaluru</td>\n",
       "    </tr>\n",
       "  </tbody>\n",
       "</table>\n",
       "</div>"
      ],
      "text/plain": [
       "                                           Job_Title  \\\n",
       "0                     Data Analyst - SQL/Java/Python   \n",
       "1                     Master Data Analyst, Bangalore   \n",
       "2      Master Data Analyst, Bangalore, Jigani Campus   \n",
       "3                 Consultant-Data Analyst -Bangalore   \n",
       "4  Business Analyst / Data Analyst - SQL Queries,...   \n",
       "5                                  Lead Data Analyst   \n",
       "6  Data Analyst(Immediate) - GSR Buz Services - B...   \n",
       "7                                       Data Analyst   \n",
       "8                 Data Analyst - Consumer Experience   \n",
       "9               Openings For Data & Research Analyst   \n",
       "\n",
       "                             Company_Name Experiences_Required  \\\n",
       "0                           Serving Skill              4-7 Yrs   \n",
       "1           Creative Hands HR Consultancy              1-4 Yrs   \n",
       "2           Creative Hands HR Consultancy              1-4 Yrs   \n",
       "3    Innovsource Services Private Limited              2-3 Yrs   \n",
       "4                Rivera Manpower Services              1-5 Yrs   \n",
       "5                         Publicis Groupe              1-4 Yrs   \n",
       "6  GSR Business Services Private Limited.              3-7 Yrs   \n",
       "7                          Superior Group              4-9 Yrs   \n",
       "8                         ExecBoardinAsia             5-10 Yrs   \n",
       "9            Frame Events and Productions              2-5 Yrs   \n",
       "\n",
       "                       Location  \n",
       "0           Bangalore/Bengaluru  \n",
       "1  Chennai, Bangalore/Bengaluru  \n",
       "2           Bangalore/Bengaluru  \n",
       "3           Bangalore/Bengaluru  \n",
       "4           Bangalore/Bengaluru  \n",
       "5           Bangalore/Bengaluru  \n",
       "6           Bangalore/Bengaluru  \n",
       "7           Bangalore/Bengaluru  \n",
       "8           Bangalore/Bengaluru  \n",
       "9           Bangalore/Bengaluru  "
      ]
     },
     "execution_count": 58,
     "metadata": {},
     "output_type": "execute_result"
    }
   ],
   "source": [
    "# creating dataframe\n",
    "\n",
    "jobs1 = pd.DataFrame({})\n",
    "jobs1['Job_Title']=job_title\n",
    "jobs1['Company_Name']=company_name\n",
    "jobs1['Experiences_Required']=experience_required\n",
    "jobs1['Location']=job_location\n",
    "jobs1[:10]"
   ]
  },
  {
   "cell_type": "markdown",
   "metadata": {},
   "source": [
    "# Q2: Write a python program to scrape data for “Data Scientist” Job position in “Bangalore” location. You have to scrape the job-title, job-location, company_name, full job-description. You have to scrape first 10 jobs data.\n",
    "    This task will be done in following steps:\n",
    "### 1. first get the webpage https://www.naukri.com/\n",
    "### 2. Enter “Data Scientist” in “Skill,Designations,Companies” field and enter “Bangalore” in “enter the location” field.\n",
    "### 3. Then click the search button.\n",
    "### 4. Then scrape the data for the first 10 jobs results you get.\n",
    "### 5. Finally create a dataframe of the scraped data. "
   ]
  },
  {
   "cell_type": "code",
   "execution_count": 1,
   "metadata": {},
   "outputs": [
    {
     "name": "stdout",
     "output_type": "stream",
     "text": [
      "Requirement already satisfied: selenium in c:\\users\\sunil gupta\\anaconda3\\lib\\site-packages (3.141.0)\n",
      "Requirement already satisfied: urllib3 in c:\\users\\sunil gupta\\anaconda3\\lib\\site-packages (from selenium) (1.25.11)\n"
     ]
    }
   ],
   "source": [
    "# install selenium library \n",
    "!pip install selenium"
   ]
  },
  {
   "cell_type": "code",
   "execution_count": 20,
   "metadata": {},
   "outputs": [],
   "source": [
    "# let import all the libraries\n",
    "import selenium \n",
    "import pandas as pd\n",
    "import time\n",
    "from selenium import webdriver\n",
    "from selenium.common.exceptions import NoSuchElementException"
   ]
  },
  {
   "cell_type": "code",
   "execution_count": 3,
   "metadata": {},
   "outputs": [],
   "source": [
    "# lets connect to webdriver\n",
    "driver = webdriver.Chrome(\"chromedriver.exe\")"
   ]
  },
  {
   "cell_type": "code",
   "execution_count": 4,
   "metadata": {},
   "outputs": [],
   "source": [
    "url = \"https://www.naukri.com/\"\n",
    "driver.get(url)"
   ]
  },
  {
   "cell_type": "code",
   "execution_count": 5,
   "metadata": {},
   "outputs": [
    {
     "data": {
      "text/plain": [
       "<selenium.webdriver.remote.webelement.WebElement (session=\"df5de8a06df1550655bd453a2f5df3f1\", element=\"784dc3cd-2d03-4f63-a0b6-53f02c20ae6b\")>"
      ]
     },
     "execution_count": 5,
     "metadata": {},
     "output_type": "execute_result"
    }
   ],
   "source": [
    "# how to search job\n",
    "\n",
    "search_job = driver.find_element_by_id('qsb-keyword-sugg')\n",
    "search_job"
   ]
  },
  {
   "cell_type": "code",
   "execution_count": 6,
   "metadata": {},
   "outputs": [],
   "source": [
    "# writing on search bar\n",
    "\n",
    "search_job.send_keys('Data Scientist')"
   ]
  },
  {
   "cell_type": "code",
   "execution_count": 7,
   "metadata": {},
   "outputs": [
    {
     "data": {
      "text/plain": [
       "<selenium.webdriver.remote.webelement.WebElement (session=\"df5de8a06df1550655bd453a2f5df3f1\", element=\"7fa214c2-6a75-444e-9709-98fe14a48452\")>"
      ]
     },
     "execution_count": 7,
     "metadata": {},
     "output_type": "execute_result"
    }
   ],
   "source": [
    "# how to search location\n",
    "\n",
    "search_location = driver.find_element_by_id('qsb-location-sugg')\n",
    "search_location"
   ]
  },
  {
   "cell_type": "code",
   "execution_count": 8,
   "metadata": {},
   "outputs": [],
   "source": [
    "# writing on search location\n",
    "\n",
    "search_location.send_keys('Bangalore')"
   ]
  },
  {
   "cell_type": "code",
   "execution_count": 9,
   "metadata": {},
   "outputs": [
    {
     "data": {
      "text/plain": [
       "<selenium.webdriver.remote.webelement.WebElement (session=\"df5de8a06df1550655bd453a2f5df3f1\", element=\"7035d24a-3b64-4005-acf5-ac2522b340aa\")>"
      ]
     },
     "execution_count": 9,
     "metadata": {},
     "output_type": "execute_result"
    }
   ],
   "source": [
    "# how to click on button\n",
    "\n",
    "search_button = driver.find_element_by_xpath(\"//button[@class='btn']\")\n",
    "search_button"
   ]
  },
  {
   "cell_type": "code",
   "execution_count": 10,
   "metadata": {},
   "outputs": [],
   "source": [
    "# clicking the button\n",
    "\n",
    "search_button.click()"
   ]
  },
  {
   "cell_type": "code",
   "execution_count": 11,
   "metadata": {},
   "outputs": [
    {
     "data": {
      "text/plain": [
       "[<selenium.webdriver.remote.webelement.WebElement (session=\"df5de8a06df1550655bd453a2f5df3f1\", element=\"24e3cdf1-bbec-4bae-9c2c-d90c21278725\")>,\n",
       " <selenium.webdriver.remote.webelement.WebElement (session=\"df5de8a06df1550655bd453a2f5df3f1\", element=\"095ee8cb-be39-4b20-9a88-a6d071af86c6\")>,\n",
       " <selenium.webdriver.remote.webelement.WebElement (session=\"df5de8a06df1550655bd453a2f5df3f1\", element=\"b01d9545-6585-410d-a988-4a61c8a0c972\")>,\n",
       " <selenium.webdriver.remote.webelement.WebElement (session=\"df5de8a06df1550655bd453a2f5df3f1\", element=\"0bc89bef-dff8-49cd-9da1-599f296e5555\")>,\n",
       " <selenium.webdriver.remote.webelement.WebElement (session=\"df5de8a06df1550655bd453a2f5df3f1\", element=\"fc90b54c-e571-4de5-8318-b14e16e7cc38\")>,\n",
       " <selenium.webdriver.remote.webelement.WebElement (session=\"df5de8a06df1550655bd453a2f5df3f1\", element=\"cde863cd-e138-4c14-86ef-e16db2ac4c48\")>,\n",
       " <selenium.webdriver.remote.webelement.WebElement (session=\"df5de8a06df1550655bd453a2f5df3f1\", element=\"a71e3b15-963f-48b5-8877-63814e822e12\")>,\n",
       " <selenium.webdriver.remote.webelement.WebElement (session=\"df5de8a06df1550655bd453a2f5df3f1\", element=\"07b090ad-04ae-48eb-82af-68b0a588c545\")>,\n",
       " <selenium.webdriver.remote.webelement.WebElement (session=\"df5de8a06df1550655bd453a2f5df3f1\", element=\"086f6f63-d602-45f8-8cc2-7c31ee516142\")>,\n",
       " <selenium.webdriver.remote.webelement.WebElement (session=\"df5de8a06df1550655bd453a2f5df3f1\", element=\"a5181942-a040-4669-b0f8-b78f3347061b\")>]"
      ]
     },
     "execution_count": 11,
     "metadata": {},
     "output_type": "execute_result"
    }
   ],
   "source": [
    "# top 10 job title\n",
    "\n",
    "title = driver.find_elements_by_xpath(\"//a[@class='title fw500 ellipsis']\")\n",
    "title[:10]"
   ]
  },
  {
   "cell_type": "code",
   "execution_count": 12,
   "metadata": {},
   "outputs": [],
   "source": [
    "# looping the title\n",
    "\n",
    "job_title = []\n",
    "\n",
    "for i in title:\n",
    "    job_title.append(i.text)\n",
    "    job_title"
   ]
  },
  {
   "cell_type": "code",
   "execution_count": 13,
   "metadata": {},
   "outputs": [
    {
     "data": {
      "text/plain": [
       "['Data Scientist',\n",
       " 'Senior Data Scientist',\n",
       " 'Lead Data Scientist',\n",
       " 'Data Scientist / Data Analyst -Business Analyst',\n",
       " 'Data Scientist: Advanced Analytics',\n",
       " 'Data Scientist',\n",
       " 'Senior Data Scientist',\n",
       " 'EXL - Senior Data Scientist, 5+ yrs, Mumbai / PUNE / BLR / Chennai',\n",
       " 'Data Scientist',\n",
       " 'Senior Data Scientist/ Tech Lead - SQL/ Python/ Big Data']"
      ]
     },
     "execution_count": 13,
     "metadata": {},
     "output_type": "execute_result"
    }
   ],
   "source": [
    "job_title[:10]"
   ]
  },
  {
   "cell_type": "code",
   "execution_count": 14,
   "metadata": {},
   "outputs": [
    {
     "data": {
      "text/plain": [
       "[<selenium.webdriver.remote.webelement.WebElement (session=\"df5de8a06df1550655bd453a2f5df3f1\", element=\"658275a8-fd61-4db5-9a2b-75b619537329\")>,\n",
       " <selenium.webdriver.remote.webelement.WebElement (session=\"df5de8a06df1550655bd453a2f5df3f1\", element=\"373cda83-3955-47f9-ab2a-9675eff84b22\")>,\n",
       " <selenium.webdriver.remote.webelement.WebElement (session=\"df5de8a06df1550655bd453a2f5df3f1\", element=\"24a9c8c3-881e-4afc-8d54-1c048bfdae8f\")>,\n",
       " <selenium.webdriver.remote.webelement.WebElement (session=\"df5de8a06df1550655bd453a2f5df3f1\", element=\"40c83f85-bd18-4e52-9572-9ffae6a13a8c\")>,\n",
       " <selenium.webdriver.remote.webelement.WebElement (session=\"df5de8a06df1550655bd453a2f5df3f1\", element=\"098d8f66-fa7e-4dd8-9d86-21c215a1186d\")>,\n",
       " <selenium.webdriver.remote.webelement.WebElement (session=\"df5de8a06df1550655bd453a2f5df3f1\", element=\"82241f1a-0a74-4316-9a00-e81f0e5da9ab\")>,\n",
       " <selenium.webdriver.remote.webelement.WebElement (session=\"df5de8a06df1550655bd453a2f5df3f1\", element=\"adc420a5-dc50-473c-a991-08fe6c0cce14\")>,\n",
       " <selenium.webdriver.remote.webelement.WebElement (session=\"df5de8a06df1550655bd453a2f5df3f1\", element=\"849c1308-227e-481b-983d-a20a700efbf2\")>,\n",
       " <selenium.webdriver.remote.webelement.WebElement (session=\"df5de8a06df1550655bd453a2f5df3f1\", element=\"c0c85d6e-ca49-4291-9e5c-d87b5538531d\")>,\n",
       " <selenium.webdriver.remote.webelement.WebElement (session=\"df5de8a06df1550655bd453a2f5df3f1\", element=\"08caee46-5c39-4002-bfe2-480f6ad7db74\")>]"
      ]
     },
     "execution_count": 14,
     "metadata": {},
     "output_type": "execute_result"
    }
   ],
   "source": [
    "# top 10 job location\n",
    "\n",
    "location = driver.find_elements_by_xpath(\"//li[@class='fleft grey-text br2 placeHolderLi location']//span\")\n",
    "location[:10]"
   ]
  },
  {
   "cell_type": "code",
   "execution_count": 15,
   "metadata": {},
   "outputs": [],
   "source": [
    "# looping the job location\n",
    "\n",
    "job_location = []\n",
    "\n",
    "for i in location:\n",
    "    job_location.append(i.text)\n",
    "    job_location"
   ]
  },
  {
   "cell_type": "code",
   "execution_count": 16,
   "metadata": {},
   "outputs": [
    {
     "data": {
      "text/plain": [
       "['Bangalore/Bengaluru',\n",
       " 'Bangalore/Bengaluru',\n",
       " 'Bangalore/Bengaluru',\n",
       " 'Hyderabad/Secunderabad, Chennai, Bangalore/Bengaluru',\n",
       " 'Bangalore/Bengaluru',\n",
       " 'Bangalore/Bengaluru',\n",
       " 'Hyderabad/Secunderabad, Gurgaon/Gurugram, Bangalore/Bengaluru',\n",
       " 'Pune, Chennai, Bangalore/Bengaluru, Delhi / NCR',\n",
       " 'Bangalore/Bengaluru',\n",
       " 'Pune, Chennai, Bangalore/Bengaluru']"
      ]
     },
     "execution_count": 16,
     "metadata": {},
     "output_type": "execute_result"
    }
   ],
   "source": [
    "job_location[:10]"
   ]
  },
  {
   "cell_type": "code",
   "execution_count": 17,
   "metadata": {},
   "outputs": [
    {
     "data": {
      "text/plain": [
       "[<selenium.webdriver.remote.webelement.WebElement (session=\"df5de8a06df1550655bd453a2f5df3f1\", element=\"ab14280e-a031-4746-b3ff-cb861cc804aa\")>,\n",
       " <selenium.webdriver.remote.webelement.WebElement (session=\"df5de8a06df1550655bd453a2f5df3f1\", element=\"bc045e33-7093-4659-b3b6-e3b0f4c5ce46\")>,\n",
       " <selenium.webdriver.remote.webelement.WebElement (session=\"df5de8a06df1550655bd453a2f5df3f1\", element=\"2848f0dc-afae-467e-ae97-23cc83631500\")>,\n",
       " <selenium.webdriver.remote.webelement.WebElement (session=\"df5de8a06df1550655bd453a2f5df3f1\", element=\"b6d23377-768b-4456-965b-75b4f7cdafb8\")>,\n",
       " <selenium.webdriver.remote.webelement.WebElement (session=\"df5de8a06df1550655bd453a2f5df3f1\", element=\"9f043895-6db0-4d7f-b54b-1a4d7ae22798\")>,\n",
       " <selenium.webdriver.remote.webelement.WebElement (session=\"df5de8a06df1550655bd453a2f5df3f1\", element=\"e0874a61-8884-4712-afa1-7ceba1eaac1b\")>,\n",
       " <selenium.webdriver.remote.webelement.WebElement (session=\"df5de8a06df1550655bd453a2f5df3f1\", element=\"0d653bd3-f06c-43b1-987b-0dfa01b937c7\")>,\n",
       " <selenium.webdriver.remote.webelement.WebElement (session=\"df5de8a06df1550655bd453a2f5df3f1\", element=\"3453a5a7-677e-444d-ac0a-be69948da945\")>,\n",
       " <selenium.webdriver.remote.webelement.WebElement (session=\"df5de8a06df1550655bd453a2f5df3f1\", element=\"27cbd97d-27d3-4bdf-a214-0ecaa6db2aac\")>,\n",
       " <selenium.webdriver.remote.webelement.WebElement (session=\"df5de8a06df1550655bd453a2f5df3f1\", element=\"ac95d2f5-17e6-4d9b-a1b7-594d7bb4f949\")>]"
      ]
     },
     "execution_count": 17,
     "metadata": {},
     "output_type": "execute_result"
    }
   ],
   "source": [
    "# top 10 company name\n",
    "\n",
    "companies = driver.find_elements_by_xpath(\"//a[@class='subTitle ellipsis fleft']\")\n",
    "companies[:10]"
   ]
  },
  {
   "cell_type": "code",
   "execution_count": 18,
   "metadata": {},
   "outputs": [],
   "source": [
    "# looping 10 companies name\n",
    "\n",
    "company_name = []\n",
    "\n",
    "for i in companies:\n",
    "    company_name.append(i.text)\n",
    "    company_name"
   ]
  },
  {
   "cell_type": "code",
   "execution_count": 19,
   "metadata": {},
   "outputs": [
    {
     "data": {
      "text/plain": [
       "['Flipkart Internet Private Limited',\n",
       " 'Flipkart Internet Private Limited',\n",
       " 'bd',\n",
       " 'Inflexion Analytix Private Limited',\n",
       " 'IBM India Pvt. Limited',\n",
       " 'IBM India Pvt. Limited',\n",
       " 'inVentiv International Pharma Services Pvt. Ltd.',\n",
       " 'EXL Service',\n",
       " 'Applied Materials',\n",
       " 'Exploro Solutions']"
      ]
     },
     "execution_count": 19,
     "metadata": {},
     "output_type": "execute_result"
    }
   ],
   "source": [
    "company_name[:10]"
   ]
  },
  {
   "cell_type": "code",
   "execution_count": 21,
   "metadata": {},
   "outputs": [],
   "source": [
    "naukri_urls = []\n",
    "for i in driver.find_elements_by_xpath(\"//a[@class='title fw500 ellipsis']\"):\n",
    "    naukri_urls.append(i.get_attribute(\"href\"))"
   ]
  },
  {
   "cell_type": "code",
   "execution_count": 28,
   "metadata": {},
   "outputs": [
    {
     "data": {
      "text/plain": [
       "['https://www.naukri.com/job-listings-data-scientist-flipkart-internet-private-limited-bangalore-bengaluru-0-to-5-years-080721904425?src=jobsearchDesk&sid=16259397103177598&xp=1&px=1',\n",
       " 'https://www.naukri.com/job-listings-senior-data-scientist-flipkart-internet-private-limited-bangalore-bengaluru-5-to-10-years-090721908235?src=jobsearchDesk&sid=16259397103177598&xp=2&px=1',\n",
       " 'https://www.naukri.com/job-listings-lead-data-scientist-bd-bangalore-bengaluru-2-to-7-years-090721501722?src=jobsearchDesk&sid=16259397103177598&xp=3&px=1',\n",
       " 'https://www.naukri.com/job-listings-data-scientist-data-analyst-business-analyst-inflexion-analytix-private-limited-hyderabad-secunderabad-chennai-bangalore-bengaluru-0-to-3-years-020721003625?src=jobsearchDesk&sid=16259397103177598&xp=4&px=1',\n",
       " 'https://www.naukri.com/job-listings-data-scientist-advanced-analytics-ibm-india-pvt-limited-bangalore-bengaluru-5-to-10-years-090721906161?src=jobsearchDesk&sid=16259397103177598&xp=5&px=1',\n",
       " 'https://www.naukri.com/job-listings-data-scientist-ibm-india-pvt-limited-bangalore-bengaluru-3-to-6-years-080721906014?src=jobsearchDesk&sid=16259397103177598&xp=6&px=1',\n",
       " 'https://www.naukri.com/job-listings-senior-data-scientist-inventiv-international-pharma-services-pvt-ltd-hyderabad-secunderabad-gurgaon-gurugram-bangalore-bengaluru-3-to-6-years-090721000064?src=jobsearchDesk&sid=16259397103177598&xp=7&px=1',\n",
       " 'https://www.naukri.com/job-listings-exl-senior-data-scientist-5-yrs-mumbai-pune-blr-chennai-exl-service-pune-chennai-bangalore-bengaluru-delhi-ncr-5-to-10-years-080721005255?src=jobsearchDesk&sid=16259397103177598&xp=8&px=1',\n",
       " 'https://www.naukri.com/job-listings-data-scientist-applied-materials-india-private-limited-bangalore-bengaluru-5-to-10-years-090721902434?src=jobsearchDesk&sid=16259397103177598&xp=9&px=1',\n",
       " 'https://www.naukri.com/job-listings-senior-data-scientist-tech-lead-sql-python-big-data-exploro-solutions-pune-chennai-bangalore-bengaluru-5-to-10-years-080721908426?src=jobsearchDesk&sid=16259397103177598&xp=10&px=1',\n",
       " 'https://www.naukri.com/job-listings-data-scientist-center-for-study-of-science-technology-and-policy-bangalore-bengaluru-2-to-4-years-080721501346?src=jobsearchDesk&sid=16259397103177598&xp=11&px=1',\n",
       " 'https://www.naukri.com/job-listings-data-scientist-oracle-india-pvt-ltd-noida-bangalore-bengaluru-5-to-9-years-010621004567?src=jobsearchDesk&sid=16259397103177598&xp=12&px=1',\n",
       " 'https://www.naukri.com/job-listings-data-scientist-natwest-markets-bangalore-bengaluru-3-to-6-years-090721501813?src=jobsearchDesk&sid=16259397103177598&xp=13&px=1',\n",
       " 'https://www.naukri.com/job-listings-data-scientist-vision-beyond-resources-india-private-limited-bangalore-bengaluru-mumbai-all-areas-10-to-19-years-080721006482?src=jobsearchDesk&sid=16259397103177598&xp=14&px=1',\n",
       " 'https://www.naukri.com/job-listings-data-scientist-2-gojek-tech-bangalore-bengaluru-4-to-8-years-090721501896?src=jobsearchDesk&sid=16259397103177598&xp=15&px=1',\n",
       " 'https://www.naukri.com/job-listings-data-scientist-2-go-jek-india-bangalore-bengaluru-6-to-11-years-090721501884?src=jobsearchDesk&sid=16259397103177598&xp=16&px=1',\n",
       " 'https://www.naukri.com/job-listings-data-scientist-blue-ocean-catalyst-private-limited-bangalore-bengaluru-2-to-6-years-080721500490?src=jobsearchDesk&sid=16259397103177598&xp=17&px=1',\n",
       " 'https://www.naukri.com/job-listings-hiring-data-scientist-ihx-private-limited-bangalore-bengaluru-4-to-6-years-090721002695?src=jobsearchDesk&sid=16259397103177598&xp=18&px=1',\n",
       " 'https://www.naukri.com/job-listings-dhs-hiring-for-data-scientist-india-deliverhealth-solutions-bangalore-bengaluru-1-to-6-years-080721003439?src=jobsearchDesk&sid=16259397103177598&xp=19&px=1',\n",
       " 'https://www.naukri.com/job-listings-data-scientist-artificial-intelligence-ibm-india-pvt-limited-bangalore-bengaluru-4-to-8-years-080721906686?src=jobsearchDesk&sid=16259397103177598&xp=20&px=1']"
      ]
     },
     "execution_count": 28,
     "metadata": {},
     "output_type": "execute_result"
    }
   ],
   "source": [
    "naukri_urls[:20]"
   ]
  },
  {
   "cell_type": "code",
   "execution_count": 24,
   "metadata": {},
   "outputs": [],
   "source": [
    "full_job_description = []"
   ]
  },
  {
   "cell_type": "code",
   "execution_count": 34,
   "metadata": {},
   "outputs": [],
   "source": [
    "# fetching 10 full job description\n",
    "\n",
    "for i in naukri_urls[:15]:\n",
    "    driver.get(i)\n",
    "    time.sleep(3)\n",
    "    \n",
    "    try:\n",
    "        full_job_desc = driver.find_element_by_xpath(\"//section[@class='job-desc']\")\n",
    "        full_job_description.append(full_job_desc.text)\n",
    "    except:\n",
    "        full_job_description.append('_')"
   ]
  },
  {
   "cell_type": "code",
   "execution_count": 35,
   "metadata": {},
   "outputs": [
    {
     "data": {
      "text/plain": [
       "['Job description\\nAbout the team\\nThe Data Sciences team at Flipkart is on a mission to build systemic intelligence across Flipkart products and the overarching ecosystem. Being India’s largest online marketplace and the most used e-commerce app in India, places Flipkart in a unique position and gives this team a distinctive opportunity — to decipher the richest possible data about Indian consumers. Add the dimension of a vast product selection and a proliferating seller base to that and what you get is a multitude of disruptive possibilities.\\nIn a nutshell, the terabytes of daily data compounded in Flipkart’s data centres offer a dynamic mix of numerical, structured, unstructured, image- and audio-based statistics, all set to define shopping in the future.\\nAt Flipkart, the work of a Data Scientist involves collaboration with the engineering and product teams to ensure a holistic outcome at the product delivery. The flat functional structure within Flipkart engineering enables data scientists to focus on excellence and create a deep sense of ownership at every stage of work.\\nIf you aspire to redefine ‘state-of-the-art’ and create an impact on India’s online shopping landscape, Flipkart’s Data Science team can offer you the right podium to solve challenging real-world problems and take a giant leap in your career as a Data Scientist.\\nAbout the role\\nA Data Scientist in Flipkart is required to develop and implement ML or statistical models for the various projects formulated from business and product views. The responsible person should be able to communicate and collaborate with multiple stakeholders representing various teams to better understand the problem at hand. At a fundamental level, the responsible person should be able to dive deep into a problem statement and extract interesting insights as well as solutions. In addition to being a quick learner, a DS is expected to get involved in active research projects with a view to publish them.\\nWhat you’ll do\\nUnderstand Business and product needs and use ML or statistical techniques to provide solutions to those in a time bound fashion.\\nCommunicate and collaborate with business and product teams to have a better understanding of the project so as to be able to drive it within the DS team.\\nGet involved in in-depth exploration of solutions using various methods and extract statistical insights from data as well as models, which are to be shared with business and product teams.\\nActive participation in working with new methods and learning new technologies, both in the area of data science and data engineering.\\nWhat you’ll need:\\nB.Tech or M.Tech in CS or Statistics with experience ranging from 0 to 5 years through publications/deployed solutions/projects.\\nDeep understanding of the algorithms (theory and application) that they have worked on.\\nGood grasp on the theory and practise of basic statistical models such as regression or clustering and general ML algorithms such as tree, Random Forests, SVM, Boosting, Neural Networks etc. It is not expected that the candidate has actually worked on all these modules.\\nStrong proficiency in Python or R is necessary.\\nSkills Required :\\nUnderstanding of text representation techniques\\nDesirable Skills :\\nFamiliarity with Big Data frameworks – Spark, Hadoop\\nRoleData Analyst\\nIndustry TypeInternet\\nFunctional AreaAnalytics & Business Intelligence\\nEmployment TypeFull Time, Permanent\\nRole CategoryAnalytics & BI\\nEducation\\nUG :B.Tech/B.E. in Computers\\nPG :M.Tech in Computers\\nKey Skills\\nPython SVMData ScientistRandom Forests Neural Networks Big Data frameworks Spark BoostingML algorithms Hadoop',\n",
       " 'Job description\\nAbout the role\\nA Senior Data Scientist in Flipkart is required to drive research and development of various Machine Learning and Statistical modules, keeping business goals and product planning at the front. The responsible person should be able to communicate and collaborate with multiple stakeholders representing various teams. The crux of the work is defined by developing innovative problem statements as well as end to end implementation of state of the art ML and statistical algorithms. The candidate is additionally expected to work proactively with a team of junior Data Scientists and guide them in various research projects with a view to publish their findings.\\nWhat you’ll do\\nUnderstand Business and product needs and use advanced modeling techniques to provide solutions to those in a time bound fashion.\\nDevelop research and hypothesis on problem statements around on-going work to provide additional value to the organisation.\\nKeep the team updated on current trends in the area of ML and Statistics, thereby ensuring that state of the art solutions are provided for the business problems.\\nRegular collaboration with various stakeholders from business or product to better understand the vision and gain insights which is to be leveraged for providing better solutions.\\n\\nWhat you’ll need:\\nB.Tech in CS or Statistics with demonstrable experience of over 8 years through publications/deployed solutions/projects.\\nM.Tech or PhD in CS or Statistics with demonstrable experience of over 5 years through publications/deployed solutions/projects.\\nA deep understanding of applied statistical analysis and predictive modeling is desired.\\nThe candidate must have a thorough grasp of the theory and application of broad ML algorithms namely, but not limited to regression, SVM, Tree, Random Forests, Boosting, Neural Network, clustering, forecasting, deep learning, text analysis etc. It is not expected that the candidate has actually worked on all these modules.\\nStrong proficiency in Python or R is necessary\\nRoleData Analyst\\nIndustry TypeInternet\\nFunctional AreaAnalytics & Business Intelligence\\nEmployment TypeFull Time, Permanent\\nRole CategoryAnalytics & BI\\nEducation\\nUG :B.Sc in Statistics, B.Tech/B.E. in Computers, B.A in Statistics\\nPG :M.Tech in Computers, MS/M.Sc(Science) in Statistics, M.A in Statistics\\nDoctorate :Ph.D/Doctorate in Statistics, Computers\\nKey Skills\\nData ScienceRSVMClusteringMachine LearningStatistical AnalysisStatisticsDeep LearningPython',\n",
       " 'Job description\\n\\nEvaluating business requirements and developing compelling user stories in collaboration with business stakeholders across various functions and regions\\nCollecting, interpreting, preparing and modelling data to provide actionable insights\\nPrototyping advanced data analytics solutions for presentation to business partners and stakeholders\\nApplying predictive analytics and machine learning methods and techniques appropriately to address business requirements\\nProvide expertise to guide business stakeholders in identifying opportunities for the use of BD s data assets for the purpose of advanced data analytics\\nWork closely with data engineering and DataOps peers to productionalize advanced data analytics use cases\\nQualifications\\nMaster s degree in STEM field or equivalent demonstrated work experience\\nExperience with Python, R, Hadoop, HIVE, SPARK, Jupyter and related advanced analytics / machine learning libraries (Scikitlearn, Tensorflow, Keras, )\\nMinimum 2 years of relevant work experience\\nAbility to translate complex solutions to a non-technical audience (storytelling visualization)\\nExpertise in machine learning, neural networks, clustering, classification, regression and other common advanced analytics methods and techniques\\nMature competency for critical thinking, problem solving, working with ambiguity, communications and collaboration\\nPreferred\\nExperience with technologies related to data preparation, processing optimization (e.g. Azure, HQL, SPARK SQL)\\nExperience with data visualization tools (Power BI)\\nFlexibility to accommodate meetings with international stakeholders in their respective time-zone\\nRoleAssociate/Senior Associate -(NonTechnical)\\nIndustry TypeMedical Services / Hospital\\nFunctional AreaITES, BPO, KPO, LPO, Customer Service, Operations\\nEmployment TypeFull Time, Permanent\\nRole CategoryVoice\\nEducation\\nUG :Any Graduate\\nPG :Post Graduation Not Required\\nKey Skills\\nadvanced analyticsNeural networksMachine learningHealthcareGeneticsData analyticsdata visualizationPredictive analyticsSQLBusiness operations',\n",
       " \"Job description\\nJob description\\n\\nJob Role: Data Scientist/Data Analyst /Business Analyst\\n\\nLocation: Chennai/Bangalore/Hyderabad\\n\\nGreetings from CAIA - Center for Artificial Intelligence & Advanced Analytics\\n43% of companies experienced a high deficit of skilled resources with Advanced Analytical skills and AI implementing capabilities in the year 2020. CAIA gives you a great opportunity to enter the world of future technologies and Innovations- Data Science, Analytics, AI, Data Visualization, and Cloud Computing.\\n\\nWhile 2020 was a year like no other, we are living in an interesting times where data is reshaping the world, and businesses are rapidly adopting technology to gain an edge over others. Hence, there's a substantial increase in demand for technology professionals who can implement systems in data science, machine learning, and AI in Tier 1 and Tier 2 organizations working closely with us.\\n\\nTo help you build a sustainable career we would like you to utilize data, software and Analytical approaches in Data Science and AI to upskill and get recruited into an organization appreciating your skilling journey.\\nApplications invited from all Freshers and experienced candidates (0-3 yrs) aspiring to make a career in Artificial Intelligence and Advanced Analytics and Data Science.\\nIf you wish to make a shift in your career or undergo a career transition, upskilling is essential since it allows you to learn more about the domain and acquire the required skills.\\n\\nCall to schedule interview Monday -Saturday from 10:00 am to 7 Pm\\n\\nKoodesh B- +91 73395 11107\\nManigandan B - +91 93444 57360\\n\\nEmail :\\n\\ncareerguidance.koodes@centerforaia.com\\nmanigandan@centerforaia.com\\n\\nWhat is needed from you?\\nFreshers who wish to start their career in Analytics and AI and professionals who wish to\\nupskill or change their domain to analytics and emerging technologies are free to apply.\\nEducational background in any one of the following- BE/B.Tech, ME/M Tech, MSc, BSc/MSc Math's and Statistics, B Com, BCA, BSc CS, BSC IT, MSC IT, MCA\\nSkills relating to Mathematics/Statistics.\\nNatural passion towards numbers, business, coding, Analytics, and Artificial Intelligence, Machine Learning, visualization\\nGood verbal and written communication skills\\nAbility to understand domains in businesses across various sectors\\n\\nSelection procedure includes\\nAptitude Test & Communication Exam - Online / Offline\\nSQL/Python test - Online / Offline\\nCandidates who clear the above will have one-one discussions with our Career Guidance Manager for further evaluation and processing of your Resume.\\n\\nAll the Shortlisted candidates will be eligible to continue the corporate training with CAIA\\nWhat you can expect from us?\\n\\nYou will get trained on the following modules for a period of 12-14 weeks:\\nSQL & PLSQL\\nData Wrangling using Python\\nData Visualization Using Power-BI\\nStatistics for Machine Learning\\nArtificial Intelligence, Data Interpretation\\nSupervised & Unsupervised Learning,\\nNLP & Deep Learning\\nCloud Data Lake\\nBusiness intelligence & Data Visualization\\nSimulation Projects\\nExpected Outcome?\\n\\nAt the end of the Training you are expected to be well versed with the following:\\nAnalysis of large and complex data sets from multiple sources\\nDevelopment and evaluation of data analytics models, algorithms, and solutions\\nUnderstanding/implementation of ML algorithms, performance tuning, and reporting\\nImplementation of algorithms to mine targeted data and the ability to convert data into a business story\\nTranslation of business requirements into technical requirements; Data extraction, preparation, and transformation\\nIdentification, development, and implementation of statistical techniques and algorithms that address business challenges and adds value to the organization\\nRequirement Analysis and communication of findings in the form of a meaningful story with the stakeholders\\nFinding analytical solutions to abstract business issues.\\nApply objective analysis of facts before coming to a conclusion\\n\\nRoleData Analyst\\nIndustry TypeIT Services & Consulting\\nFunctional AreaAnalytics & Business Intelligence\\nEmployment TypeFull Time, Permanent\\nRole CategoryAnalytics & BI\\nEducation\\nUG :B.Tech/B.E. in Any Specialization, B.Sc in Any Specialization, Any Graduate, B.Com in Any Specialization, BCA in Any Specialization, B.B.A/ B.M.S in Any Specialization\\nKey Skills\\nBusiness IntelligencePower BiData WranglingArtificial IntelligenceBig DataITMachine LearningStatisticsAnalyticsDeep LearningBusiness AnalysisSQLData ScienceNLPCloud ComputingData AnalysisData VisualizationData WarehousingData AnalyticsETLPython\",\n",
       " '_',\n",
       " '_',\n",
       " '_',\n",
       " 'Job description\\nMinimum Qualifications: (Specify if degree required & type, number of years of prior experience, certifications, etc.)\\nPost Graduate or MBA (preferred) OR Graduates in Engineering / Mathematics / Operations Research / Science / Statistics\\nWith atleast 5+ years experience in analytics using SQL,SAS, R or Python, basic statistical concepts and analyzing data & interpreting results to the business\\n\\n\\nProficient in data wrangling using SQL and libraries of R,Python such as Dplyr/Pandas, Pyspark etc\\nProficient in basic statistical concepts and analyzing data & interpreting results to the business\\nApplied Machine learning experience or experience in text mining, imaging mining, screen scraping and other big data techniques will be a plus\\nResponsibilities and Essential Functions:\\nAnalytics Practice within SCIO:\\nAbility to design data driven solutions and Frameworks (Descriptive and Predictive) from scratch & consult in a leadership capacity on potential Solutions/Storyboards and POCs\\nDrives business metrics that add to the top-line and / or profitability for SCIOs revenue optimization business\\nPerform quantitative and qualitative analysis like (raw) data analysis, statistical modeling, data deep-dives etc. to acquire insights from data\\nDevelops Descriptive (reporting) through to Prescriptive Analytics\\nTranslates insights into an analysis reports and communicate insights back to the stakeholders\\nApplies next-gen technology to all parts of the analytics lifecycle from data extraction, exploratory data analysis, predictive modeling, Data Mining and information extraction from unstructured data to visualization & story boarding\\nSpecial Skills and Qualifications:\\nThis role would suit candidates with the following attributes:\\nFlexibility to work with different countries (time-zones), groups, and business environment\\nShould be versatile and ready to learn and apply new technologies, techniques in data science\\nAbility to break down a vague business problem into structured data analysis approaches\\nAbility to work with incomplete information and take judgment-driven decisions based on experience\\nShould have good organizational and people skills\\nShould have good communication able to collaborate with onshore stakeholders\\nStrong aptitude to learn/understand health care data / databases\\nRoleAnalytics Manager\\nIndustry TypeAnalytics / KPO / Research\\nFunctional AreaAnalytics & Business Intelligence\\nEmployment TypeFull Time, Permanent\\nRole CategoryAnalytics & BI\\nEducation\\nUG :B.Tech/B.E. in Any Specialization\\nPG :M.Tech in Any Specialization, MS/M.Sc(Science) in Any Specialization, MBA/PGDM in Any Specialization\\nKey Skills\\nDats ScientistMachine LearningPython\\nData ScienceRNLPSQL\\nSkills highlighted with ‘‘ are preferred keyskills',\n",
       " '_',\n",
       " 'Job description\\nResponsibilities :\\n\\n- Lead a team of data scientists, machine learning engineers and big data specialists\\n\\n- Be the main point of contact for the customers\\n\\n- Lead data mining and collection procedures\\n\\n- Ensure data quality and integrity\\n\\n- Interpret and analyze data problems\\n\\n- Conceive, plan and prioritize data projects\\n\\n- Build analytic systems and predictive models\\n\\n- Test performance of data-driven products\\n\\n- Visualize data and create reports\\n\\n- Experiment with new models and techniques\\n\\n- Align data projects with organizational goals\\n\\nRequirements (please read carefully) :\\n\\n- Very strong in statistics fundamentals. Not all data is Big Data. The candidate should be able to derive statistical insights from very few data points if required, using traditional statistical methods.\\n\\n- Education - no bar, but preferably from a Statistics academic background (eg MSc-Stats, MSc-Econometrics, etc), given the first point\\n\\n- Strong expertise in Python (any other statistical languages/tools like R, SAS, SPSS, etc are just optional, but Python is absolutely essential). If the person is very strong in Python, but has almost nil knowledge in the other statistical tools, he/she will still be considered a good candidate for this role.\\n\\n- Proven experience as a Data Scientist or similar role, for about 7-8 years\\n\\n- Solid understanding of machine learning and AI concepts, especially wrt choice of apt candidate algorithms for a use case, and model evaluation.\\n\\n- Good expertise in writing SQL queries (should not be dependent upon anyone else for pulling in data, joining them, data wrangling etc)\\n\\n- Knowledge of data management and visualization techniques --- more from a Data Science perspective.\\n\\n- Should be able to grasp business problems, ask the right questions to better understand the problem breadthwise /depthwise, design apt solutions, and explain that to the business stakeholders.\\n\\n- Again, the last point above is extremely important --- should be able to identify solutions that can be explained to stakeholders, and furthermore, be able to present them in simple, direct language.\\nRoleData Analyst\\nIndustry TypeIT Services & Consulting\\nFunctional AreaAnalytics & Business Intelligence\\nEmployment TypeFull Time, Permanent\\nRole CategoryAnalytics & BI\\nEducation\\nUG :B.A in Statistics, B.Sc in Statistics\\nPG :MS/M.Sc(Science) in Statistics\\nDoctorate :Doctorate Not Required\\nKey Skills\\nData ScienceSASData ScientistArtificial IntelligenceData ManagementBig DataData VisualizationMachine LearningPythonSQL']"
      ]
     },
     "execution_count": 35,
     "metadata": {},
     "output_type": "execute_result"
    }
   ],
   "source": [
    "full_job_description[:10]"
   ]
  },
  {
   "cell_type": "code",
   "execution_count": 38,
   "metadata": {},
   "outputs": [
    {
     "name": "stdout",
     "output_type": "stream",
     "text": [
      "20 20 20\n"
     ]
    }
   ],
   "source": [
    "# checking the length\n",
    "\n",
    "print(len(job_title),len(job_location),len(company_name))"
   ]
  },
  {
   "cell_type": "code",
   "execution_count": 41,
   "metadata": {},
   "outputs": [
    {
     "data": {
      "text/html": [
       "<div>\n",
       "<style scoped>\n",
       "    .dataframe tbody tr th:only-of-type {\n",
       "        vertical-align: middle;\n",
       "    }\n",
       "\n",
       "    .dataframe tbody tr th {\n",
       "        vertical-align: top;\n",
       "    }\n",
       "\n",
       "    .dataframe thead th {\n",
       "        text-align: right;\n",
       "    }\n",
       "</style>\n",
       "<table border=\"1\" class=\"dataframe\">\n",
       "  <thead>\n",
       "    <tr style=\"text-align: right;\">\n",
       "      <th></th>\n",
       "      <th>Title</th>\n",
       "      <th>Location</th>\n",
       "      <th>Company_Nmae</th>\n",
       "    </tr>\n",
       "  </thead>\n",
       "  <tbody>\n",
       "    <tr>\n",
       "      <th>0</th>\n",
       "      <td>Data Scientist</td>\n",
       "      <td>Bangalore/Bengaluru</td>\n",
       "      <td>Flipkart Internet Private Limited</td>\n",
       "    </tr>\n",
       "    <tr>\n",
       "      <th>1</th>\n",
       "      <td>Senior Data Scientist</td>\n",
       "      <td>Bangalore/Bengaluru</td>\n",
       "      <td>Flipkart Internet Private Limited</td>\n",
       "    </tr>\n",
       "    <tr>\n",
       "      <th>2</th>\n",
       "      <td>Lead Data Scientist</td>\n",
       "      <td>Bangalore/Bengaluru</td>\n",
       "      <td>bd</td>\n",
       "    </tr>\n",
       "    <tr>\n",
       "      <th>3</th>\n",
       "      <td>Data Scientist / Data Analyst -Business Analyst</td>\n",
       "      <td>Hyderabad/Secunderabad, Chennai, Bangalore/Ben...</td>\n",
       "      <td>Inflexion Analytix Private Limited</td>\n",
       "    </tr>\n",
       "    <tr>\n",
       "      <th>4</th>\n",
       "      <td>Data Scientist: Advanced Analytics</td>\n",
       "      <td>Bangalore/Bengaluru</td>\n",
       "      <td>IBM India Pvt. Limited</td>\n",
       "    </tr>\n",
       "    <tr>\n",
       "      <th>5</th>\n",
       "      <td>Data Scientist</td>\n",
       "      <td>Bangalore/Bengaluru</td>\n",
       "      <td>IBM India Pvt. Limited</td>\n",
       "    </tr>\n",
       "    <tr>\n",
       "      <th>6</th>\n",
       "      <td>Senior Data Scientist</td>\n",
       "      <td>Hyderabad/Secunderabad, Gurgaon/Gurugram, Bang...</td>\n",
       "      <td>inVentiv International Pharma Services Pvt. Ltd.</td>\n",
       "    </tr>\n",
       "    <tr>\n",
       "      <th>7</th>\n",
       "      <td>EXL - Senior Data Scientist, 5+ yrs, Mumbai / ...</td>\n",
       "      <td>Pune, Chennai, Bangalore/Bengaluru, Delhi / NCR</td>\n",
       "      <td>EXL Service</td>\n",
       "    </tr>\n",
       "    <tr>\n",
       "      <th>8</th>\n",
       "      <td>Data Scientist</td>\n",
       "      <td>Bangalore/Bengaluru</td>\n",
       "      <td>Applied Materials</td>\n",
       "    </tr>\n",
       "    <tr>\n",
       "      <th>9</th>\n",
       "      <td>Senior Data Scientist/ Tech Lead - SQL/ Python...</td>\n",
       "      <td>Pune, Chennai, Bangalore/Bengaluru</td>\n",
       "      <td>Exploro Solutions</td>\n",
       "    </tr>\n",
       "  </tbody>\n",
       "</table>\n",
       "</div>"
      ],
      "text/plain": [
       "                                               Title  \\\n",
       "0                                     Data Scientist   \n",
       "1                              Senior Data Scientist   \n",
       "2                                Lead Data Scientist   \n",
       "3    Data Scientist / Data Analyst -Business Analyst   \n",
       "4                 Data Scientist: Advanced Analytics   \n",
       "5                                     Data Scientist   \n",
       "6                              Senior Data Scientist   \n",
       "7  EXL - Senior Data Scientist, 5+ yrs, Mumbai / ...   \n",
       "8                                     Data Scientist   \n",
       "9  Senior Data Scientist/ Tech Lead - SQL/ Python...   \n",
       "\n",
       "                                            Location  \\\n",
       "0                                Bangalore/Bengaluru   \n",
       "1                                Bangalore/Bengaluru   \n",
       "2                                Bangalore/Bengaluru   \n",
       "3  Hyderabad/Secunderabad, Chennai, Bangalore/Ben...   \n",
       "4                                Bangalore/Bengaluru   \n",
       "5                                Bangalore/Bengaluru   \n",
       "6  Hyderabad/Secunderabad, Gurgaon/Gurugram, Bang...   \n",
       "7    Pune, Chennai, Bangalore/Bengaluru, Delhi / NCR   \n",
       "8                                Bangalore/Bengaluru   \n",
       "9                 Pune, Chennai, Bangalore/Bengaluru   \n",
       "\n",
       "                                       Company_Nmae  \n",
       "0                 Flipkart Internet Private Limited  \n",
       "1                 Flipkart Internet Private Limited  \n",
       "2                                                bd  \n",
       "3                Inflexion Analytix Private Limited  \n",
       "4                            IBM India Pvt. Limited  \n",
       "5                            IBM India Pvt. Limited  \n",
       "6  inVentiv International Pharma Services Pvt. Ltd.  \n",
       "7                                       EXL Service  \n",
       "8                                 Applied Materials  \n",
       "9                                 Exploro Solutions  "
      ]
     },
     "execution_count": 41,
     "metadata": {},
     "output_type": "execute_result"
    }
   ],
   "source": [
    "# creating dataframe\n",
    "\n",
    "job = pd.DataFrame({})\n",
    "job['Title']=job_title\n",
    "job['Location']=job_location\n",
    "job['Company_Nmae']=company_name\n",
    "job[:10]"
   ]
  },
  {
   "cell_type": "markdown",
   "metadata": {},
   "source": [
    "# Q3: In this question you have to scrape data using the filters available on the webpage as shown below:\n",
    "        \n",
    "You have to use the location and salary filter.\n",
    "You have to scrape data for “Data Scientist” designation for first 10 job results.\n",
    "You have to scrape the job-title, job-location, company_name, experience_required.\n",
    "The location filter to be used is “Delhi/NCR”\n",
    "The salary filter to be used is “3-6” lakhs\n",
    "The task will be done as shown in the below steps:\n",
    "1. first get the webpage https://www.naukri.com/\n",
    "2. Enter “Data Scientist” in “Skill,Designations,Companies” field        \n",
    "3. Then click the search button.\n",
    "4. Then apply the location filter and salary filter by checking the respective boxes\n",
    "4. Then scrape the data for the first 10 jobs results you get.\n",
    "5. Finally create a dataframe of the scraped data.\n",
    "Note- All of the above steps have to be done in code. No step is to be done manually."
   ]
  },
  {
   "cell_type": "code",
   "execution_count": 61,
   "metadata": {},
   "outputs": [
    {
     "name": "stdout",
     "output_type": "stream",
     "text": [
      "Requirement already satisfied: selenium in c:\\users\\sunil gupta\\anaconda3\\lib\\site-packages (3.141.0)\n",
      "Requirement already satisfied: urllib3 in c:\\users\\sunil gupta\\anaconda3\\lib\\site-packages (from selenium) (1.25.11)\n"
     ]
    }
   ],
   "source": [
    "# LETS FIRST INSTALL THE SELENIUM LIBRARY\n",
    "!pip install selenium "
   ]
  },
  {
   "cell_type": "code",
   "execution_count": 62,
   "metadata": {},
   "outputs": [],
   "source": [
    "# let import all the libraries\n",
    "import selenium \n",
    "import pandas as pd\n",
    "from selenium import webdriver"
   ]
  },
  {
   "cell_type": "code",
   "execution_count": 63,
   "metadata": {},
   "outputs": [],
   "source": [
    "# lets connect to webdriver\n",
    "driver = webdriver.Chrome(\"chromedriver.exe\")"
   ]
  },
  {
   "cell_type": "code",
   "execution_count": 64,
   "metadata": {},
   "outputs": [],
   "source": [
    "url = \"https://www.naukri.com/\"\n",
    "driver.get(url)"
   ]
  },
  {
   "cell_type": "code",
   "execution_count": 65,
   "metadata": {},
   "outputs": [],
   "source": [
    "# how to search job\n",
    "\n",
    "search_job = driver.find_element_by_id('qsb-keyword-sugg')"
   ]
  },
  {
   "cell_type": "code",
   "execution_count": 66,
   "metadata": {},
   "outputs": [],
   "source": [
    "# writing on search bar\n",
    "search_job.send_keys('Data Scientist')"
   ]
  },
  {
   "cell_type": "code",
   "execution_count": 67,
   "metadata": {},
   "outputs": [
    {
     "data": {
      "text/plain": [
       "<selenium.webdriver.remote.webelement.WebElement (session=\"1eb0148637f6bd2c5bb514087545915c\", element=\"8c6238b0-e2a4-4348-a4dc-c7e34219d8ba\")>"
      ]
     },
     "execution_count": 67,
     "metadata": {},
     "output_type": "execute_result"
    }
   ],
   "source": [
    "# how to click on button\n",
    "\n",
    "search_button = driver.find_element_by_xpath(\"//button[@class='btn']\")\n",
    "search_button                                             "
   ]
  },
  {
   "cell_type": "code",
   "execution_count": 68,
   "metadata": {},
   "outputs": [],
   "source": [
    "# click the button\n",
    "\n",
    "search_button.click()"
   ]
  },
  {
   "cell_type": "code",
   "execution_count": 71,
   "metadata": {},
   "outputs": [
    {
     "data": {
      "text/plain": [
       "<selenium.webdriver.remote.webelement.WebElement (session=\"1eb0148637f6bd2c5bb514087545915c\", element=\"7a4fe07e-0938-4407-8ca6-03116b01ae58\")>"
      ]
     },
     "execution_count": 71,
     "metadata": {},
     "output_type": "execute_result"
    }
   ],
   "source": [
    "# how to search location\n",
    "\n",
    "location_12 = driver.find_element_by_xpath('/html/body/div[1]/div[3]/div[2]/section[1]/div[2]/div[3]/div[2]/div[3]/label/i')\n",
    "location_12"
   ]
  },
  {
   "cell_type": "code",
   "execution_count": 73,
   "metadata": {},
   "outputs": [],
   "source": [
    "# click the location\n",
    "\n",
    "location_12.click()"
   ]
  },
  {
   "cell_type": "code",
   "execution_count": 76,
   "metadata": {},
   "outputs": [
    {
     "data": {
      "text/plain": [
       "<selenium.webdriver.remote.webelement.WebElement (session=\"1eb0148637f6bd2c5bb514087545915c\", element=\"3d5c0570-8175-4182-9364-bb2cb4c04542\")>"
      ]
     },
     "execution_count": 76,
     "metadata": {},
     "output_type": "execute_result"
    }
   ],
   "source": [
    "# how to search salary filter\n",
    "\n",
    "salary_12 = driver.find_element_by_xpath('/html/body/div[1]/div[3]/div[2]/section[1]/div[2]/div[4]/div[2]/div[1]/label/i')\n",
    "salary_12"
   ]
  },
  {
   "cell_type": "code",
   "execution_count": 77,
   "metadata": {},
   "outputs": [],
   "source": [
    "salary_12.click()"
   ]
  },
  {
   "cell_type": "code",
   "execution_count": 78,
   "metadata": {},
   "outputs": [
    {
     "data": {
      "text/plain": [
       "[<selenium.webdriver.remote.webelement.WebElement (session=\"1eb0148637f6bd2c5bb514087545915c\", element=\"b7c56570-27d7-4500-a2e6-3b7298618ade\")>,\n",
       " <selenium.webdriver.remote.webelement.WebElement (session=\"1eb0148637f6bd2c5bb514087545915c\", element=\"8e040344-08dc-462c-b94b-13098ff034d0\")>,\n",
       " <selenium.webdriver.remote.webelement.WebElement (session=\"1eb0148637f6bd2c5bb514087545915c\", element=\"ea4dc16a-ccbc-475c-8d9b-af2f2a51f23b\")>,\n",
       " <selenium.webdriver.remote.webelement.WebElement (session=\"1eb0148637f6bd2c5bb514087545915c\", element=\"97f537d0-e8ef-401c-9bd7-8f65d6b5a4da\")>,\n",
       " <selenium.webdriver.remote.webelement.WebElement (session=\"1eb0148637f6bd2c5bb514087545915c\", element=\"486ea4ac-a081-4a34-91fc-7c830b0c8ab4\")>,\n",
       " <selenium.webdriver.remote.webelement.WebElement (session=\"1eb0148637f6bd2c5bb514087545915c\", element=\"e2669510-78b1-4c9d-83fa-fb954c7451ef\")>,\n",
       " <selenium.webdriver.remote.webelement.WebElement (session=\"1eb0148637f6bd2c5bb514087545915c\", element=\"0c4dd1d0-3a9f-4321-b649-e89864094848\")>,\n",
       " <selenium.webdriver.remote.webelement.WebElement (session=\"1eb0148637f6bd2c5bb514087545915c\", element=\"fa802aff-2429-40f5-8550-50e96224ca37\")>,\n",
       " <selenium.webdriver.remote.webelement.WebElement (session=\"1eb0148637f6bd2c5bb514087545915c\", element=\"85e7e335-eb82-4835-8a2f-14a2fe0f0cab\")>,\n",
       " <selenium.webdriver.remote.webelement.WebElement (session=\"1eb0148637f6bd2c5bb514087545915c\", element=\"ada5ca9e-da8b-404e-974b-0fbdd199aae0\")>]"
      ]
     },
     "execution_count": 78,
     "metadata": {},
     "output_type": "execute_result"
    }
   ],
   "source": [
    "# lets extract top 10 designations having job-titles under 0-3 salary filter and in delhi/ncr location\n",
    "designation = driver.find_elements_by_xpath(\"//a[@class='title fw500 ellipsis']\")\n",
    "designation[:10]"
   ]
  },
  {
   "cell_type": "code",
   "execution_count": 87,
   "metadata": {},
   "outputs": [
    {
     "data": {
      "text/plain": [
       "['Data Scientist / Data Analyst - ( BFSI Industry ) - New Delhi',\n",
       " 'Only Fresher / Data Scientist / Data Analyst / Analytics - MNC Jobs',\n",
       " 'Data Scientist',\n",
       " 'Data Scientist - Machine Learning/ NLP',\n",
       " 'Data Scientist / Data Analyst - ( BFSI Industry ) - New Delhi',\n",
       " 'Data Scientist (Hadoop/ Redshift/ BigQuery)',\n",
       " 'Data Scientist - Machine Learning/NLP',\n",
       " 'Data Scientist - Machine Learning/NLP',\n",
       " 'Data Scientist',\n",
       " 'Data Scientist Intern']"
      ]
     },
     "execution_count": 87,
     "metadata": {},
     "output_type": "execute_result"
    }
   ],
   "source": [
    "# looping the job title\n",
    "\n",
    "job_title_123 = []\n",
    "\n",
    "for i in designation:\n",
    "    job_title_123.append(i.text)\n",
    "job_title_123[:10]    "
   ]
  },
  {
   "cell_type": "code",
   "execution_count": 88,
   "metadata": {},
   "outputs": [
    {
     "data": {
      "text/plain": [
       "[<selenium.webdriver.remote.webelement.WebElement (session=\"1eb0148637f6bd2c5bb514087545915c\", element=\"f17b9a1d-aba1-4c79-9328-e590fd6e5827\")>,\n",
       " <selenium.webdriver.remote.webelement.WebElement (session=\"1eb0148637f6bd2c5bb514087545915c\", element=\"8c9dbb2f-2fc0-445d-a867-4d37a36795cd\")>,\n",
       " <selenium.webdriver.remote.webelement.WebElement (session=\"1eb0148637f6bd2c5bb514087545915c\", element=\"bc2fd9bf-940b-40a2-80a2-3efb1d7867f5\")>,\n",
       " <selenium.webdriver.remote.webelement.WebElement (session=\"1eb0148637f6bd2c5bb514087545915c\", element=\"30c8e45b-9acd-497c-addb-644efd4e559c\")>,\n",
       " <selenium.webdriver.remote.webelement.WebElement (session=\"1eb0148637f6bd2c5bb514087545915c\", element=\"59cd9248-8486-495c-b7f9-6e93ddd649e5\")>,\n",
       " <selenium.webdriver.remote.webelement.WebElement (session=\"1eb0148637f6bd2c5bb514087545915c\", element=\"227d54e0-684b-4fa5-86b2-b29f5f0633df\")>,\n",
       " <selenium.webdriver.remote.webelement.WebElement (session=\"1eb0148637f6bd2c5bb514087545915c\", element=\"b2805d88-dba0-4748-9aba-f544acbb492c\")>,\n",
       " <selenium.webdriver.remote.webelement.WebElement (session=\"1eb0148637f6bd2c5bb514087545915c\", element=\"fe18d4ba-7e88-4691-a786-94ff7c5955b1\")>,\n",
       " <selenium.webdriver.remote.webelement.WebElement (session=\"1eb0148637f6bd2c5bb514087545915c\", element=\"c050bcd6-87f2-4f0f-834a-294d400a6409\")>,\n",
       " <selenium.webdriver.remote.webelement.WebElement (session=\"1eb0148637f6bd2c5bb514087545915c\", element=\"4c499a14-77c0-45cd-ab9a-2493d1d7c016\")>]"
      ]
     },
     "execution_count": 88,
     "metadata": {},
     "output_type": "execute_result"
    }
   ],
   "source": [
    "# lets extract top 10  job_location under 0-3 salary filter and in delhi/ncr location\n",
    "\n",
    "location123 = driver.find_elements_by_xpath(\"//li[@class='fleft grey-text br2 placeHolderLi location']//span\")\n",
    "location123[:10]"
   ]
  },
  {
   "cell_type": "code",
   "execution_count": 89,
   "metadata": {},
   "outputs": [
    {
     "data": {
      "text/plain": [
       "['New Delhi',\n",
       " 'Noida, Greater Noida, Delhi / NCR',\n",
       " 'Kolkata, Hyderabad/Secunderabad, Pune, Ahmedabad, Chennai, Bangalore/Bengaluru, Delhi / NCR, Mumbai (All Areas)',\n",
       " 'Gurgaon/Gurugram',\n",
       " 'New Delhi',\n",
       " 'Noida',\n",
       " 'Gurgaon/Gurugram',\n",
       " 'Gurgaon/Gurugram',\n",
       " 'Noida',\n",
       " 'Noida']"
      ]
     },
     "execution_count": 89,
     "metadata": {},
     "output_type": "execute_result"
    }
   ],
   "source": [
    "# looping location \n",
    "\n",
    "job_location1 = []\n",
    "\n",
    "for i in location123:\n",
    "    job_location1.append(i.text)\n",
    "job_location1[:10]    "
   ]
  },
  {
   "cell_type": "code",
   "execution_count": 90,
   "metadata": {},
   "outputs": [
    {
     "data": {
      "text/plain": [
       "[<selenium.webdriver.remote.webelement.WebElement (session=\"1eb0148637f6bd2c5bb514087545915c\", element=\"226cdbe2-9afb-4400-865d-0349b3489821\")>,\n",
       " <selenium.webdriver.remote.webelement.WebElement (session=\"1eb0148637f6bd2c5bb514087545915c\", element=\"5679af8a-568b-4062-9eab-c796a2b30de5\")>,\n",
       " <selenium.webdriver.remote.webelement.WebElement (session=\"1eb0148637f6bd2c5bb514087545915c\", element=\"44d19888-35f1-4fb5-8dab-659494d0fa1e\")>,\n",
       " <selenium.webdriver.remote.webelement.WebElement (session=\"1eb0148637f6bd2c5bb514087545915c\", element=\"6e49c643-4603-4dc2-9843-c1b9e96e9b50\")>,\n",
       " <selenium.webdriver.remote.webelement.WebElement (session=\"1eb0148637f6bd2c5bb514087545915c\", element=\"c7f4dfd0-c1f8-4f27-b505-ce1dad76c25e\")>,\n",
       " <selenium.webdriver.remote.webelement.WebElement (session=\"1eb0148637f6bd2c5bb514087545915c\", element=\"26cbc4b2-f770-455d-a034-5aa5a7da94e2\")>,\n",
       " <selenium.webdriver.remote.webelement.WebElement (session=\"1eb0148637f6bd2c5bb514087545915c\", element=\"f383e493-46b0-4dd8-b998-9a06ceb38c37\")>,\n",
       " <selenium.webdriver.remote.webelement.WebElement (session=\"1eb0148637f6bd2c5bb514087545915c\", element=\"d4fdbaaa-eb0a-4dec-b175-fbb5270327cd\")>,\n",
       " <selenium.webdriver.remote.webelement.WebElement (session=\"1eb0148637f6bd2c5bb514087545915c\", element=\"251872da-082b-4b35-8a89-5608b6504280\")>,\n",
       " <selenium.webdriver.remote.webelement.WebElement (session=\"1eb0148637f6bd2c5bb514087545915c\", element=\"85d6c3a6-97a7-4700-a386-715a0052f7b3\")>]"
      ]
     },
     "execution_count": 90,
     "metadata": {},
     "output_type": "execute_result"
    }
   ],
   "source": [
    "# lets extract top 10  company name under 0-3 salary filter and in delhi/ncr location\n",
    "\n",
    "companies11 = driver.find_elements_by_xpath(\"//a[@class='subTitle ellipsis fleft']\")\n",
    "companies11[:10]"
   ]
  },
  {
   "cell_type": "code",
   "execution_count": 91,
   "metadata": {},
   "outputs": [
    {
     "data": {
      "text/plain": [
       "['Reckon HR consulting',\n",
       " 'GABA Consultancy services',\n",
       " 'Replicon Software',\n",
       " 'TalPro',\n",
       " 'Reckon HR consulting',\n",
       " 'Jubna',\n",
       " 'TalPro',\n",
       " 'TalPro',\n",
       " 'Gauge Data Solutions Pvt Ltd',\n",
       " 'Salasar New Age Technologies']"
      ]
     },
     "execution_count": 91,
     "metadata": {},
     "output_type": "execute_result"
    }
   ],
   "source": [
    "# looping comany_name\n",
    "company_name2 = []\n",
    "\n",
    "for i in companies11:\n",
    "    company_name2.append(i.text)\n",
    "company_name2[:10]  "
   ]
  },
  {
   "cell_type": "code",
   "execution_count": 84,
   "metadata": {},
   "outputs": [
    {
     "data": {
      "text/plain": [
       "[<selenium.webdriver.remote.webelement.WebElement (session=\"1eb0148637f6bd2c5bb514087545915c\", element=\"2d48ad5f-50fe-4757-bd9b-acc36f994ca8\")>,\n",
       " <selenium.webdriver.remote.webelement.WebElement (session=\"1eb0148637f6bd2c5bb514087545915c\", element=\"39fd5dca-cbd4-4616-86e3-a6eaa92bcb36\")>,\n",
       " <selenium.webdriver.remote.webelement.WebElement (session=\"1eb0148637f6bd2c5bb514087545915c\", element=\"02bcdae5-ae20-4afd-aecf-045a2c339bd3\")>,\n",
       " <selenium.webdriver.remote.webelement.WebElement (session=\"1eb0148637f6bd2c5bb514087545915c\", element=\"ac6aa987-6a60-4115-a6e4-aaf2122feb32\")>,\n",
       " <selenium.webdriver.remote.webelement.WebElement (session=\"1eb0148637f6bd2c5bb514087545915c\", element=\"dab2872a-d475-4f8c-bc09-a3e3db12f814\")>,\n",
       " <selenium.webdriver.remote.webelement.WebElement (session=\"1eb0148637f6bd2c5bb514087545915c\", element=\"81276753-a1ee-465d-81a0-1d0564610e40\")>,\n",
       " <selenium.webdriver.remote.webelement.WebElement (session=\"1eb0148637f6bd2c5bb514087545915c\", element=\"c4b29ff3-a63c-4d46-9a03-c79180a81a99\")>,\n",
       " <selenium.webdriver.remote.webelement.WebElement (session=\"1eb0148637f6bd2c5bb514087545915c\", element=\"5e9a73cb-d024-4723-a9b2-9d6c3d101e2e\")>,\n",
       " <selenium.webdriver.remote.webelement.WebElement (session=\"1eb0148637f6bd2c5bb514087545915c\", element=\"be423840-0f68-41fd-bfe5-cb3463ba8e6c\")>,\n",
       " <selenium.webdriver.remote.webelement.WebElement (session=\"1eb0148637f6bd2c5bb514087545915c\", element=\"d7c09475-3f54-4cf8-983e-ba62ddd03a76\")>]"
      ]
     },
     "execution_count": 84,
     "metadata": {},
     "output_type": "execute_result"
    }
   ],
   "source": [
    "# lets extract top 10 experiences required under 0-3 salary filter and in delhi/ncr location\n",
    "years_of_experience = driver.find_elements_by_xpath(\"//li[@class='fleft grey-text br2 placeHolderLi experience']//span\")\n",
    "years_of_experience[:10]"
   ]
  },
  {
   "cell_type": "code",
   "execution_count": 92,
   "metadata": {},
   "outputs": [
    {
     "data": {
      "text/plain": [
       "['2-5 Yrs',\n",
       " '0-0 Yrs',\n",
       " '5-10 Yrs',\n",
       " '2-6 Yrs',\n",
       " '2-5 Yrs',\n",
       " '3-5 Yrs',\n",
       " '2-4 Yrs',\n",
       " '2-6 Yrs',\n",
       " '2-7 Yrs',\n",
       " '0-2 Yrs']"
      ]
     },
     "execution_count": 92,
     "metadata": {},
     "output_type": "execute_result"
    }
   ],
   "source": [
    "# looping experiences\n",
    "\n",
    "experience_required3 = []\n",
    "\n",
    "for i in years_of_experience:\n",
    "    experience_required3.append(i.text)\n",
    "    \n",
    "experience_required3[:10]  "
   ]
  },
  {
   "cell_type": "code",
   "execution_count": 93,
   "metadata": {},
   "outputs": [
    {
     "name": "stdout",
     "output_type": "stream",
     "text": [
      "20 20 20 20\n"
     ]
    }
   ],
   "source": [
    "# creating len \n",
    "print(len(job_title_123),len(job_location1),len(company_name2),len(experience_required3))"
   ]
  },
  {
   "cell_type": "code",
   "execution_count": 94,
   "metadata": {},
   "outputs": [],
   "source": [
    "# creating dataframe\n",
    "\n",
    "jobs = pd.DataFrame({})\n",
    "jobs['Title']=job_title_123\n",
    "jobs['Company_Nmae']=company_name2\n",
    "jobs['Experiences_Required']=experience_required3\n",
    "jobs['Location']=job_location1"
   ]
  },
  {
   "cell_type": "code",
   "execution_count": 95,
   "metadata": {},
   "outputs": [
    {
     "data": {
      "text/html": [
       "<div>\n",
       "<style scoped>\n",
       "    .dataframe tbody tr th:only-of-type {\n",
       "        vertical-align: middle;\n",
       "    }\n",
       "\n",
       "    .dataframe tbody tr th {\n",
       "        vertical-align: top;\n",
       "    }\n",
       "\n",
       "    .dataframe thead th {\n",
       "        text-align: right;\n",
       "    }\n",
       "</style>\n",
       "<table border=\"1\" class=\"dataframe\">\n",
       "  <thead>\n",
       "    <tr style=\"text-align: right;\">\n",
       "      <th></th>\n",
       "      <th>Title</th>\n",
       "      <th>Company_Nmae</th>\n",
       "      <th>Experiences_Required</th>\n",
       "      <th>Location</th>\n",
       "    </tr>\n",
       "  </thead>\n",
       "  <tbody>\n",
       "    <tr>\n",
       "      <th>0</th>\n",
       "      <td>Data Scientist / Data Analyst - ( BFSI Industr...</td>\n",
       "      <td>Reckon HR consulting</td>\n",
       "      <td>2-5 Yrs</td>\n",
       "      <td>New Delhi</td>\n",
       "    </tr>\n",
       "    <tr>\n",
       "      <th>1</th>\n",
       "      <td>Only Fresher / Data Scientist / Data Analyst /...</td>\n",
       "      <td>GABA Consultancy services</td>\n",
       "      <td>0-0 Yrs</td>\n",
       "      <td>Noida, Greater Noida, Delhi / NCR</td>\n",
       "    </tr>\n",
       "    <tr>\n",
       "      <th>2</th>\n",
       "      <td>Data Scientist</td>\n",
       "      <td>Replicon Software</td>\n",
       "      <td>5-10 Yrs</td>\n",
       "      <td>Kolkata, Hyderabad/Secunderabad, Pune, Ahmedab...</td>\n",
       "    </tr>\n",
       "    <tr>\n",
       "      <th>3</th>\n",
       "      <td>Data Scientist - Machine Learning/ NLP</td>\n",
       "      <td>TalPro</td>\n",
       "      <td>2-6 Yrs</td>\n",
       "      <td>Gurgaon/Gurugram</td>\n",
       "    </tr>\n",
       "    <tr>\n",
       "      <th>4</th>\n",
       "      <td>Data Scientist / Data Analyst - ( BFSI Industr...</td>\n",
       "      <td>Reckon HR consulting</td>\n",
       "      <td>2-5 Yrs</td>\n",
       "      <td>New Delhi</td>\n",
       "    </tr>\n",
       "    <tr>\n",
       "      <th>5</th>\n",
       "      <td>Data Scientist (Hadoop/ Redshift/ BigQuery)</td>\n",
       "      <td>Jubna</td>\n",
       "      <td>3-5 Yrs</td>\n",
       "      <td>Noida</td>\n",
       "    </tr>\n",
       "    <tr>\n",
       "      <th>6</th>\n",
       "      <td>Data Scientist - Machine Learning/NLP</td>\n",
       "      <td>TalPro</td>\n",
       "      <td>2-4 Yrs</td>\n",
       "      <td>Gurgaon/Gurugram</td>\n",
       "    </tr>\n",
       "    <tr>\n",
       "      <th>7</th>\n",
       "      <td>Data Scientist - Machine Learning/NLP</td>\n",
       "      <td>TalPro</td>\n",
       "      <td>2-6 Yrs</td>\n",
       "      <td>Gurgaon/Gurugram</td>\n",
       "    </tr>\n",
       "    <tr>\n",
       "      <th>8</th>\n",
       "      <td>Data Scientist</td>\n",
       "      <td>Gauge Data Solutions Pvt Ltd</td>\n",
       "      <td>2-7 Yrs</td>\n",
       "      <td>Noida</td>\n",
       "    </tr>\n",
       "    <tr>\n",
       "      <th>9</th>\n",
       "      <td>Data Scientist Intern</td>\n",
       "      <td>Salasar New Age Technologies</td>\n",
       "      <td>0-2 Yrs</td>\n",
       "      <td>Noida</td>\n",
       "    </tr>\n",
       "  </tbody>\n",
       "</table>\n",
       "</div>"
      ],
      "text/plain": [
       "                                               Title  \\\n",
       "0  Data Scientist / Data Analyst - ( BFSI Industr...   \n",
       "1  Only Fresher / Data Scientist / Data Analyst /...   \n",
       "2                                     Data Scientist   \n",
       "3             Data Scientist - Machine Learning/ NLP   \n",
       "4  Data Scientist / Data Analyst - ( BFSI Industr...   \n",
       "5        Data Scientist (Hadoop/ Redshift/ BigQuery)   \n",
       "6              Data Scientist - Machine Learning/NLP   \n",
       "7              Data Scientist - Machine Learning/NLP   \n",
       "8                                     Data Scientist   \n",
       "9                              Data Scientist Intern   \n",
       "\n",
       "                   Company_Nmae Experiences_Required  \\\n",
       "0          Reckon HR consulting              2-5 Yrs   \n",
       "1     GABA Consultancy services              0-0 Yrs   \n",
       "2             Replicon Software             5-10 Yrs   \n",
       "3                        TalPro              2-6 Yrs   \n",
       "4          Reckon HR consulting              2-5 Yrs   \n",
       "5                         Jubna              3-5 Yrs   \n",
       "6                        TalPro              2-4 Yrs   \n",
       "7                        TalPro              2-6 Yrs   \n",
       "8  Gauge Data Solutions Pvt Ltd              2-7 Yrs   \n",
       "9  Salasar New Age Technologies              0-2 Yrs   \n",
       "\n",
       "                                            Location  \n",
       "0                                          New Delhi  \n",
       "1                  Noida, Greater Noida, Delhi / NCR  \n",
       "2  Kolkata, Hyderabad/Secunderabad, Pune, Ahmedab...  \n",
       "3                                   Gurgaon/Gurugram  \n",
       "4                                          New Delhi  \n",
       "5                                              Noida  \n",
       "6                                   Gurgaon/Gurugram  \n",
       "7                                   Gurgaon/Gurugram  \n",
       "8                                              Noida  \n",
       "9                                              Noida  "
      ]
     },
     "execution_count": 95,
     "metadata": {},
     "output_type": "execute_result"
    }
   ],
   "source": [
    "jobs[:10]"
   ]
  },
  {
   "cell_type": "markdown",
   "metadata": {},
   "source": [
    "# Q4: Write a python program to scrape data for first 10 job results for Data scientist Designation in Noida location. You have to scrape company_name, No. of days ago when job was posted, Rating of the company.\n",
    "This task will be done in following steps:\n",
    "1. first get the webpage https://www.glassdoor.co.in/index.htm\n",
    "2. Enter “Data Scientist” in “Job Title,Keyword,Company” field and enter “Noida” in “location” field.\n",
    "3. Then click the search button.\n",
    "4. Then scrape the data for the first 10 jobs results you get in the above shown page.\n",
    "5. Finally create a dataframe of the scraped data."
   ]
  },
  {
   "cell_type": "code",
   "execution_count": 1,
   "metadata": {},
   "outputs": [
    {
     "name": "stdout",
     "output_type": "stream",
     "text": [
      "Requirement already satisfied: selenium in c:\\users\\sunil gupta\\anaconda3\\lib\\site-packages (3.141.0)\n",
      "Requirement already satisfied: urllib3 in c:\\users\\sunil gupta\\anaconda3\\lib\\site-packages (from selenium) (1.25.11)\n"
     ]
    }
   ],
   "source": [
    "# LETS FIRST INSTALL THE SELENIUM LIBRARY\n",
    "!pip install selenium"
   ]
  },
  {
   "cell_type": "code",
   "execution_count": 140,
   "metadata": {},
   "outputs": [],
   "source": [
    "# let import all the libraries\n",
    "import selenium \n",
    "import pandas as pd\n",
    "from selenium import webdriver"
   ]
  },
  {
   "cell_type": "code",
   "execution_count": 141,
   "metadata": {},
   "outputs": [],
   "source": [
    "# lets connect to webdriver\n",
    "driver = webdriver.Chrome(\"chromedriver.exe\")"
   ]
  },
  {
   "cell_type": "code",
   "execution_count": 143,
   "metadata": {},
   "outputs": [],
   "source": [
    "url = \"https://www.glassdoor.co.in/Job/index.htm\"\n",
    "driver.get(url)"
   ]
  },
  {
   "cell_type": "code",
   "execution_count": 144,
   "metadata": {},
   "outputs": [],
   "source": [
    "# how to search job\n",
    "\n",
    "search_job = driver.find_element_by_id('KeywordSearch')"
   ]
  },
  {
   "cell_type": "code",
   "execution_count": 145,
   "metadata": {},
   "outputs": [],
   "source": [
    "# writing on search bar\n",
    "search_job.send_keys('Data Scientist')"
   ]
  },
  {
   "cell_type": "code",
   "execution_count": 146,
   "metadata": {},
   "outputs": [],
   "source": [
    "# how to search location\n",
    "\n",
    "search_location = driver.find_element_by_id('LocationSearch')"
   ]
  },
  {
   "cell_type": "code",
   "execution_count": 147,
   "metadata": {},
   "outputs": [],
   "source": [
    "# writing on search bar\n",
    "search_location.send_keys('Noida')"
   ]
  },
  {
   "cell_type": "code",
   "execution_count": 148,
   "metadata": {},
   "outputs": [
    {
     "data": {
      "text/plain": [
       "<selenium.webdriver.remote.webelement.WebElement (session=\"86df5e48e9ceee8b7547147571529852\", element=\"b0d68225-ba1c-4f2e-af7e-c2de3992a9aa\")>"
      ]
     },
     "execution_count": 148,
     "metadata": {},
     "output_type": "execute_result"
    }
   ],
   "source": [
    "# how to click on button\n",
    "\n",
    "search_button = driver.find_element_by_xpath(\"//button[@class='gd-btn-mkt']\")\n",
    "search_button "
   ]
  },
  {
   "cell_type": "code",
   "execution_count": 151,
   "metadata": {},
   "outputs": [],
   "source": [
    "# click the button\n",
    "\n",
    "search_button.click()"
   ]
  },
  {
   "cell_type": "code",
   "execution_count": 152,
   "metadata": {},
   "outputs": [
    {
     "data": {
      "text/plain": [
       "[<selenium.webdriver.remote.webelement.WebElement (session=\"86df5e48e9ceee8b7547147571529852\", element=\"1b6b78e8-5456-4e3c-872c-d4c36f193663\")>,\n",
       " <selenium.webdriver.remote.webelement.WebElement (session=\"86df5e48e9ceee8b7547147571529852\", element=\"fecb1ae8-2b0d-4578-8561-475d20d222ba\")>,\n",
       " <selenium.webdriver.remote.webelement.WebElement (session=\"86df5e48e9ceee8b7547147571529852\", element=\"fd77550f-fcff-4cae-ac64-2ba5c95caf27\")>,\n",
       " <selenium.webdriver.remote.webelement.WebElement (session=\"86df5e48e9ceee8b7547147571529852\", element=\"43aed78b-1da0-4337-a9c0-f55f693b3d06\")>,\n",
       " <selenium.webdriver.remote.webelement.WebElement (session=\"86df5e48e9ceee8b7547147571529852\", element=\"9cdb7b1b-62b4-4ab4-946f-ba52dcd3aed6\")>,\n",
       " <selenium.webdriver.remote.webelement.WebElement (session=\"86df5e48e9ceee8b7547147571529852\", element=\"ae9dae1d-8e3d-40df-a246-8191e47e304e\")>,\n",
       " <selenium.webdriver.remote.webelement.WebElement (session=\"86df5e48e9ceee8b7547147571529852\", element=\"b968126a-3e10-4493-b0e3-2221a19181a9\")>,\n",
       " <selenium.webdriver.remote.webelement.WebElement (session=\"86df5e48e9ceee8b7547147571529852\", element=\"c9e7b236-a8ba-477e-a6e0-8c74f2ae41f1\")>,\n",
       " <selenium.webdriver.remote.webelement.WebElement (session=\"86df5e48e9ceee8b7547147571529852\", element=\"a9e4097d-d4a4-4834-b3cf-2162e7afbc68\")>,\n",
       " <selenium.webdriver.remote.webelement.WebElement (session=\"86df5e48e9ceee8b7547147571529852\", element=\"c6d6985a-7a5e-4579-9ddc-6251ad8cf6d6\")>]"
      ]
     },
     "execution_count": 152,
     "metadata": {},
     "output_type": "execute_result"
    }
   ],
   "source": [
    "# lets extract top 10 job_results for data scientist designation in noida location\n",
    "job_result = driver.find_elements_by_xpath(\"//a[@class='jobLink css-1rd3saf eigr9kq2']\")\n",
    "job_result[:10]"
   ]
  },
  {
   "cell_type": "code",
   "execution_count": 153,
   "metadata": {},
   "outputs": [
    {
     "data": {
      "text/plain": [
       "['Data Scientist',\n",
       " 'Data Science- Chennai/Noida(Immediate-15days,Max 1month)',\n",
       " 'Data Scientist',\n",
       " 'Data Analyst / Data Scientist',\n",
       " 'Data Scientist',\n",
       " 'Data Scientist',\n",
       " 'Senior Data Scientist',\n",
       " 'Data Science Trainee',\n",
       " 'Data Scientist',\n",
       " 'Data Scientist Intern']"
      ]
     },
     "execution_count": 153,
     "metadata": {},
     "output_type": "execute_result"
    }
   ],
   "source": [
    "# looping the job result\n",
    "\n",
    "job_results = []\n",
    "\n",
    "for i in job_result:\n",
    "    job_results.append(i.text)\n",
    "job_results[:10]  "
   ]
  },
  {
   "cell_type": "code",
   "execution_count": 154,
   "metadata": {},
   "outputs": [
    {
     "data": {
      "text/plain": [
       "[<selenium.webdriver.remote.webelement.WebElement (session=\"86df5e48e9ceee8b7547147571529852\", element=\"5902c65a-4e0d-40ad-8854-b56304d8a3bf\")>,\n",
       " <selenium.webdriver.remote.webelement.WebElement (session=\"86df5e48e9ceee8b7547147571529852\", element=\"745f53bb-72ff-4470-925b-141e3e264028\")>,\n",
       " <selenium.webdriver.remote.webelement.WebElement (session=\"86df5e48e9ceee8b7547147571529852\", element=\"87bcce0e-ebe4-4f7f-9db9-be26b323a3a6\")>,\n",
       " <selenium.webdriver.remote.webelement.WebElement (session=\"86df5e48e9ceee8b7547147571529852\", element=\"cdfd751c-18db-4dbd-b684-41045468f696\")>,\n",
       " <selenium.webdriver.remote.webelement.WebElement (session=\"86df5e48e9ceee8b7547147571529852\", element=\"e897e6bb-661f-4a6b-b334-289bc35fc6f7\")>,\n",
       " <selenium.webdriver.remote.webelement.WebElement (session=\"86df5e48e9ceee8b7547147571529852\", element=\"15fc2c29-390a-4916-b95b-4204ba07a349\")>,\n",
       " <selenium.webdriver.remote.webelement.WebElement (session=\"86df5e48e9ceee8b7547147571529852\", element=\"499343c3-0a65-4a09-aba8-8b00af65339d\")>,\n",
       " <selenium.webdriver.remote.webelement.WebElement (session=\"86df5e48e9ceee8b7547147571529852\", element=\"12817a3b-d61a-4ea9-96fb-c5f79cf20d9c\")>,\n",
       " <selenium.webdriver.remote.webelement.WebElement (session=\"86df5e48e9ceee8b7547147571529852\", element=\"74f4ddf0-70f4-45c1-a118-4a19f71d72c8\")>,\n",
       " <selenium.webdriver.remote.webelement.WebElement (session=\"86df5e48e9ceee8b7547147571529852\", element=\"215ee1c2-f8d8-4799-ba60-412891beced1\")>]"
      ]
     },
     "execution_count": 154,
     "metadata": {},
     "output_type": "execute_result"
    }
   ],
   "source": [
    "# lets extract top 10 company name for data scientist designation in noida location\n",
    "\n",
    "companies = driver.find_elements_by_xpath(\"//a[@class=' css-l2wjgv e1n63ojh0 jobLink']\")\n",
    "companies[:10]"
   ]
  },
  {
   "cell_type": "code",
   "execution_count": 155,
   "metadata": {},
   "outputs": [
    {
     "data": {
      "text/plain": [
       "['White Vectors',\n",
       " 'Scymes Services Pvt. ltd',\n",
       " 'Ericsson',\n",
       " 'Ginger Webs Pvt. Ltd.',\n",
       " 'Crowe',\n",
       " 'Data Patterns',\n",
       " '',\n",
       " 'Algo8 AI Pvt. Ltd.',\n",
       " 'Biz2Credit Inc',\n",
       " 'Salasar New Age Technologies']"
      ]
     },
     "execution_count": 155,
     "metadata": {},
     "output_type": "execute_result"
    }
   ],
   "source": [
    "# looping the company result\n",
    "\n",
    "name = []\n",
    "\n",
    "for i in companies:\n",
    "    name.append(i.text)\n",
    "name[:10] "
   ]
  },
  {
   "cell_type": "code",
   "execution_count": 156,
   "metadata": {},
   "outputs": [
    {
     "data": {
      "text/plain": [
       "[<selenium.webdriver.remote.webelement.WebElement (session=\"86df5e48e9ceee8b7547147571529852\", element=\"de9484d1-c922-4fd9-8997-70389802bc25\")>,\n",
       " <selenium.webdriver.remote.webelement.WebElement (session=\"86df5e48e9ceee8b7547147571529852\", element=\"ca87b1cd-d0e2-492a-ae7b-5a954ab37151\")>,\n",
       " <selenium.webdriver.remote.webelement.WebElement (session=\"86df5e48e9ceee8b7547147571529852\", element=\"c99aca24-e1db-4725-9542-d8fb77b1c9b9\")>,\n",
       " <selenium.webdriver.remote.webelement.WebElement (session=\"86df5e48e9ceee8b7547147571529852\", element=\"b4fca20f-86f3-4392-81b6-76e66441bee4\")>,\n",
       " <selenium.webdriver.remote.webelement.WebElement (session=\"86df5e48e9ceee8b7547147571529852\", element=\"fbeee33f-910c-469c-89b6-e6f6aead69b9\")>,\n",
       " <selenium.webdriver.remote.webelement.WebElement (session=\"86df5e48e9ceee8b7547147571529852\", element=\"e8db4697-595d-49a5-916b-ecb7f5ad0dbf\")>,\n",
       " <selenium.webdriver.remote.webelement.WebElement (session=\"86df5e48e9ceee8b7547147571529852\", element=\"ac8e8264-ed71-40d3-abef-718a0e354a17\")>,\n",
       " <selenium.webdriver.remote.webelement.WebElement (session=\"86df5e48e9ceee8b7547147571529852\", element=\"c551fa2d-f482-486e-bde7-43b09d983c55\")>,\n",
       " <selenium.webdriver.remote.webelement.WebElement (session=\"86df5e48e9ceee8b7547147571529852\", element=\"5266e9f8-2f1b-4dcb-b662-74ec05d359b8\")>,\n",
       " <selenium.webdriver.remote.webelement.WebElement (session=\"86df5e48e9ceee8b7547147571529852\", element=\"463feaaa-05bc-4c4f-84d7-b8611f1da939\")>]"
      ]
     },
     "execution_count": 156,
     "metadata": {},
     "output_type": "execute_result"
    }
   ],
   "source": [
    "# lets extract top 10  No. of days ago when job was posted for data scientist designation in noida location\n",
    "\n",
    "days = driver.find_elements_by_xpath(\"//div[@class='d-flex align-items-end pl-std css-mi55ob']\")\n",
    "days[:10]"
   ]
  },
  {
   "cell_type": "code",
   "execution_count": 157,
   "metadata": {},
   "outputs": [
    {
     "data": {
      "text/plain": [
       "['1d', '24h', '1d', '21d', '29d', '17d', '3d', '14d', '30d+', '30d+']"
      ]
     },
     "execution_count": 157,
     "metadata": {},
     "output_type": "execute_result"
    }
   ],
   "source": [
    "# looping the No. of days ago when job was posted for data scientist designation in noida location\n",
    "\n",
    "No_of_days = []\n",
    "\n",
    "for i in days:\n",
    "    No_of_days.append(i.text)\n",
    "No_of_days[:10] "
   ]
  },
  {
   "cell_type": "code",
   "execution_count": 158,
   "metadata": {},
   "outputs": [
    {
     "data": {
      "text/plain": [
       "[<selenium.webdriver.remote.webelement.WebElement (session=\"86df5e48e9ceee8b7547147571529852\", element=\"92b706de-9377-40f0-ba38-c4a224c5f469\")>,\n",
       " <selenium.webdriver.remote.webelement.WebElement (session=\"86df5e48e9ceee8b7547147571529852\", element=\"e07e2d8e-a7f8-4ec3-a769-80dcf398cff8\")>,\n",
       " <selenium.webdriver.remote.webelement.WebElement (session=\"86df5e48e9ceee8b7547147571529852\", element=\"bf6d6d4e-de56-4d9d-b2d0-e06b23bfbd58\")>,\n",
       " <selenium.webdriver.remote.webelement.WebElement (session=\"86df5e48e9ceee8b7547147571529852\", element=\"54f8d8ca-cc0a-4428-9275-f499d2c76615\")>,\n",
       " <selenium.webdriver.remote.webelement.WebElement (session=\"86df5e48e9ceee8b7547147571529852\", element=\"6d49f7f8-e3bf-47ee-95b2-4030025660b6\")>,\n",
       " <selenium.webdriver.remote.webelement.WebElement (session=\"86df5e48e9ceee8b7547147571529852\", element=\"dece2889-99e9-4ba3-b89a-9d493b1e64c6\")>,\n",
       " <selenium.webdriver.remote.webelement.WebElement (session=\"86df5e48e9ceee8b7547147571529852\", element=\"f7a4f465-bb4f-48ad-ad20-df280043d82f\")>,\n",
       " <selenium.webdriver.remote.webelement.WebElement (session=\"86df5e48e9ceee8b7547147571529852\", element=\"05845557-756f-4a81-81d4-9bd9ac7a6b73\")>,\n",
       " <selenium.webdriver.remote.webelement.WebElement (session=\"86df5e48e9ceee8b7547147571529852\", element=\"383d63c2-5682-4ac7-85a0-5e5e9f9894e5\")>,\n",
       " <selenium.webdriver.remote.webelement.WebElement (session=\"86df5e48e9ceee8b7547147571529852\", element=\"591e697e-a489-4ae8-9b81-b04cd9e8af7a\")>]"
      ]
     },
     "execution_count": 158,
     "metadata": {},
     "output_type": "execute_result"
    }
   ],
   "source": [
    "# lets extract top 10  Rating of the company.\n",
    "\n",
    "ratings = driver.find_elements_by_xpath(\"//span[@class='css-19pjha7 e1cjmv6j1']\")\n",
    "ratings[:10]"
   ]
  },
  {
   "cell_type": "code",
   "execution_count": 159,
   "metadata": {},
   "outputs": [
    {
     "data": {
      "text/plain": [
       "['4.1', '3.8', '3.0', '3.8', '3.9', '5.0', '3.7', '3.8', '4.1', '3.8']"
      ]
     },
     "execution_count": 159,
     "metadata": {},
     "output_type": "execute_result"
    }
   ],
   "source": [
    "# looping the Rating of the company.\n",
    "\n",
    "Rating_of_the_company = []\n",
    "\n",
    "for i in ratings:\n",
    "    Rating_of_the_company.append(i.text)\n",
    "Rating_of_the_company[:10]"
   ]
  },
  {
   "cell_type": "code",
   "execution_count": 175,
   "metadata": {},
   "outputs": [
    {
     "data": {
      "text/html": [
       "<div>\n",
       "<style scoped>\n",
       "    .dataframe tbody tr th:only-of-type {\n",
       "        vertical-align: middle;\n",
       "    }\n",
       "\n",
       "    .dataframe tbody tr th {\n",
       "        vertical-align: top;\n",
       "    }\n",
       "\n",
       "    .dataframe thead th {\n",
       "        text-align: right;\n",
       "    }\n",
       "</style>\n",
       "<table border=\"1\" class=\"dataframe\">\n",
       "  <thead>\n",
       "    <tr style=\"text-align: right;\">\n",
       "      <th></th>\n",
       "      <th>Jobs</th>\n",
       "      <th>Company_Name</th>\n",
       "      <th>Days</th>\n",
       "      <th>Companies_rating</th>\n",
       "    </tr>\n",
       "  </thead>\n",
       "  <tbody>\n",
       "    <tr>\n",
       "      <th>0</th>\n",
       "      <td>Data Scientist</td>\n",
       "      <td>White Vectors</td>\n",
       "      <td>1d</td>\n",
       "      <td>4.1</td>\n",
       "    </tr>\n",
       "    <tr>\n",
       "      <th>1</th>\n",
       "      <td>Data Science- Chennai/Noida(Immediate-15days,M...</td>\n",
       "      <td>Scymes Services Pvt. ltd</td>\n",
       "      <td>24h</td>\n",
       "      <td>3.8</td>\n",
       "    </tr>\n",
       "    <tr>\n",
       "      <th>2</th>\n",
       "      <td>Data Scientist</td>\n",
       "      <td>Ericsson</td>\n",
       "      <td>1d</td>\n",
       "      <td>3.0</td>\n",
       "    </tr>\n",
       "    <tr>\n",
       "      <th>3</th>\n",
       "      <td>Data Analyst / Data Scientist</td>\n",
       "      <td>Ginger Webs Pvt. Ltd.</td>\n",
       "      <td>21d</td>\n",
       "      <td>3.8</td>\n",
       "    </tr>\n",
       "    <tr>\n",
       "      <th>4</th>\n",
       "      <td>Data Scientist</td>\n",
       "      <td>Crowe</td>\n",
       "      <td>29d</td>\n",
       "      <td>3.9</td>\n",
       "    </tr>\n",
       "    <tr>\n",
       "      <th>5</th>\n",
       "      <td>Data Scientist</td>\n",
       "      <td>Data Patterns</td>\n",
       "      <td>17d</td>\n",
       "      <td>5.0</td>\n",
       "    </tr>\n",
       "    <tr>\n",
       "      <th>6</th>\n",
       "      <td>Senior Data Scientist</td>\n",
       "      <td></td>\n",
       "      <td>3d</td>\n",
       "      <td>3.7</td>\n",
       "    </tr>\n",
       "    <tr>\n",
       "      <th>7</th>\n",
       "      <td>Data Science Trainee</td>\n",
       "      <td>Algo8 AI Pvt. Ltd.</td>\n",
       "      <td>14d</td>\n",
       "      <td>3.8</td>\n",
       "    </tr>\n",
       "    <tr>\n",
       "      <th>8</th>\n",
       "      <td>Data Scientist</td>\n",
       "      <td>Biz2Credit Inc</td>\n",
       "      <td>30d+</td>\n",
       "      <td>4.1</td>\n",
       "    </tr>\n",
       "    <tr>\n",
       "      <th>9</th>\n",
       "      <td>Data Scientist Intern</td>\n",
       "      <td>Salasar New Age Technologies</td>\n",
       "      <td>30d+</td>\n",
       "      <td>3.8</td>\n",
       "    </tr>\n",
       "  </tbody>\n",
       "</table>\n",
       "</div>"
      ],
      "text/plain": [
       "                                                Jobs  \\\n",
       "0                                     Data Scientist   \n",
       "1  Data Science- Chennai/Noida(Immediate-15days,M...   \n",
       "2                                     Data Scientist   \n",
       "3                      Data Analyst / Data Scientist   \n",
       "4                                     Data Scientist   \n",
       "5                                     Data Scientist   \n",
       "6                              Senior Data Scientist   \n",
       "7                               Data Science Trainee   \n",
       "8                                     Data Scientist   \n",
       "9                              Data Scientist Intern   \n",
       "\n",
       "                   Company_Name  Days Companies_rating  \n",
       "0                 White Vectors    1d              4.1  \n",
       "1      Scymes Services Pvt. ltd   24h              3.8  \n",
       "2                      Ericsson    1d              3.0  \n",
       "3         Ginger Webs Pvt. Ltd.   21d              3.8  \n",
       "4                         Crowe   29d              3.9  \n",
       "5                 Data Patterns   17d              5.0  \n",
       "6                                  3d              3.7  \n",
       "7            Algo8 AI Pvt. Ltd.   14d              3.8  \n",
       "8                Biz2Credit Inc  30d+              4.1  \n",
       "9  Salasar New Age Technologies  30d+              3.8  "
      ]
     },
     "execution_count": 175,
     "metadata": {},
     "output_type": "execute_result"
    }
   ],
   "source": [
    "df1=pd.DataFrame({})\n",
    "df1[\"Jobs\"]=job_results[:10]\n",
    "df1[\"Company_Name\"]=name[:10]\n",
    "df1[\"Days\"]=No_of_days[:10]\n",
    "df1[\"Companies_rating\"]=Rating_of_the_company[:10]\n",
    "df1"
   ]
  },
  {
   "cell_type": "markdown",
   "metadata": {},
   "source": [
    "# Q5: Write a python program to scrape the salary data for Data Scientist designation in Noida location.\n",
    "You have to scrape Company name, Number of salaries, Average salary, Min salary, Max Salary.\n",
    "The above task will be, done as shown in the below steps:\n",
    "1. first get the webpage https://www.glassdoor.co.in/Salaries/index.htm\n",
    "2. Enter “Data Scientist” in Job title field and “Noida” in location field.\n",
    "3. Click the search button.\n",
    "5. Scrape data for first 10 companies. Scrape the min salary, max salary, company name, Average salary and rating of the company.\n",
    "6.Store the data in a dataframe."
   ]
  },
  {
   "cell_type": "code",
   "execution_count": 31,
   "metadata": {},
   "outputs": [
    {
     "name": "stdout",
     "output_type": "stream",
     "text": [
      "Requirement already satisfied: selenium in c:\\users\\sunil gupta\\anaconda3\\lib\\site-packages (3.141.0)\n",
      "Requirement already satisfied: urllib3 in c:\\users\\sunil gupta\\anaconda3\\lib\\site-packages (from selenium) (1.25.11)\n"
     ]
    }
   ],
   "source": [
    "# LETS FIRST INSTALL THE SELENIUM LIBRARY\n",
    "!pip install selenium"
   ]
  },
  {
   "cell_type": "code",
   "execution_count": 32,
   "metadata": {},
   "outputs": [],
   "source": [
    "# let import all the libraries\n",
    "import selenium \n",
    "import pandas as pd\n",
    "from selenium import webdriver"
   ]
  },
  {
   "cell_type": "code",
   "execution_count": 33,
   "metadata": {},
   "outputs": [],
   "source": [
    "# lets connect to the driver\n",
    "driver = webdriver.Chrome(\"chromedriver.exe\")"
   ]
  },
  {
   "cell_type": "code",
   "execution_count": 34,
   "metadata": {},
   "outputs": [],
   "source": [
    "url = \"https://www.glassdoor.co.in/Salaries/index.htm\"\n",
    "driver.get(url)"
   ]
  },
  {
   "cell_type": "code",
   "execution_count": 39,
   "metadata": {},
   "outputs": [],
   "source": [
    "# how to search designation\n",
    "\n",
    "search_designation = driver.find_element_by_id('KeywordSearch')"
   ]
  },
  {
   "cell_type": "code",
   "execution_count": 40,
   "metadata": {},
   "outputs": [],
   "source": [
    "search_designation.send_keys('Data Scientist')"
   ]
  },
  {
   "cell_type": "code",
   "execution_count": 37,
   "metadata": {},
   "outputs": [],
   "source": [
    "# how to search location\n",
    "\n",
    "search_location = driver.find_element_by_id('LocationSearch')"
   ]
  },
  {
   "cell_type": "code",
   "execution_count": 38,
   "metadata": {},
   "outputs": [],
   "source": [
    "# writing on search bar\n",
    "search_location.send_keys('Noida')"
   ]
  },
  {
   "cell_type": "code",
   "execution_count": 46,
   "metadata": {},
   "outputs": [
    {
     "data": {
      "text/plain": [
       "<selenium.webdriver.remote.webelement.WebElement (session=\"4777ae518c6854c386d26ddc640015db\", element=\"7a2722fd-3ec2-4412-9b0e-06e904a031dc\")>"
      ]
     },
     "execution_count": 46,
     "metadata": {},
     "output_type": "execute_result"
    }
   ],
   "source": [
    "# click search button\n",
    "search = driver.find_element_by_xpath(\"//button[@class='gd-btn-mkt']\")\n",
    "search"
   ]
  },
  {
   "cell_type": "code",
   "execution_count": 47,
   "metadata": {},
   "outputs": [],
   "source": [
    "# click the button\n",
    "\n",
    "search.click()"
   ]
  },
  {
   "cell_type": "code",
   "execution_count": 48,
   "metadata": {},
   "outputs": [
    {
     "data": {
      "text/plain": [
       "[<selenium.webdriver.remote.webelement.WebElement (session=\"4777ae518c6854c386d26ddc640015db\", element=\"2ef968a3-55ac-4fbc-bc72-798e9ad90405\")>,\n",
       " <selenium.webdriver.remote.webelement.WebElement (session=\"4777ae518c6854c386d26ddc640015db\", element=\"e73a46e5-a5c1-477a-b668-e5e28528d7a1\")>,\n",
       " <selenium.webdriver.remote.webelement.WebElement (session=\"4777ae518c6854c386d26ddc640015db\", element=\"94dedbeb-736b-4b53-b36c-073ebabf8e04\")>,\n",
       " <selenium.webdriver.remote.webelement.WebElement (session=\"4777ae518c6854c386d26ddc640015db\", element=\"dbbbf98e-3ebc-40dc-a364-e209dcace36f\")>,\n",
       " <selenium.webdriver.remote.webelement.WebElement (session=\"4777ae518c6854c386d26ddc640015db\", element=\"b945a848-e662-44a0-9234-6ac5532c7d80\")>,\n",
       " <selenium.webdriver.remote.webelement.WebElement (session=\"4777ae518c6854c386d26ddc640015db\", element=\"6f0b4b9f-152e-4b71-b40d-3db01eb6bc14\")>,\n",
       " <selenium.webdriver.remote.webelement.WebElement (session=\"4777ae518c6854c386d26ddc640015db\", element=\"904ff776-a6fb-4638-b1a5-0d5d5c26372e\")>,\n",
       " <selenium.webdriver.remote.webelement.WebElement (session=\"4777ae518c6854c386d26ddc640015db\", element=\"81a9efbf-385d-41a9-98c5-64cec80b3e69\")>,\n",
       " <selenium.webdriver.remote.webelement.WebElement (session=\"4777ae518c6854c386d26ddc640015db\", element=\"59134fbd-a15e-48f9-9427-217445e9189d\")>,\n",
       " <selenium.webdriver.remote.webelement.WebElement (session=\"4777ae518c6854c386d26ddc640015db\", element=\"d89b3c98-e078-4fe2-853b-68476a360c9e\")>]"
      ]
     },
     "execution_count": 48,
     "metadata": {},
     "output_type": "execute_result"
    }
   ],
   "source": [
    "# top 10 comanies\n",
    "ten_company = driver.find_elements_by_xpath(\"//a[@class='css-f3vw95 e1aj7ssy3']\")\n",
    "ten_company[:10]"
   ]
  },
  {
   "cell_type": "code",
   "execution_count": 50,
   "metadata": {},
   "outputs": [
    {
     "data": {
      "text/plain": [
       "['IBM',\n",
       " 'Tata Consultancy Services',\n",
       " 'Accenture',\n",
       " 'Delhivery',\n",
       " 'Ericsson-Worldwide',\n",
       " 'UnitedHealth Group',\n",
       " 'Valiance Solutions',\n",
       " 'Optum Global Solutions',\n",
       " 'ZS Associates',\n",
       " 'EXL Service']"
      ]
     },
     "execution_count": 50,
     "metadata": {},
     "output_type": "execute_result"
    }
   ],
   "source": [
    "# looping the companies\n",
    "\n",
    "Companies = []\n",
    "\n",
    "for i in ten_company:\n",
    "    Companies.append(i.text)\n",
    "Companies[:10]"
   ]
  },
  {
   "cell_type": "code",
   "execution_count": 52,
   "metadata": {},
   "outputs": [
    {
     "data": {
      "text/plain": [
       "[<selenium.webdriver.remote.webelement.WebElement (session=\"4777ae518c6854c386d26ddc640015db\", element=\"45ae74c9-fc51-4000-b921-aa5df0bf2b8c\")>,\n",
       " <selenium.webdriver.remote.webelement.WebElement (session=\"4777ae518c6854c386d26ddc640015db\", element=\"17dec635-360d-4fbd-9024-1c62d69ecdeb\")>,\n",
       " <selenium.webdriver.remote.webelement.WebElement (session=\"4777ae518c6854c386d26ddc640015db\", element=\"bdd9d586-1214-4005-b4d5-8b7816a56a20\")>,\n",
       " <selenium.webdriver.remote.webelement.WebElement (session=\"4777ae518c6854c386d26ddc640015db\", element=\"34ed4b96-0d41-4619-952e-6abe8e3da9a9\")>,\n",
       " <selenium.webdriver.remote.webelement.WebElement (session=\"4777ae518c6854c386d26ddc640015db\", element=\"1b716663-d1a6-4a73-b535-07e6bde78638\")>,\n",
       " <selenium.webdriver.remote.webelement.WebElement (session=\"4777ae518c6854c386d26ddc640015db\", element=\"ffd89833-95c8-4b34-95bf-cfee401f1fb6\")>,\n",
       " <selenium.webdriver.remote.webelement.WebElement (session=\"4777ae518c6854c386d26ddc640015db\", element=\"b5307efa-a472-467e-a9ca-175ac58c4052\")>,\n",
       " <selenium.webdriver.remote.webelement.WebElement (session=\"4777ae518c6854c386d26ddc640015db\", element=\"552a07db-3ea0-442c-b7b7-8b16425f32e7\")>,\n",
       " <selenium.webdriver.remote.webelement.WebElement (session=\"4777ae518c6854c386d26ddc640015db\", element=\"f8f5367f-fe39-4033-a3f6-2c4f8b69d240\")>,\n",
       " <selenium.webdriver.remote.webelement.WebElement (session=\"4777ae518c6854c386d26ddc640015db\", element=\"9f1c9a63-04a6-4126-93a5-1681f5ba3c71\")>]"
      ]
     },
     "execution_count": 52,
     "metadata": {},
     "output_type": "execute_result"
    }
   ],
   "source": [
    "# create Min & Max Salary\n",
    "\n",
    "salary = driver.find_elements_by_xpath(\"//span[@class='d-block d-lg-none m-0 css-1b6bxoo']\")\n",
    "salary[:10]"
   ]
  },
  {
   "cell_type": "code",
   "execution_count": 53,
   "metadata": {},
   "outputs": [
    {
     "data": {
      "text/plain": [
       "['Range: ₹6L - ₹27L',\n",
       " 'Range: ₹3L - ₹13L',\n",
       " 'Range: ₹6L - ₹22L',\n",
       " 'Range: ₹5L - ₹1Cr',\n",
       " 'Range: ₹4L - ₹16L',\n",
       " 'Range: ₹11L - ₹15L',\n",
       " 'Range: ₹5L - ₹15L',\n",
       " 'Range: ₹4L - ₹22L',\n",
       " 'Range: ₹2L - ₹18L',\n",
       " 'Range: ₹6L - ₹15L']"
      ]
     },
     "execution_count": 53,
     "metadata": {},
     "output_type": "execute_result"
    }
   ],
   "source": [
    "# looping min & max salary\n",
    "\n",
    "Min_Max_Salary = []\n",
    "\n",
    "for i in salary:\n",
    "    Min_Max_Salary.append(i.text)\n",
    "Min_Max_Salary[:10]    "
   ]
  },
  {
   "cell_type": "code",
   "execution_count": 54,
   "metadata": {},
   "outputs": [
    {
     "data": {
      "text/plain": [
       "[<selenium.webdriver.remote.webelement.WebElement (session=\"4777ae518c6854c386d26ddc640015db\", element=\"124f3003-1387-466d-aca6-112e6a9c702f\")>,\n",
       " <selenium.webdriver.remote.webelement.WebElement (session=\"4777ae518c6854c386d26ddc640015db\", element=\"0f28f6ef-9bcb-4e9c-8dc8-c551a41d56dd\")>,\n",
       " <selenium.webdriver.remote.webelement.WebElement (session=\"4777ae518c6854c386d26ddc640015db\", element=\"0d7abc33-4a90-4498-9310-b2d7e32540fe\")>,\n",
       " <selenium.webdriver.remote.webelement.WebElement (session=\"4777ae518c6854c386d26ddc640015db\", element=\"d0622f45-42c3-4057-8e97-29c0444d1d60\")>,\n",
       " <selenium.webdriver.remote.webelement.WebElement (session=\"4777ae518c6854c386d26ddc640015db\", element=\"d205155f-3390-4aca-863d-bbe39549ef81\")>,\n",
       " <selenium.webdriver.remote.webelement.WebElement (session=\"4777ae518c6854c386d26ddc640015db\", element=\"dbd93990-ee61-41b6-89b7-30faf398b4ec\")>,\n",
       " <selenium.webdriver.remote.webelement.WebElement (session=\"4777ae518c6854c386d26ddc640015db\", element=\"0b519ecf-209e-4b3c-8c16-8dad1ec96941\")>,\n",
       " <selenium.webdriver.remote.webelement.WebElement (session=\"4777ae518c6854c386d26ddc640015db\", element=\"dac74bc9-a73d-4461-a37f-eb493610191a\")>,\n",
       " <selenium.webdriver.remote.webelement.WebElement (session=\"4777ae518c6854c386d26ddc640015db\", element=\"9f02946a-4889-4b9f-81b0-7425e9ae4ee9\")>,\n",
       " <selenium.webdriver.remote.webelement.WebElement (session=\"4777ae518c6854c386d26ddc640015db\", element=\"879e7c48-65aa-48b9-a19f-207c5a0c2956\")>]"
      ]
     },
     "execution_count": 54,
     "metadata": {},
     "output_type": "execute_result"
    }
   ],
   "source": [
    "# creating Average salary\n",
    "\n",
    "avg_salaries = driver.find_elements_by_xpath(\"//div[@class='col-12 col-lg-4 px-lg-0 d-flex align-items-baseline']\")\n",
    "avg_salaries[:10]"
   ]
  },
  {
   "cell_type": "code",
   "execution_count": 55,
   "metadata": {},
   "outputs": [
    {
     "data": {
      "text/plain": [
       "['₹9,00,000\\n /yr',\n",
       " '₹6,15,289\\n /yr',\n",
       " '₹11,63,336\\n /yr',\n",
       " '₹12,18,244\\n /yr',\n",
       " '₹7,39,238\\n /yr',\n",
       " '₹13,38,279\\n /yr',\n",
       " '₹8,63,750\\n /yr',\n",
       " '₹13,28,697\\n /yr',\n",
       " '₹11,42,356\\n /yr',\n",
       " '₹11,46,073\\n /yr']"
      ]
     },
     "execution_count": 55,
     "metadata": {},
     "output_type": "execute_result"
    }
   ],
   "source": [
    "Average_salary = []\n",
    "\n",
    "for i in avg_salaries:\n",
    "    Average_salary.append(i.text)\n",
    "Average_salary[:10]    "
   ]
  },
  {
   "cell_type": "code",
   "execution_count": 59,
   "metadata": {},
   "outputs": [
    {
     "data": {
      "text/plain": [
       "[<selenium.webdriver.remote.webelement.WebElement (session=\"4777ae518c6854c386d26ddc640015db\", element=\"4c05c641-b1f5-49e1-927b-e0b941923143\")>,\n",
       " <selenium.webdriver.remote.webelement.WebElement (session=\"4777ae518c6854c386d26ddc640015db\", element=\"fab9de09-0c37-4fe9-9dc1-c44dbe3ae744\")>,\n",
       " <selenium.webdriver.remote.webelement.WebElement (session=\"4777ae518c6854c386d26ddc640015db\", element=\"73d29b84-48f3-4c47-a881-76e2649b585d\")>,\n",
       " <selenium.webdriver.remote.webelement.WebElement (session=\"4777ae518c6854c386d26ddc640015db\", element=\"149a3437-4a66-43ec-83b5-dec96f65819c\")>,\n",
       " <selenium.webdriver.remote.webelement.WebElement (session=\"4777ae518c6854c386d26ddc640015db\", element=\"2a5dc3d6-683b-4bba-ac37-444108abcc82\")>,\n",
       " <selenium.webdriver.remote.webelement.WebElement (session=\"4777ae518c6854c386d26ddc640015db\", element=\"0532132e-65ed-467f-bb3a-8e3ee872b2fb\")>,\n",
       " <selenium.webdriver.remote.webelement.WebElement (session=\"4777ae518c6854c386d26ddc640015db\", element=\"fa636a3f-cd28-46af-b75f-3e596105e3e0\")>,\n",
       " <selenium.webdriver.remote.webelement.WebElement (session=\"4777ae518c6854c386d26ddc640015db\", element=\"eaa09f50-e7e5-402d-931e-8a169c77b995\")>,\n",
       " <selenium.webdriver.remote.webelement.WebElement (session=\"4777ae518c6854c386d26ddc640015db\", element=\"a5e8b14a-c9d9-4d6b-bbf3-072a7bc4b51c\")>,\n",
       " <selenium.webdriver.remote.webelement.WebElement (session=\"4777ae518c6854c386d26ddc640015db\", element=\"e826026c-761c-467a-86d3-ce841950e052\")>]"
      ]
     },
     "execution_count": 59,
     "metadata": {},
     "output_type": "execute_result"
    }
   ],
   "source": [
    "# creating rating of company\n",
    "\n",
    "company_rating = driver.find_elements_by_xpath(\"//span[@class='m-0 css-kyx745']\")\n",
    "company_rating[:10]"
   ]
  },
  {
   "cell_type": "code",
   "execution_count": 60,
   "metadata": {},
   "outputs": [
    {
     "data": {
      "text/plain": [
       "['3.9', '3.9', '4', '3.9', '4', '3.7', '4.2', '3.9', '4', '3.6']"
      ]
     },
     "execution_count": 60,
     "metadata": {},
     "output_type": "execute_result"
    }
   ],
   "source": [
    "# looping rating of company\n",
    "\n",
    "Co_rating = []\n",
    "\n",
    "for i in company_rating:\n",
    "    Co_rating.append(i.text)\n",
    "Co_rating[:10]    "
   ]
  },
  {
   "cell_type": "code",
   "execution_count": 64,
   "metadata": {},
   "outputs": [
    {
     "name": "stdout",
     "output_type": "stream",
     "text": [
      "['IBM', 'Tata Consultancy Services', 'Accenture', 'Delhivery', 'Ericsson-Worldwide', 'UnitedHealth Group', 'Valiance Solutions', 'Optum Global Solutions', 'ZS Associates', 'EXL Service', 'Optum', 'Innovaccer', 'Cognizant Technology Solutions', 'Nagarro', 'dunnhumby', 'Vidooly Media Tech', 'Tech Mahindra', 'OYO', 'R Systems', 'CARS24.com']\n",
      "['Range: ₹6L - ₹27L', 'Range: ₹3L - ₹13L', 'Range: ₹6L - ₹22L', 'Range: ₹5L - ₹1Cr', 'Range: ₹4L - ₹16L', 'Range: ₹11L - ₹15L', 'Range: ₹5L - ₹15L', 'Range: ₹4L - ₹22L', 'Range: ₹2L - ₹18L', 'Range: ₹6L - ₹15L', 'Range: ₹8L - ₹20L', 'Range: ₹6L - ₹17L', 'Range: ₹8L - ₹13L', 'Range: ₹4L - ₹16L', 'Range: ₹8L - ₹20L', 'Range: ₹12T - ₹63T', 'Range: ₹4L - ₹17L', 'Range: ₹10L - ₹19L', 'Range: ₹8L - ₹30L', 'Range: ₹9L - ₹15L']\n",
      "['₹9,00,000\\n /yr', '₹6,15,289\\n /yr', '₹11,63,336\\n /yr', '₹12,18,244\\n /yr', '₹7,39,238\\n /yr', '₹13,38,279\\n /yr', '₹8,63,750\\n /yr', '₹13,28,697\\n /yr', '₹11,42,356\\n /yr', '₹11,46,073\\n /yr', '₹13,20,960\\n /yr', '₹12,09,040\\n /yr', '₹10,09,021\\n /yr', '₹9,92,632\\n /yr', '₹10,55,478\\n /yr', '₹34,157\\n /mo', '₹10,54,402\\n /yr', '₹14,15,338\\n /yr', '₹18,40,134\\n /yr', '₹10,00,000\\n /yr']\n",
      "['3.9', '3.9', '4', '3.9', '4', '3.7', '4.2', '3.9', '4', '3.6', '3.6', '3.8', '3.8', '4', '4.1', '3.7', '3.6', '3.3', '3.5', '4.1']\n"
     ]
    }
   ],
   "source": [
    "print(Companies)\n",
    "print(Min_Max_Salary)\n",
    "print(Average_salary)\n",
    "print(Co_rating)"
   ]
  },
  {
   "cell_type": "code",
   "execution_count": 65,
   "metadata": {},
   "outputs": [
    {
     "name": "stdout",
     "output_type": "stream",
     "text": [
      "20\n",
      "20\n",
      "20\n",
      "20\n"
     ]
    }
   ],
   "source": [
    "print(len(Companies))\n",
    "print(len(Min_Max_Salary))\n",
    "print(len(Average_salary))\n",
    "print(len(Co_rating))"
   ]
  },
  {
   "cell_type": "code",
   "execution_count": 70,
   "metadata": {},
   "outputs": [],
   "source": [
    "# create dataframe\n",
    "df=pd.DataFrame({})\n",
    "df['Company_Name']=Companies\n",
    "df['Salary_min_max']=Min_Max_Salary\n",
    "df['Avg_salary']=Average_salary\n",
    "df['Companies_Rating']=Co_rating"
   ]
  },
  {
   "cell_type": "code",
   "execution_count": 71,
   "metadata": {},
   "outputs": [
    {
     "data": {
      "text/html": [
       "<div>\n",
       "<style scoped>\n",
       "    .dataframe tbody tr th:only-of-type {\n",
       "        vertical-align: middle;\n",
       "    }\n",
       "\n",
       "    .dataframe tbody tr th {\n",
       "        vertical-align: top;\n",
       "    }\n",
       "\n",
       "    .dataframe thead th {\n",
       "        text-align: right;\n",
       "    }\n",
       "</style>\n",
       "<table border=\"1\" class=\"dataframe\">\n",
       "  <thead>\n",
       "    <tr style=\"text-align: right;\">\n",
       "      <th></th>\n",
       "      <th>Company_Name</th>\n",
       "      <th>Salary_min_max</th>\n",
       "      <th>Avg_salary</th>\n",
       "      <th>Companies_Rating</th>\n",
       "    </tr>\n",
       "  </thead>\n",
       "  <tbody>\n",
       "    <tr>\n",
       "      <th>0</th>\n",
       "      <td>IBM</td>\n",
       "      <td>Range: ₹6L - ₹27L</td>\n",
       "      <td>₹9,00,000\\n /yr</td>\n",
       "      <td>3.9</td>\n",
       "    </tr>\n",
       "    <tr>\n",
       "      <th>1</th>\n",
       "      <td>Tata Consultancy Services</td>\n",
       "      <td>Range: ₹3L - ₹13L</td>\n",
       "      <td>₹6,15,289\\n /yr</td>\n",
       "      <td>3.9</td>\n",
       "    </tr>\n",
       "    <tr>\n",
       "      <th>2</th>\n",
       "      <td>Accenture</td>\n",
       "      <td>Range: ₹6L - ₹22L</td>\n",
       "      <td>₹11,63,336\\n /yr</td>\n",
       "      <td>4</td>\n",
       "    </tr>\n",
       "    <tr>\n",
       "      <th>3</th>\n",
       "      <td>Delhivery</td>\n",
       "      <td>Range: ₹5L - ₹1Cr</td>\n",
       "      <td>₹12,18,244\\n /yr</td>\n",
       "      <td>3.9</td>\n",
       "    </tr>\n",
       "    <tr>\n",
       "      <th>4</th>\n",
       "      <td>Ericsson-Worldwide</td>\n",
       "      <td>Range: ₹4L - ₹16L</td>\n",
       "      <td>₹7,39,238\\n /yr</td>\n",
       "      <td>4</td>\n",
       "    </tr>\n",
       "    <tr>\n",
       "      <th>5</th>\n",
       "      <td>UnitedHealth Group</td>\n",
       "      <td>Range: ₹11L - ₹15L</td>\n",
       "      <td>₹13,38,279\\n /yr</td>\n",
       "      <td>3.7</td>\n",
       "    </tr>\n",
       "    <tr>\n",
       "      <th>6</th>\n",
       "      <td>Valiance Solutions</td>\n",
       "      <td>Range: ₹5L - ₹15L</td>\n",
       "      <td>₹8,63,750\\n /yr</td>\n",
       "      <td>4.2</td>\n",
       "    </tr>\n",
       "    <tr>\n",
       "      <th>7</th>\n",
       "      <td>Optum Global Solutions</td>\n",
       "      <td>Range: ₹4L - ₹22L</td>\n",
       "      <td>₹13,28,697\\n /yr</td>\n",
       "      <td>3.9</td>\n",
       "    </tr>\n",
       "    <tr>\n",
       "      <th>8</th>\n",
       "      <td>ZS Associates</td>\n",
       "      <td>Range: ₹2L - ₹18L</td>\n",
       "      <td>₹11,42,356\\n /yr</td>\n",
       "      <td>4</td>\n",
       "    </tr>\n",
       "    <tr>\n",
       "      <th>9</th>\n",
       "      <td>EXL Service</td>\n",
       "      <td>Range: ₹6L - ₹15L</td>\n",
       "      <td>₹11,46,073\\n /yr</td>\n",
       "      <td>3.6</td>\n",
       "    </tr>\n",
       "  </tbody>\n",
       "</table>\n",
       "</div>"
      ],
      "text/plain": [
       "                Company_Name      Salary_min_max        Avg_salary  \\\n",
       "0                        IBM   Range: ₹6L - ₹27L   ₹9,00,000\\n /yr   \n",
       "1  Tata Consultancy Services   Range: ₹3L - ₹13L   ₹6,15,289\\n /yr   \n",
       "2                  Accenture   Range: ₹6L - ₹22L  ₹11,63,336\\n /yr   \n",
       "3                  Delhivery   Range: ₹5L - ₹1Cr  ₹12,18,244\\n /yr   \n",
       "4         Ericsson-Worldwide   Range: ₹4L - ₹16L   ₹7,39,238\\n /yr   \n",
       "5         UnitedHealth Group  Range: ₹11L - ₹15L  ₹13,38,279\\n /yr   \n",
       "6         Valiance Solutions   Range: ₹5L - ₹15L   ₹8,63,750\\n /yr   \n",
       "7     Optum Global Solutions   Range: ₹4L - ₹22L  ₹13,28,697\\n /yr   \n",
       "8              ZS Associates   Range: ₹2L - ₹18L  ₹11,42,356\\n /yr   \n",
       "9                EXL Service   Range: ₹6L - ₹15L  ₹11,46,073\\n /yr   \n",
       "\n",
       "  Companies_Rating  \n",
       "0              3.9  \n",
       "1              3.9  \n",
       "2                4  \n",
       "3              3.9  \n",
       "4                4  \n",
       "5              3.7  \n",
       "6              4.2  \n",
       "7              3.9  \n",
       "8                4  \n",
       "9              3.6  "
      ]
     },
     "execution_count": 71,
     "metadata": {},
     "output_type": "execute_result"
    }
   ],
   "source": [
    "df[:10]"
   ]
  },
  {
   "cell_type": "markdown",
   "metadata": {},
   "source": [
    "# Q6 : Scrape data of first 100 sunglasses listings on flipkart.com. You have to scrape four attributes:\n",
    "1. Brand\n",
    "2. Product Description\n",
    "3. Price\n",
    "4. Discount %\n",
    "The attributes which you have to scrape is ticked marked in the below image.\n",
    "To scrape the data you have to go through following steps:\n",
    "1. Go to flipkart webpage by url https://www.flipkart.com/\n",
    "2. Enter “sunglasses” in the search field where “search for products, brands and more” is written and click the search icon\n",
    "3. after that you will reach to a webpage having a lot of sunglasses. From this page you can scrap the required data as usual.\n",
    "4. after scraping data from the first page, go to the “Next” Button at the bottom of the page , then click on it.\n",
    "5. Now scrape data from this page as usual.\n",
    "6. repeat this until you get data for 100 sunglasses."
   ]
  },
  {
   "cell_type": "code",
   "execution_count": 1,
   "metadata": {},
   "outputs": [
    {
     "name": "stdout",
     "output_type": "stream",
     "text": [
      "Requirement already satisfied: selenium in c:\\users\\sunil gupta\\anaconda3\\lib\\site-packages (3.141.0)\n",
      "Requirement already satisfied: urllib3 in c:\\users\\sunil gupta\\anaconda3\\lib\\site-packages (from selenium) (1.25.11)\n"
     ]
    }
   ],
   "source": [
    "# LETS FIRST INSTALL THE SELENIUM LIBRARY\n",
    "!pip install selenium"
   ]
  },
  {
   "cell_type": "code",
   "execution_count": 2,
   "metadata": {},
   "outputs": [],
   "source": [
    "# let import all the libraries\n",
    "import selenium \n",
    "import pandas as pd\n",
    "from selenium import webdriver\n",
    "import time\n",
    "from selenium.common.exceptions import NoSuchElementException"
   ]
  },
  {
   "cell_type": "code",
   "execution_count": 33,
   "metadata": {},
   "outputs": [],
   "source": [
    "#lets connect to web driver\n",
    "\n",
    "driver = webdriver.Chrome(\"chromedriver.exe\")"
   ]
  },
  {
   "cell_type": "code",
   "execution_count": 34,
   "metadata": {},
   "outputs": [],
   "source": [
    "url = \"https://www.flipkart.com/\"\n",
    "\n",
    "driver.get(url)"
   ]
  },
  {
   "cell_type": "code",
   "execution_count": 35,
   "metadata": {},
   "outputs": [],
   "source": [
    "# how to search products\n",
    "\n",
    "products = driver.find_element_by_xpath(\"//input[@title='Search for products, brands and more']\")"
   ]
  },
  {
   "cell_type": "code",
   "execution_count": 36,
   "metadata": {},
   "outputs": [],
   "source": [
    "products.send_keys(\"sunglasses\")"
   ]
  },
  {
   "cell_type": "code",
   "execution_count": 37,
   "metadata": {},
   "outputs": [
    {
     "data": {
      "text/plain": [
       "<selenium.webdriver.remote.webelement.WebElement (session=\"04ac905f3d7df271a087ec3e3a768fa7\", element=\"5e94327b-79c6-44c5-b734-b4603875ce57\")>"
      ]
     },
     "execution_count": 37,
     "metadata": {},
     "output_type": "execute_result"
    }
   ],
   "source": [
    "# click search button\n",
    "search = driver.find_element_by_xpath(\"//button[@class='L0Z3Pu']\")\n",
    "search"
   ]
  },
  {
   "cell_type": "code",
   "execution_count": 38,
   "metadata": {},
   "outputs": [],
   "source": [
    "search.click()"
   ]
  },
  {
   "cell_type": "code",
   "execution_count": 39,
   "metadata": {},
   "outputs": [
    {
     "data": {
      "text/plain": [
       "['https://www.flipkart.com/royal-son-round-sunglasses/p/itm08ee366f541f9?pid=SGLFZJV9XTPRHAZQ&lid=LSTSGLFZJV9XTPRHAZQ48MYNV&marketplace=FLIPKART&q=sunglasses&store=26x&srno=s_1_1&otracker=search&otracker1=search&fm=SEARCH&iid=en_KDNFaPqj1A4eNtwj2DqilRnTxnWIQ0qdrmdRxBlAGGmuS5f10FUPIcqQBORljtbuMevXC2n4W%2FSZ1Xdiw8pkgg%3D%3D&ppt=hp&ppn=homepage&ssid=rqup92elvk0000001625738230354&qH=2cc465e3eef5bff0',\n",
       " 'https://www.flipkart.com/royal-son-retro-square-sunglasses/p/itm7c48028a023cc?pid=SGLFPBJEBM3UUWZP&lid=LSTSGLFPBJEBM3UUWZPQWDIEK&marketplace=FLIPKART&q=sunglasses&store=26x&srno=s_1_2&otracker=search&otracker1=search&fm=SEARCH&iid=en_KDNFaPqj1A4eNtwj2DqilRnTxnWIQ0qdrmdRxBlAGGmMOiM8%2BSshj8buHCDB5Mq%2BrMp5v4mHQM8bBqx2IqlMTQ%3D%3D&ppt=hp&ppn=homepage&ssid=rqup92elvk0000001625738230354&qH=2cc465e3eef5bff0',\n",
       " 'https://www.flipkart.com/fastrack-wayfarer-sunglasses/p/itmf79dqjqucq9f3?pid=SGLF79DQR8NQAT2W&lid=LSTSGLF79DQR8NQAT2W0MLSHN&marketplace=FLIPKART&q=sunglasses&store=26x&srno=s_1_3&otracker=search&otracker1=search&fm=SEARCH&iid=886be1bb-a6fd-4438-85e2-a01495f74d08.SGLF79DQR8NQAT2W.SEARCH&ppt=hp&ppn=homepage&ssid=rqup92elvk0000001625738230354&qH=2cc465e3eef5bff0',\n",
       " 'https://www.flipkart.com/kingsunglasses-wayfarer-sunglasses/p/itm9c7287be7c247?pid=SGLG2ZY9UERPGCZX&lid=LSTSGLG2ZY9UERPGCZXOWQRMA&marketplace=FLIPKART&q=sunglasses&store=26x&srno=s_1_4&otracker=search&otracker1=search&fm=SEARCH&iid=886be1bb-a6fd-4438-85e2-a01495f74d08.SGLG2ZY9UERPGCZX.SEARCH&ppt=hp&ppn=homepage&ssid=rqup92elvk0000001625738230354&qH=2cc465e3eef5bff0',\n",
       " 'https://www.flipkart.com/fastrack-rectangular-sunglasses/p/itmf3yhd8wephwxh?pid=SGLES2WMF6CH5GYF&lid=LSTSGLES2WMF6CH5GYFXRVSZN&marketplace=FLIPKART&q=sunglasses&store=26x&srno=s_1_5&otracker=search&otracker1=search&fm=SEARCH&iid=886be1bb-a6fd-4438-85e2-a01495f74d08.SGLES2WMF6CH5GYF.SEARCH&ppt=hp&ppn=homepage&ssid=rqup92elvk0000001625738230354&qH=2cc465e3eef5bff0',\n",
       " 'https://www.flipkart.com/piraso-aviator-sunglasses/p/itm70504d13b7992?pid=SGLFV8YYCEA8RWAC&lid=LSTSGLFV8YYCEA8RWACIACICJ&marketplace=FLIPKART&q=sunglasses&store=26x&spotlightTagId=BestsellerId_26x&srno=s_1_6&otracker=search&otracker1=search&fm=SEARCH&iid=886be1bb-a6fd-4438-85e2-a01495f74d08.SGLFV8YYCEA8RWAC.SEARCH&ppt=hp&ppn=homepage&ssid=rqup92elvk0000001625738230354&qH=2cc465e3eef5bff0',\n",
       " 'https://www.flipkart.com/fastrack-wayfarer-sunglasses/p/itmf79dqxyft72kh?pid=SGLF79DQWYPMFYVY&lid=LSTSGLF79DQWYPMFYVYGNZHDZ&marketplace=FLIPKART&q=sunglasses&store=26x&srno=s_1_7&otracker=search&otracker1=search&fm=SEARCH&iid=886be1bb-a6fd-4438-85e2-a01495f74d08.SGLF79DQWYPMFYVY.SEARCH&ppt=hp&ppn=homepage&ssid=rqup92elvk0000001625738230354&qH=2cc465e3eef5bff0',\n",
       " 'https://www.flipkart.com/royal-son-aviator-sunglasses/p/itme479614d796cc?pid=SGLED3YH6AQQFTJT&lid=LSTSGLED3YH6AQQFTJTD9JARU&marketplace=FLIPKART&q=sunglasses&store=26x&srno=s_1_8&otracker=search&otracker1=search&fm=SEARCH&iid=en_KDNFaPqj1A4eNtwj2DqilRnTxnWIQ0qdrmdRxBlAGGma0l5m%2B8QQhfZrNdbUxYv2sZw8JRR%2BXcTvOCASDilWEQ%3D%3D&ppt=hp&ppn=homepage&ssid=rqup92elvk0000001625738230354&qH=2cc465e3eef5bff0',\n",
       " 'https://www.flipkart.com/fastrack-wayfarer-sunglasses/p/itmb27e122319437?pid=SGLFJATQYNC8ASFJ&lid=LSTSGLFJATQYNC8ASFJEM0L5Q&marketplace=FLIPKART&q=sunglasses&store=26x&srno=s_1_9&otracker=search&otracker1=search&fm=SEARCH&iid=886be1bb-a6fd-4438-85e2-a01495f74d08.SGLFJATQYNC8ASFJ.SEARCH&ppt=hp&ppn=homepage&ssid=rqup92elvk0000001625738230354&qH=2cc465e3eef5bff0',\n",
       " 'https://www.flipkart.com/fastrack-wayfarer-sunglasses/p/itmf17a9804236b9?pid=SGLFJATRZAUJGZGQ&lid=LSTSGLFJATRZAUJGZGQVHIHKU&marketplace=FLIPKART&q=sunglasses&store=26x&srno=s_1_10&otracker=search&otracker1=search&fm=SEARCH&iid=886be1bb-a6fd-4438-85e2-a01495f74d08.SGLFJATRZAUJGZGQ.SEARCH&ppt=hp&ppn=homepage&ssid=rqup92elvk0000001625738230354&qH=2cc465e3eef5bff0',\n",
       " 'https://www.flipkart.com/phenomenal-round-sunglasses/p/itm7fc559d677aa4?pid=SGLFN8AUWJHNFAZD&lid=LSTSGLFN8AUWJHNFAZDP6OYYD&marketplace=FLIPKART&q=sunglasses&store=26x&spotlightTagId=TrendingId_26x&srno=s_1_11&otracker=search&otracker1=search&fm=SEARCH&iid=886be1bb-a6fd-4438-85e2-a01495f74d08.SGLFN8AUWJHNFAZD.SEARCH&ppt=hp&ppn=homepage&ssid=rqup92elvk0000001625738230354&qH=2cc465e3eef5bff0',\n",
       " 'https://www.flipkart.com/royal-son-retro-square-sunglasses/p/itm212388ef7fc65?pid=SGLFNFU4MMKYSCFH&lid=LSTSGLFNFU4MMKYSCFHCNIBKD&marketplace=FLIPKART&q=sunglasses&store=26x&srno=s_1_12&otracker=search&otracker1=search&fm=SEARCH&iid=en_KDNFaPqj1A4eNtwj2DqilRnTxnWIQ0qdrmdRxBlAGGmBdWVzGwm5QsWfIW0HERpJJrVpEpXxbtzoNBG3DgmLNw%3D%3D&ppt=hp&ppn=homepage&ssid=rqup92elvk0000001625738230354&qH=2cc465e3eef5bff0',\n",
       " 'https://www.flipkart.com/phenomenal-retro-square-sunglasses/p/itm05605e75ed801?pid=SGLFUXYAXFHYQAK4&lid=LSTSGLFUXYAXFHYQAK4VF4MKG&marketplace=FLIPKART&q=sunglasses&store=26x&srno=s_1_13&otracker=search&otracker1=search&fm=SEARCH&iid=886be1bb-a6fd-4438-85e2-a01495f74d08.SGLFUXYAXFHYQAK4.SEARCH&ppt=hp&ppn=homepage&ssid=rqup92elvk0000001625738230354&qH=2cc465e3eef5bff0',\n",
       " 'https://www.flipkart.com/kingsunglasses-wayfarer-sunglasses/p/itm59aef661362cd?pid=SGLG2ZY2RFEUSYZS&lid=LSTSGLG2ZY2RFEUSYZSBUS16I&marketplace=FLIPKART&q=sunglasses&store=26x&srno=s_1_14&otracker=search&otracker1=search&fm=SEARCH&iid=886be1bb-a6fd-4438-85e2-a01495f74d08.SGLG2ZY2RFEUSYZS.SEARCH&ppt=hp&ppn=homepage&ssid=rqup92elvk0000001625738230354&qH=2cc465e3eef5bff0',\n",
       " 'https://www.flipkart.com/kingsunglasses-round-sunglasses/p/itm668e2503f485e?pid=SGLFY5AYFU27DZM4&lid=LSTSGLFY5AYFU27DZM4RRJKPX&marketplace=FLIPKART&q=sunglasses&store=26x&srno=s_1_15&otracker=search&otracker1=search&fm=SEARCH&iid=886be1bb-a6fd-4438-85e2-a01495f74d08.SGLFY5AYFU27DZM4.SEARCH&ppt=hp&ppn=homepage&ssid=rqup92elvk0000001625738230354&qH=2cc465e3eef5bff0',\n",
       " 'https://www.flipkart.com/vincent-chase-lenskart-wayfarer-sunglasses/p/itm5ab7ecbc17172?pid=SGLFU52KEVBFAZGP&lid=LSTSGLFU52KEVBFAZGPYV3AQZ&marketplace=FLIPKART&q=sunglasses&store=26x&srno=s_1_16&otracker=search&otracker1=search&fm=SEARCH&iid=en_KDNFaPqj1A4eNtwj2DqilRnTxnWIQ0qdrmdRxBlAGGl%2BeXWtx9N4%2F8Fn5tQP5nHwBtUX3TBzXr4%2BMV4ph%2Be45g%3D%3D&ppt=hp&ppn=homepage&ssid=rqup92elvk0000001625738230354&qH=2cc465e3eef5bff0',\n",
       " 'https://www.flipkart.com/gansta-aviator-sunglasses/p/itmf7hmfp5r8hcdb?pid=SGLF7HGZKHHSTQ8H&lid=LSTSGLF7HGZKHHSTQ8H5VK4WX&marketplace=FLIPKART&q=sunglasses&store=26x&srno=s_1_17&otracker=search&otracker1=search&fm=SEARCH&iid=886be1bb-a6fd-4438-85e2-a01495f74d08.SGLF7HGZKHHSTQ8H.SEARCH&ppt=hp&ppn=homepage&ssid=rqup92elvk0000001625738230354&qH=2cc465e3eef5bff0',\n",
       " 'https://www.flipkart.com/kingsunglasses-round-sunglasses/p/itmfb9juuhzg79rv?pid=SGLFB9GQVKJZGNDG&lid=LSTSGLFB9GQVKJZGNDGMUY598&marketplace=FLIPKART&q=sunglasses&store=26x&srno=s_1_18&otracker=search&otracker1=search&fm=SEARCH&iid=886be1bb-a6fd-4438-85e2-a01495f74d08.SGLFB9GQVKJZGNDG.SEARCH&ppt=hp&ppn=homepage&ssid=rqup92elvk0000001625738230354&qH=2cc465e3eef5bff0',\n",
       " 'https://www.flipkart.com/rozzetta-craft-retro-square-sunglasses/p/itmf248ba5b3a895?pid=SGLFZFZNAQNZHYB7&lid=LSTSGLFZFZNAQNZHYB7GZ3YO5&marketplace=FLIPKART&q=sunglasses&store=26x&srno=s_1_19&otracker=search&otracker1=search&fm=SEARCH&iid=886be1bb-a6fd-4438-85e2-a01495f74d08.SGLFZFZNAQNZHYB7.SEARCH&ppt=hp&ppn=homepage&ssid=rqup92elvk0000001625738230354&qH=2cc465e3eef5bff0',\n",
       " 'https://www.flipkart.com/aislin-wayfarer-rectangular-sunglasses/p/itmbac888d3eb146?pid=SGLFRFUZMAWXAQSH&lid=LSTSGLFRFUZMAWXAQSHIE3KKV&marketplace=FLIPKART&q=sunglasses&store=26x&srno=s_1_20&otracker=search&otracker1=search&fm=SEARCH&iid=en_KDNFaPqj1A4eNtwj2DqilRnTxnWIQ0qdrmdRxBlAGGmOpaV65%2FLo5Yw4iK2XTkgswPKkpeql%2F9eq3lq2jrAY5g%3D%3D&ppt=hp&ppn=homepage&ssid=rqup92elvk0000001625738230354&qH=2cc465e3eef5bff0',\n",
       " 'https://www.flipkart.com/hipe-sports-sunglasses/p/itm3e54ea56c399f?pid=SGLFGYGHYR7AAJPJ&lid=LSTSGLFGYGHYR7AAJPJMUU6KY&marketplace=FLIPKART&q=sunglasses&store=26x&srno=s_1_21&otracker=search&otracker1=search&fm=SEARCH&iid=886be1bb-a6fd-4438-85e2-a01495f74d08.SGLFGYGHYR7AAJPJ.SEARCH&ppt=hp&ppn=homepage&ssid=rqup92elvk0000001625738230354&qH=2cc465e3eef5bff0',\n",
       " 'https://www.flipkart.com/piraso-aviator-sunglasses/p/itme10cb1c3329df?pid=SGLFZGE6GMSXZGRP&lid=LSTSGLFZGE6GMSXZGRPN2FYWJ&marketplace=FLIPKART&q=sunglasses&store=26x&srno=s_1_22&otracker=search&otracker1=search&fm=SEARCH&iid=886be1bb-a6fd-4438-85e2-a01495f74d08.SGLFZGE6GMSXZGRP.SEARCH&ppt=hp&ppn=homepage&ssid=rqup92elvk0000001625738230354&qH=2cc465e3eef5bff0',\n",
       " 'https://www.flipkart.com/deixels-aviator-wayfarer-sunglasses/p/itmf3yke7n2axuym?pid=SGLF2YZXCDM6QACV&lid=LSTSGLF2YZXCDM6QACV8HRV24&marketplace=FLIPKART&q=sunglasses&store=26x&srno=s_1_23&otracker=search&otracker1=search&fm=SEARCH&iid=886be1bb-a6fd-4438-85e2-a01495f74d08.SGLF2YZXCDM6QACV.SEARCH&ppt=hp&ppn=homepage&ssid=rqup92elvk0000001625738230354&qH=2cc465e3eef5bff0',\n",
       " 'https://www.flipkart.com/villain-retro-square-sunglasses/p/itmd4d858799c270?pid=SGLGYFCUFAGZGPPH&lid=LSTSGLGYFCUFAGZGPPH6MTKU4&marketplace=FLIPKART&q=sunglasses&store=26x&srno=s_1_24&otracker=search&otracker1=search&fm=SEARCH&iid=en_KDNFaPqj1A4eNtwj2DqilRnTxnWIQ0qdrmdRxBlAGGnBScPprYyFjBcXwEeSvfFayxGhqSWEQbNwgstP254SnQ%3D%3D&ppt=hp&ppn=homepage&ssid=rqup92elvk0000001625738230354&qH=2cc465e3eef5bff0',\n",
       " 'https://www.flipkart.com/nuvew-aviator-sunglasses/p/itm1b5c5bd8eee84?pid=SGLFKJW39ZRP8MYU&lid=LSTSGLFKJW39ZRP8MYUANUM4Q&marketplace=FLIPKART&q=sunglasses&store=26x&srno=s_1_25&otracker=search&otracker1=search&fm=SEARCH&iid=886be1bb-a6fd-4438-85e2-a01495f74d08.SGLFKJW39ZRP8MYU.SEARCH&ppt=hp&ppn=homepage&ssid=rqup92elvk0000001625738230354&qH=2cc465e3eef5bff0',\n",
       " 'https://www.flipkart.com/hippon-wayfarer-sunglasses/p/itm05550ccebbf7b?pid=SGLFHPMMVHHGWKNG&lid=LSTSGLFHPMMVHHGWKNG1S9QVG&marketplace=FLIPKART&q=sunglasses&store=26x&srno=s_1_26&otracker=search&otracker1=search&fm=SEARCH&iid=886be1bb-a6fd-4438-85e2-a01495f74d08.SGLFHPMMVHHGWKNG.SEARCH&ppt=hp&ppn=homepage&ssid=rqup92elvk0000001625738230354&qH=2cc465e3eef5bff0',\n",
       " 'https://www.flipkart.com/fastrack-wayfarer-sunglasses/p/itm04d9621b98c78?pid=SGLFG94C8PAHZ3SH&lid=LSTSGLFG94C8PAHZ3SHAFCJXO&marketplace=FLIPKART&q=sunglasses&store=26x&srno=s_1_27&otracker=search&otracker1=search&fm=SEARCH&iid=886be1bb-a6fd-4438-85e2-a01495f74d08.SGLFG94C8PAHZ3SH.SEARCH&ppt=hp&ppn=homepage&ssid=rqup92elvk0000001625738230354&qH=2cc465e3eef5bff0',\n",
       " 'https://www.flipkart.com/aislin-wayfarer-sunglasses/p/itm03b74e9890bd2?pid=SGLFRGSVHQZMUKPA&lid=LSTSGLFRGSVHQZMUKPASVROAW&marketplace=FLIPKART&q=sunglasses&store=26x&srno=s_1_28&otracker=search&otracker1=search&fm=SEARCH&iid=en_KDNFaPqj1A4eNtwj2DqilRnTxnWIQ0qdrmdRxBlAGGmFzPmyoeQyqYoEn0F4zzy9LsYDanBkm5Hrx20IcCK19Q%3D%3D&ppt=hp&ppn=homepage&ssid=rqup92elvk0000001625738230354&qH=2cc465e3eef5bff0',\n",
       " 'https://www.flipkart.com/fastrack-aviator-sunglasses/p/itm3d6674f888d98?pid=SGLFKYGHKP4BXEMH&lid=LSTSGLFKYGHKP4BXEMHAL1IED&marketplace=FLIPKART&q=sunglasses&store=26x&srno=s_1_29&otracker=search&otracker1=search&fm=SEARCH&iid=886be1bb-a6fd-4438-85e2-a01495f74d08.SGLFKYGHKP4BXEMH.SEARCH&ppt=hp&ppn=homepage&ssid=rqup92elvk0000001625738230354&qH=2cc465e3eef5bff0',\n",
       " 'https://www.flipkart.com/fastrack-wrap-around-sunglasses/p/itmf3yhbz5qhyhaz?pid=SGLDNGSB52SYAHP8&lid=LSTSGLDNGSB52SYAHP8KFQP3U&marketplace=FLIPKART&q=sunglasses&store=26x&srno=s_1_30&otracker=search&otracker1=search&fm=SEARCH&iid=886be1bb-a6fd-4438-85e2-a01495f74d08.SGLDNGSB52SYAHP8.SEARCH&ppt=hp&ppn=homepage&ssid=rqup92elvk0000001625738230354&qH=2cc465e3eef5bff0',\n",
       " 'https://www.flipkart.com/irus-idee-rectangular-sunglasses/p/itm15f1f8c72b6be?pid=SGLFUG58GGAZXPFY&lid=LSTSGLFUG58GGAZXPFYYHEKLD&marketplace=FLIPKART&q=sunglasses&store=26x&spotlightTagId=TrendingId_26x&srno=s_1_31&otracker=search&otracker1=search&fm=SEARCH&iid=886be1bb-a6fd-4438-85e2-a01495f74d08.SGLFUG58GGAZXPFY.SEARCH&ppt=hp&ppn=homepage&ssid=rqup92elvk0000001625738230354&qH=2cc465e3eef5bff0',\n",
       " 'https://www.flipkart.com/rozzetta-craft-shield-sunglasses/p/itmc5444d5058e09?pid=SGLFPZ65YQPYKUQP&lid=LSTSGLFPZ65YQPYKUQP4W0V5O&marketplace=FLIPKART&q=sunglasses&store=26x&srno=s_1_32&otracker=search&otracker1=search&fm=SEARCH&iid=en_KDNFaPqj1A4eNtwj2DqilRnTxnWIQ0qdrmdRxBlAGGnu0v7D6ruoIG84y5VRdKQYVWwS%2F2C2WpGCle8cET6Vjw%3D%3D&ppt=hp&ppn=homepage&ssid=rqup92elvk0000001625738230354&qH=2cc465e3eef5bff0',\n",
       " 'https://www.flipkart.com/piraso-aviator-sunglasses/p/itma9ed6fe9b3b86?pid=SGLFZJQUNAHYUCAS&lid=LSTSGLFZJQUNAHYUCASKDXKTE&marketplace=FLIPKART&q=sunglasses&store=26x&srno=s_1_33&otracker=search&otracker1=search&fm=SEARCH&iid=886be1bb-a6fd-4438-85e2-a01495f74d08.SGLFZJQUNAHYUCAS.SEARCH&ppt=hp&ppn=homepage&ssid=rqup92elvk0000001625738230354&qH=2cc465e3eef5bff0',\n",
       " 'https://www.flipkart.com/fastrack-aviator-sunglasses/p/itmf79dqewt9sf6d?pid=SGLF79DQGP7E4G2P&lid=LSTSGLF79DQGP7E4G2PYP2PGG&marketplace=FLIPKART&q=sunglasses&store=26x&srno=s_1_34&otracker=search&otracker1=search&fm=SEARCH&iid=886be1bb-a6fd-4438-85e2-a01495f74d08.SGLF79DQGP7E4G2P.SEARCH&ppt=hp&ppn=homepage&ssid=rqup92elvk0000001625738230354&qH=2cc465e3eef5bff0',\n",
       " 'https://www.flipkart.com/rozzetta-craft-rectangular-sunglasses/p/itma3addc61d1d3f?pid=SGLFSUXHJZWKYRHG&lid=LSTSGLFSUXHJZWKYRHGPARCAG&marketplace=FLIPKART&q=sunglasses&store=26x&srno=s_1_35&otracker=search&otracker1=search&fm=SEARCH&iid=886be1bb-a6fd-4438-85e2-a01495f74d08.SGLFSUXHJZWKYRHG.SEARCH&ppt=hp&ppn=homepage&ssid=rqup92elvk0000001625738230354&qH=2cc465e3eef5bff0',\n",
       " 'https://www.flipkart.com/aislin-oval-sunglasses/p/itmca5dbf79f2a5a?pid=SGLFRGPBGW5UN443&lid=LSTSGLFRGPBGW5UN443ZV8SNT&marketplace=FLIPKART&q=sunglasses&store=26x&srno=s_1_36&otracker=search&otracker1=search&fm=SEARCH&iid=en_KDNFaPqj1A4eNtwj2DqilRnTxnWIQ0qdrmdRxBlAGGkiEbxZjJyhuk3VIkOVQ%2BkK6gbLL8Kh1%2FmMHgz4UaRb0g%3D%3D&ppt=hp&ppn=homepage&ssid=rqup92elvk0000001625738230354&qH=2cc465e3eef5bff0',\n",
       " 'https://www.flipkart.com/piraso-aviator-sunglasses/p/itm405062704fcc0?pid=SGLFTYY5NWNKSC64&lid=LSTSGLFTYY5NWNKSC64YLGIVW&marketplace=FLIPKART&q=sunglasses&store=26x&srno=s_1_37&otracker=search&otracker1=search&fm=SEARCH&iid=886be1bb-a6fd-4438-85e2-a01495f74d08.SGLFTYY5NWNKSC64.SEARCH&ppt=hp&ppn=homepage&ssid=rqup92elvk0000001625738230354&qH=2cc465e3eef5bff0',\n",
       " 'https://www.flipkart.com/rozzetta-craft-rectangular-sunglasses/p/itm7e717fb4e4af0?pid=SGLFX84MT48ZH7RZ&lid=LSTSGLFX84MT48ZH7RZPN64SZ&marketplace=FLIPKART&q=sunglasses&store=26x&srno=s_1_38&otracker=search&otracker1=search&fm=SEARCH&iid=886be1bb-a6fd-4438-85e2-a01495f74d08.SGLFX84MT48ZH7RZ.SEARCH&ppt=hp&ppn=homepage&ssid=rqup92elvk0000001625738230354&qH=2cc465e3eef5bff0',\n",
       " 'https://www.flipkart.com/kingsunglasses-rectangular-sunglasses/p/itm7a1f2d0b309e9?pid=SGLGYFFNQNFTBBVU&lid=LSTSGLGYFFNQNFTBBVUXSSV7U&marketplace=FLIPKART&q=sunglasses&store=26x&srno=s_1_39&otracker=search&otracker1=search&fm=SEARCH&iid=886be1bb-a6fd-4438-85e2-a01495f74d08.SGLGYFFNQNFTBBVU.SEARCH&ppt=hp&ppn=homepage&ssid=rqup92elvk0000001625738230354&qH=2cc465e3eef5bff0',\n",
       " 'https://www.flipkart.com/royal-son-wayfarer-sunglasses/p/itmfgaf9pdmpxhre?pid=SGLFGAYYFCAGPJ2N&lid=LSTSGLFGAYYFCAGPJ2NUDBKSR&marketplace=FLIPKART&q=sunglasses&store=26x&srno=s_1_40&otracker=search&otracker1=search&fm=SEARCH&iid=en_KDNFaPqj1A4eNtwj2DqilRnTxnWIQ0qdrmdRxBlAGGkjgzUiShByJhrO5nwIqrgfTHIQRIuQqjL5QtgreQnLAw%3D%3D&ppt=hp&ppn=homepage&ssid=rqup92elvk0000001625738230354&qH=2cc465e3eef5bff0']"
      ]
     },
     "execution_count": 39,
     "metadata": {},
     "output_type": "execute_result"
    }
   ],
   "source": [
    "# FETCHING 100 sunglasses\n",
    "\n",
    "product_opening_urls = []\n",
    "\n",
    "url = driver.find_elements_by_xpath(\"//a[@class='IRpwTa']\")\n",
    "\n",
    "for i in url:\n",
    "    product_opening_urls.append(i.get_attribute('href'))\n",
    "product_opening_urls "
   ]
  },
  {
   "cell_type": "code",
   "execution_count": 40,
   "metadata": {},
   "outputs": [
    {
     "data": {
      "text/plain": [
       "['Polarized, UV Protection Round Sunglasses (49)  (For Men & Women, Black)',\n",
       " 'Polarized Retro Square Sunglasses (58)  (For Men, Black, Grey)',\n",
       " 'UV Protection Wayfarer Sunglasses (Free Size)  (For Men, Green)',\n",
       " 'Mirrored, UV Protection Wayfarer Sunglasses (Free Size)  (For Men & Women, Blue, Green, Brown, Black, Clear)',\n",
       " 'UV Protection Rectangular Sunglasses (Free Size)  (For Men, Grey)',\n",
       " 'UV Protection Aviator Sunglasses (54)  (For Men & Women, Black)',\n",
       " 'UV Protection Wayfarer Sunglasses (Free Size)  (For Men, Blue)',\n",
       " 'Mirrored Aviator Sunglasses (55)  (For Men, Black, Brown)',\n",
       " 'UV Protection, Polarized Wayfarer Sunglasses (56)  (For Men, Brown)',\n",
       " 'UV Protection Wayfarer Sunglasses (56)  (For Men & Women, Green)',\n",
       " 'UV Protection Round Sunglasses (53)  (For Men & Women, Blue, Black, Silver, Red, Yellow)',\n",
       " 'UV Protection Retro Square Sunglasses (88)  (For Men & Women, Blue)',\n",
       " 'UV Protection Retro Square Sunglasses (Free Size)  (For Men & Women, Yellow, Red)',\n",
       " 'Mirrored, UV Protection Wayfarer Sunglasses (Free Size)  (For Men & Women, Yellow, Blue, Green, Brown, Black)',\n",
       " 'UV Protection Round Sunglasses (Free Size)  (For Men & Women, Yellow, Blue, Red, Black, Green, Blue)',\n",
       " 'by Lenskart UV Protection Wayfarer Sunglasses (49)  (For Men & Women, Grey)',\n",
       " 'UV Protection Aviator Sunglasses (57)  (For Men & Women, Black, Blue)',\n",
       " 'UV Protection Round Sunglasses (54)  (For Men & Women, Clear)',\n",
       " 'UV Protection Retro Square Sunglasses (Free Size)  (For Men & Women, Blue)',\n",
       " 'Toughened Glass Lens, UV Protection Wayfarer, Rectangular Sunglasses (64)  (For Men, Green)',\n",
       " 'UV Protection Sports Sunglasses (Free Size)  (For Men & Women, Multicolor)',\n",
       " 'UV Protection Aviator Sunglasses (Free Size)  (For Men & Women, Golden, Black)',\n",
       " 'UV Protection Aviator, Wayfarer Sunglasses (Free Size)  (For Men & Women, Black)',\n",
       " 'Others Retro Square Sunglasses (Free Size)  (For Men, Black)',\n",
       " 'UV Protection Aviator Sunglasses (58)  (For Men & Women, Black, Grey, Violet)',\n",
       " 'UV Protection Wayfarer Sunglasses (55)  (For Men & Women, Violet)',\n",
       " 'Gradient, UV Protection Wayfarer Sunglasses (Free Size)  (For Men, Green)',\n",
       " 'UV Protection, Gradient Wayfarer Sunglasses (57)  (For Women, Grey, Orange)',\n",
       " 'UV Protection Aviator Sunglasses (58)  (For Men & Women, Green)',\n",
       " 'UV Protection Wrap-around Sunglasses (Free Size)  (For Men, Green)',\n",
       " 'Gradient Rectangular Sunglasses (56)  (For Men, Grey)',\n",
       " 'UV Protection Shield Sunglasses (54)  (For Men & Women, Black)',\n",
       " 'UV Protection Aviator Sunglasses (54)  (For Men & Women, Black, Golden)',\n",
       " 'UV Protection Aviator Sunglasses (Free Size)  (For Men, Green)',\n",
       " 'UV Protection, Gradient Rectangular Sunglasses (Free Size)  (For Men & Women, Black)',\n",
       " 'UV Protection Oval Sunglasses (63)  (For Women, Black)',\n",
       " 'UV Protection Aviator Sunglasses (58)  (For Men & Women, Black)',\n",
       " 'UV Protection, Riding Glasses Rectangular Sunglasses (Free Size)  (For Men & Women, Clear)',\n",
       " 'UV Protection Rectangular Sunglasses (55)  (For Men & Women, Black, Red, Blue, Yellow, Black)',\n",
       " 'UV Protection Wayfarer Sunglasses (55)  (For Men & Women, Black, Brown, Clear)']"
      ]
     },
     "execution_count": 40,
     "metadata": {},
     "output_type": "execute_result"
    }
   ],
   "source": [
    "# 40 \n",
    "product_titles = []\n",
    "for i in product_opening_urls:\n",
    "    driver.get(i)\n",
    "    try:\n",
    "        products = driver.find_element_by_xpath(\"//span[@class='B_NuCI']\")\n",
    "        product_titles.append(products.text)\n",
    "    except:\n",
    "        pass\n",
    "product_titles "
   ]
  },
  {
   "cell_type": "code",
   "execution_count": 130,
   "metadata": {},
   "outputs": [
    {
     "data": {
      "text/plain": [
       "['https://www.flipkart.com/search?q=sunglasses&otracker=search&otracker1=search&marketplace=FLIPKART&as-show=on&as=off&page=2',\n",
       " 'https://www.flipkart.com/search?q=sunglasses&otracker=search&otracker1=search&marketplace=FLIPKART&as-show=on&as=off&page=3',\n",
       " 'https://www.flipkart.com/search?q=sunglasses&otracker=search&otracker1=search&marketplace=FLIPKART&as-show=on&as=off&page=4',\n",
       " 'https://www.flipkart.com/search?q=sunglasses&otracker=search&otracker1=search&marketplace=FLIPKART&as-show=on&as=off&page=5',\n",
       " 'https://www.flipkart.com/search?q=sunglasses&otracker=search&otracker1=search&marketplace=FLIPKART&as-show=on&as=off&page=6',\n",
       " 'https://www.flipkart.com/search?q=sunglasses&otracker=search&otracker1=search&marketplace=FLIPKART&as-show=on&as=off&page=7',\n",
       " 'https://www.flipkart.com/search?q=sunglasses&otracker=search&otracker1=search&marketplace=FLIPKART&as-show=on&as=off&page=8',\n",
       " 'https://www.flipkart.com/search?q=sunglasses&otracker=search&otracker1=search&marketplace=FLIPKART&as-show=on&as=off&page=9',\n",
       " 'https://www.flipkart.com/search?q=sunglasses&otracker=search&otracker1=search&marketplace=FLIPKART&as-show=on&as=off&page=10']"
      ]
     },
     "execution_count": 130,
     "metadata": {},
     "output_type": "execute_result"
    }
   ],
   "source": [
    "# FETCHING 100 sunglasses\n",
    "\n",
    "product_opening_urls1 = []\n",
    "\n",
    "url = driver.find_elements_by_xpath(\"//a[@class='ge-49M']\")\n",
    "\n",
    "for i in url:\n",
    "    product_opening_urls1.append(i.get_attribute('href'))\n",
    "product_opening_urls1 "
   ]
  },
  {
   "cell_type": "code",
   "execution_count": 133,
   "metadata": {},
   "outputs": [
    {
     "data": {
      "text/plain": [
       "['UV Protection Rectangular Sunglasses (59)',\n",
       " 'Mirrored Aviator Sunglasses (55)',\n",
       " 'UV Protection, Gradient Round Sunglasses (Free Size)',\n",
       " 'UV Protection, Gradient Butterfly, Retro Square Sunglas...',\n",
       " 'UV Protection Aviator Sunglasses (54)',\n",
       " 'UV Protection Retro Square Sunglasses (Free Size)',\n",
       " 'UV Protection Rectangular Sunglasses (Free Size)',\n",
       " 'UV Protection, Riding Glasses Rectangular, Retro Square...',\n",
       " 'UV Protection, Mirrored Wayfarer Sunglasses (53)',\n",
       " 'Mirrored, UV Protection Wayfarer, Wayfarer, Wayfarer, W...',\n",
       " 'Mirrored Aviator Sunglasses (53)',\n",
       " 'UV Protection Retro Square Sunglasses (88)',\n",
       " 'UV Protection Wayfarer Sunglasses (Free Size)',\n",
       " 'Gradient, UV Protection Round Sunglasses (Free Size)',\n",
       " 'Mirrored Retro Square Sunglasses (57)',\n",
       " 'UV Protection Shield Sunglasses (54)',\n",
       " 'Polarized Rectangular Sunglasses (55)',\n",
       " 'Polarized, UV Protection, Riding Glasses Wayfarer Sungl...',\n",
       " 'UV Protection Aviator Sunglasses (57)',\n",
       " 'UV Protection Aviator Sunglasses (58)',\n",
       " 'UV Protection Rectangular Sunglasses (58)',\n",
       " 'UV Protection Wayfarer Sunglasses (Free Size)',\n",
       " 'UV Protection, Night Vision, Riding Glasses Aviator Sun...',\n",
       " 'UV Protection Wayfarer Sunglasses (Free Size)',\n",
       " 'UV Protection, Night Vision, Gradient, Mirrored Round, ...',\n",
       " 'UV Protection Retro Square Sunglasses (58)',\n",
       " 'Gradient, UV Protection Wayfarer Sunglasses (Free Size)',\n",
       " 'UV Protection Wayfarer Sunglasses (55)',\n",
       " 'UV Protection, Gradient Retro Square Sunglasses (Free S...',\n",
       " 'UV Protection Round Sunglasses (Free Size)',\n",
       " 'UV Protection Wayfarer Sunglasses (Free Size)',\n",
       " 'Polarized, UV Protection Rectangular Sunglasses (59)',\n",
       " 'UV Protection, Mirrored Retro Square Sunglasses (Free S...',\n",
       " 'UV Protection Wayfarer Sunglasses (55)',\n",
       " 'UV Protection, Gradient Round Sunglasses (Free Size)',\n",
       " 'by Lenskart UV Protection Wayfarer Sunglasses (49)',\n",
       " 'UV Protection Rectangular Sunglasses (Free Size)',\n",
       " 'UV Protection Wayfarer Sunglasses (32)',\n",
       " 'UV Protection, Mirrored Clubmaster Sunglasses (Free Siz...',\n",
       " 'Others Retro Square Sunglasses (Free Size)',\n",
       " 'UV Protection, Riding Glasses Wayfarer Sunglasses (56)',\n",
       " 'UV Protection Rectangular Sunglasses (Free Size)',\n",
       " 'UV Protection Wayfarer Sunglasses (32)',\n",
       " 'UV Protection Aviator Sunglasses (54)',\n",
       " 'Mirrored, UV Protection Aviator Sunglasses (56)',\n",
       " 'UV Protection, Mirrored Clubmaster Sunglasses (Free Siz...',\n",
       " 'UV Protection Wayfarer Sunglasses (55)',\n",
       " 'UV Protection, Gradient Butterfly, Retro Square Sunglas...',\n",
       " 'UV Protection, Gradient Round Sunglasses (Free Size)',\n",
       " 'UV Protection, Gradient, Mirrored, Riding Glasses Recta...',\n",
       " 'Mirrored, UV Protection, Riding Glasses, Others Wrap-ar...',\n",
       " 'UV Protection, Riding Glasses Rectangular, Retro Square...',\n",
       " 'UV Protection Rectangular Sunglasses (55)',\n",
       " 'Others Rectangular Sunglasses (56)',\n",
       " 'UV Protection Retro Square Sunglasses (58)',\n",
       " 'UV Protection Retro Square Sunglasses (88)',\n",
       " 'UV Protection Round Sunglasses (Free Size)',\n",
       " 'Gradient Aviator Sunglasses (Free Size)',\n",
       " 'UV Protection Aviator Sunglasses (57)',\n",
       " 'UV Protection Shield Sunglasses (54)',\n",
       " 'UV Protection Wrap-around Sunglasses (Free Size)',\n",
       " 'UV Protection Aviator Sunglasses (Free Size)',\n",
       " 'Gradient, UV Protection Round Sunglasses (Free Size)',\n",
       " 'UV Protection Wayfarer Sunglasses (Free Size)',\n",
       " 'UV Protection Retro Square Sunglasses (Free Size)',\n",
       " 'Mirrored, UV Protection Rectangular Sunglasses (56)',\n",
       " 'UV Protection Round Sunglasses (Free Size)',\n",
       " 'by Lenskart UV Protection Wayfarer Sunglasses (49)',\n",
       " 'Night Vision, Riding Glasses Wayfarer Sunglasses (53)',\n",
       " 'Others Rectangular Sunglasses (52)',\n",
       " 'Gradient, Mirrored, UV Protection Aviator Sunglasses (5...',\n",
       " 'Others Retro Square Sunglasses (Free Size)',\n",
       " 'Gradient Retro Square Sunglasses (60)',\n",
       " 'UV Protection Wayfarer Sunglasses (56)',\n",
       " 'UV Protection Round Sunglasses (Free Size)',\n",
       " 'UV Protection Wayfarer Sunglasses (55)',\n",
       " 'UV Protection Oval Sunglasses (Free Size)',\n",
       " 'UV Protection Aviator Sunglasses (Free Size)',\n",
       " 'Riding Glasses, UV Protection, Others Aviator Sunglasse...',\n",
       " 'UV Protection Wayfarer Sunglasses (53)',\n",
       " 'UV Protection Aviator Sunglasses (55)',\n",
       " 'UV Protection Wayfarer Sunglasses (Free Size)',\n",
       " 'UV Protection, Mirrored Round Sunglasses (Free Size)',\n",
       " 'UV Protection Aviator Sunglasses (54)',\n",
       " 'Gradient Aviator Sunglasses (60)',\n",
       " 'UV Protection Rectangular Sunglasses (59)',\n",
       " 'UV Protection, Gradient Butterfly, Retro Square Sunglas...',\n",
       " 'UV Protection, Gradient Butterfly, Retro Square Sunglas...',\n",
       " 'UV Protection Wayfarer Sunglasses (Free Size)',\n",
       " 'UV Protection Wayfarer Sunglasses (Free Size)',\n",
       " 'UV Protection Wayfarer Sunglasses (Free Size)',\n",
       " 'UV Protection Shield Sunglasses (54)',\n",
       " 'Polarized Rectangular Sunglasses (65)',\n",
       " 'UV Protection Retro Square Sunglasses (88)',\n",
       " 'UV Protection Wayfarer Sunglasses (57)',\n",
       " 'UV Protection Wayfarer Sunglasses (32)',\n",
       " 'Polarized, UV Protection Aviator Sunglasses (Free Size)',\n",
       " 'Polarized, UV Protection Retro Square Sunglasses (53)',\n",
       " 'Polarized, UV Protection Sports Sunglasses (Free Size)',\n",
       " 'UV Protection Aviator Sunglasses (58)']"
      ]
     },
     "execution_count": 133,
     "metadata": {},
     "output_type": "execute_result"
    }
   ],
   "source": [
    "# 100Sunglasses list\n",
    "\n",
    "Product_name = []\n",
    "for i in product_opening_urls1:\n",
    "    driver.get(i)\n",
    "    product_100 = driver.find_elements_by_xpath(\"//a[@class='IRpwTa']\")\n",
    "    for i in product_100:\n",
    "        Product_name.append(i.text)\n",
    "Product_name[:100]  "
   ]
  },
  {
   "cell_type": "code",
   "execution_count": 134,
   "metadata": {},
   "outputs": [
    {
     "data": {
      "text/plain": [
       "['Fastrack',\n",
       " 'ROYAL SON',\n",
       " 'ROZZETTA CRAFT',\n",
       " 'AISLIN',\n",
       " 'PIRASO',\n",
       " 'Flizz',\n",
       " 'kingsunglasses',\n",
       " 'ROZZETTA CRAFT',\n",
       " 'GANSTA',\n",
       " 'kingsunglasses',\n",
       " 'Singco',\n",
       " 'PIRASO',\n",
       " 'Fastrack',\n",
       " 'ROZZETTA CRAFT',\n",
       " 'Wrogn',\n",
       " 'ROYAL SON',\n",
       " 'IDEE',\n",
       " 'DEIXELS',\n",
       " 'GANSTA',\n",
       " 'povty',\n",
       " 'ROYAL SON',\n",
       " 'Fastrack',\n",
       " 'GANSTA',\n",
       " 'ROYAL SON',\n",
       " 'hipe',\n",
       " 'ROYAL SON',\n",
       " 'Fastrack',\n",
       " 'AISLIN',\n",
       " 'ROZZETTA CRAFT',\n",
       " 'Singco India',\n",
       " 'Fastrack',\n",
       " 'VINCENT CHASE',\n",
       " 'PHENOMENAL',\n",
       " 'HIPPON',\n",
       " 'ROZZETTA CRAFT',\n",
       " 'PIRASO',\n",
       " 'ROZZETTA CRAFT',\n",
       " 'PIRASO',\n",
       " 'PHENOMENAL',\n",
       " 'hipe',\n",
       " 'NuVew',\n",
       " 'ROZZETTA CRAFT',\n",
       " 'PIRASO',\n",
       " 'PIRASO',\n",
       " 'kingsunglasses',\n",
       " 'PHENOMENAL',\n",
       " 'HIPPON',\n",
       " 'AISLIN',\n",
       " 'ROZZETTA CRAFT',\n",
       " 'hipe',\n",
       " 'Singco India',\n",
       " 'ROZZETTA CRAFT',\n",
       " 'kingsunglasses',\n",
       " 'IRUS by IDEE',\n",
       " 'ROYAL SON',\n",
       " 'PIRASO',\n",
       " 'kingsunglasses',\n",
       " 'Fastrack',\n",
       " 'GANSTA',\n",
       " 'AISLIN',\n",
       " 'Fastrack',\n",
       " 'NuVew',\n",
       " 'hipe',\n",
       " 'povty',\n",
       " 'Fravy',\n",
       " 'United Colors of Benetton',\n",
       " 'DEIXELS',\n",
       " 'VINCENT CHASE',\n",
       " 'GANSTA',\n",
       " 'FOSSIL',\n",
       " 'United Colors of Benetton',\n",
       " 'ROYAL SON',\n",
       " 'ROYAL SON',\n",
       " 'Fastrack',\n",
       " 'elegante',\n",
       " 'ROYAL SON',\n",
       " 'Fastrack',\n",
       " 'Fastrack',\n",
       " 'Singco India',\n",
       " 'AISLIN',\n",
       " 'Crackers',\n",
       " 'BEQUBE',\n",
       " 'PHENOMENAL',\n",
       " 'PIRASO',\n",
       " 'IDEE',\n",
       " 'Fastrack',\n",
       " 'AISLIN',\n",
       " 'AISLIN',\n",
       " 'Poloport',\n",
       " 'Fastrack',\n",
       " 'Fastrack',\n",
       " 'Elligator',\n",
       " 'ROYAL SON',\n",
       " 'ROYAL SON',\n",
       " 'Fastrack',\n",
       " 'ROZZETTA CRAFT',\n",
       " 'ROZZETTA CRAFT',\n",
       " 'Badfella',\n",
       " 'Fastrack',\n",
       " 'PIRASO']"
      ]
     },
     "execution_count": 134,
     "metadata": {},
     "output_type": "execute_result"
    }
   ],
   "source": [
    "# fetching 100 brand names\n",
    "\n",
    "Brand_name = []\n",
    "for i in product_opening_urls1:\n",
    "    driver.get(i)\n",
    "    product_brand = driver.find_elements_by_xpath(\"//div[@class='_2WkVRV']\")\n",
    "    for i in product_brand:\n",
    "        Brand_name.append(i.text)\n",
    "Brand_name[:100] "
   ]
  },
  {
   "cell_type": "code",
   "execution_count": 149,
   "metadata": {},
   "outputs": [
    {
     "data": {
      "text/plain": [
       "['UV Protection, Gradient Wayfarer Sunglasses (55)',\n",
       " 'UV Protection Round Sunglasses (Free Size)',\n",
       " 'UV Protection Aviator Sunglasses (58)',\n",
       " 'UV Protection, Gradient, Night Vision Retro Square Sung...',\n",
       " 'UV Protection, Mirrored Round Sunglasses (54)',\n",
       " 'Mirrored Aviator Sunglasses (55)',\n",
       " 'Mirrored, Gradient, Riding Glasses Round Sunglasses (55...',\n",
       " 'UV Protection, Gradient Butterfly, Retro Square Sunglas...',\n",
       " 'UV Protection Shield Sunglasses (Free Size)',\n",
       " 'Mirrored Wayfarer Sunglasses (55)',\n",
       " 'UV Protection Wayfarer Sunglasses (Free Size)',\n",
       " 'UV Protection Shield Sunglasses (54)',\n",
       " 'UV Protection, Gradient Round Sunglasses (Free Size)',\n",
       " 'UV Protection, Others Aviator Sunglasses (32)',\n",
       " 'UV Protection Aviator Sunglasses (54)',\n",
       " 'UV Protection Wayfarer Sunglasses (32)',\n",
       " 'UV Protection Retro Square Sunglasses (Free Size)',\n",
       " 'UV Protection Rectangular Sunglasses (59)',\n",
       " 'UV Protection, Mirrored Wayfarer Sunglasses (53)',\n",
       " 'Polarized, UV Protection Aviator Sunglasses (52)',\n",
       " 'UV Protection Aviator Sunglasses (61)',\n",
       " 'Mirrored, UV Protection Wayfarer, Wayfarer, Wayfarer, W...',\n",
       " 'UV Protection Rectangular Sunglasses (Free Size)',\n",
       " 'UV Protection Aviator Sunglasses (58)',\n",
       " 'Mirrored Aviator Sunglasses (53)',\n",
       " 'UV Protection Clubmaster Sunglasses (Free Size)',\n",
       " 'UV Protection, Mirrored Retro Square Sunglasses (53)',\n",
       " 'UV Protection, Gradient Round, Cat-eye Sunglasses (60)',\n",
       " 'UV Protection Wayfarer Sunglasses (Free Size)',\n",
       " 'Gradient, UV Protection Round Sunglasses (Free Size)',\n",
       " 'Mirrored Retro Square Sunglasses (57)',\n",
       " 'UV Protection Wayfarer Sunglasses (Free Size)',\n",
       " 'UV Protection Aviator Sunglasses (57)',\n",
       " 'Polarized, UV Protection, Riding Glasses Wayfarer Sungl...',\n",
       " 'Polarized Rectangular Sunglasses (55)',\n",
       " 'Toughened Glass Lens, UV Protection Wayfarer, Rectangul...',\n",
       " 'UV Protection Rectangular Sunglasses (58)',\n",
       " 'UV Protection, Riding Glasses, Others Aviator, Wayfarer...',\n",
       " 'UV Protection, Night Vision, Riding Glasses Aviator Sun...',\n",
       " 'Others Wayfarer Sunglasses (Free Size)',\n",
       " 'UV Protection, Mirrored Clubmaster Sunglasses (Free Siz...',\n",
       " 'UV Protection Retro Square Sunglasses (Free Size)',\n",
       " 'UV Protection, Riding Glasses Wayfarer Sunglasses (56)',\n",
       " 'UV Protection Aviator Sunglasses (54)',\n",
       " 'UV Protection, Gradient, Mirrored, Riding Glasses Recta...',\n",
       " 'UV Protection Wayfarer Sunglasses (32)',\n",
       " 'UV Protection Rectangular Sunglasses (Free Size)',\n",
       " 'UV Protection, Others Retro Square Sunglasses (Free Siz...',\n",
       " 'UV Protection Retro Square Sunglasses (Free Size)',\n",
       " 'UV Protection Rectangular Sunglasses (55)',\n",
       " 'Mirrored, UV Protection, Riding Glasses, Others Wrap-ar...',\n",
       " 'UV Protection, Gradient Butterfly, Retro Square Sunglas...',\n",
       " 'UV Protection Aviator Sunglasses (Free Size)',\n",
       " 'Gradient Aviator Sunglasses (Free Size)',\n",
       " 'UV Protection Retro Square Sunglasses (58)',\n",
       " 'UV Protection Butterfly Sunglasses (64)',\n",
       " 'UV Protection Aviator Sunglasses (Free Size)',\n",
       " 'UV Protection Round Sunglasses (Free Size)',\n",
       " 'Mirrored, UV Protection Rectangular Sunglasses (56)',\n",
       " 'UV Protection Shield Sunglasses (54)',\n",
       " 'Gradient, Mirrored, UV Protection Aviator Sunglasses (5...',\n",
       " 'UV Protection Aviator Sunglasses (57)',\n",
       " 'UV Protection Round Sunglasses (Free Size)',\n",
       " 'UV Protection Aviator Sunglasses (58)',\n",
       " 'Others Rectangular Sunglasses (52)',\n",
       " 'UV Protection Round Sunglasses (Free Size)',\n",
       " 'Night Vision, Riding Glasses Wayfarer Sunglasses (53)',\n",
       " 'UV Protection Wayfarer Sunglasses (Free Size)',\n",
       " 'UV Protection Wrap-around Sunglasses (Free Size)',\n",
       " 'UV Protection Round Sunglasses (Free Size)',\n",
       " 'UV Protection, Gradient Butterfly, Retro Square Sunglas...',\n",
       " 'UV Protection Aviator Sunglasses (54)',\n",
       " 'Mirrored, UV Protection Aviator Sunglasses (56)',\n",
       " 'UV Protection Wayfarer Sunglasses (56)',\n",
       " 'UV Protection, Gradient Retro Square Sunglasses (Free S...',\n",
       " 'UV Protection, Gradient Retro Square Sunglasses (Free S...',\n",
       " 'UV Protection, Mirrored Wayfarer Sunglasses (61)',\n",
       " 'UV Protection Round Sunglasses (52)',\n",
       " 'UV Protection Oval Sunglasses (56)',\n",
       " 'Polarized, UV Protection Rectangular Sunglasses (59)',\n",
       " 'UV Protection Aviator Sunglasses (55)',\n",
       " 'Gradient, UV Protection Round Sunglasses (Free Size)',\n",
       " 'Gradient Round Sunglasses (53)',\n",
       " 'UV Protection Aviator Sunglasses (54)',\n",
       " 'UV Protection Rectangular Sunglasses (59)',\n",
       " 'UV Protection Sports Sunglasses (73)',\n",
       " 'UV Protection Wayfarer Sunglasses (Free Size)',\n",
       " 'UV Protection, Others Retro Square Sunglasses (Free Siz...',\n",
       " 'UV Protection Wayfarer Sunglasses (Free Size)',\n",
       " 'UV Protection, Mirrored Round Sunglasses (Free Size)',\n",
       " 'Gradient Aviator Sunglasses (60)',\n",
       " 'UV Protection, Gradient Butterfly, Retro Square Sunglas...',\n",
       " 'UV Protection Wayfarer Sunglasses (Free Size)',\n",
       " 'UV Protection Aviator Sunglasses (Free Size)',\n",
       " 'UV Protection Retro Square Sunglasses (88)',\n",
       " 'UV Protection Butterfly Sunglasses (64)',\n",
       " 'Polarized, UV Protection Round Sunglasses (49)',\n",
       " 'Polarized, UV Protection Retro Square Sunglasses (53)',\n",
       " 'UV Protection Wayfarer Sunglasses (Free Size)',\n",
       " 'UV Protection Shield Sunglasses (54)']"
      ]
     },
     "execution_count": 149,
     "metadata": {},
     "output_type": "execute_result"
    }
   ],
   "source": [
    "# fetching 100 product description\n",
    "\n",
    "descrption = []\n",
    "for i in product_opening_urls1:\n",
    "    driver.get(i)\n",
    "    product_desc = driver.find_elements_by_xpath(\"//a[@class='IRpwTa']\")\n",
    "    for i in product_desc:\n",
    "        descrption.append(i.text)\n",
    "descrption[:100]"
   ]
  },
  {
   "cell_type": "code",
   "execution_count": 146,
   "metadata": {},
   "outputs": [
    {
     "data": {
      "text/plain": [
       "['₹349',\n",
       " '₹1,115',\n",
       " '₹217',\n",
       " '₹498',\n",
       " '₹249',\n",
       " '₹755',\n",
       " '₹189',\n",
       " '₹499',\n",
       " '₹379',\n",
       " '₹355',\n",
       " '₹449',\n",
       " '₹237',\n",
       " '₹205',\n",
       " '₹162',\n",
       " '₹210',\n",
       " '₹759',\n",
       " '₹237',\n",
       " '₹399',\n",
       " '₹1,021',\n",
       " '₹331',\n",
       " '₹224',\n",
       " '₹629',\n",
       " '₹299',\n",
       " '₹349',\n",
       " '₹399',\n",
       " '₹252',\n",
       " '₹319',\n",
       " '₹1,179',\n",
       " '₹655',\n",
       " '₹449',\n",
       " '₹711',\n",
       " '₹599',\n",
       " '₹249',\n",
       " '₹1,035',\n",
       " '₹233',\n",
       " '₹664',\n",
       " '₹474',\n",
       " '₹214',\n",
       " '₹197',\n",
       " '₹945',\n",
       " '₹212',\n",
       " '₹237',\n",
       " '₹449',\n",
       " '₹237',\n",
       " '₹197',\n",
       " '₹319',\n",
       " '₹299',\n",
       " '₹498',\n",
       " '₹499',\n",
       " '₹235',\n",
       " '₹249',\n",
       " '₹499',\n",
       " '₹1,799',\n",
       " '₹1,440',\n",
       " '₹210',\n",
       " '₹759',\n",
       " '₹349',\n",
       " '₹299',\n",
       " '₹738',\n",
       " '₹331',\n",
       " '₹315',\n",
       " '₹1,222',\n",
       " '₹1,664',\n",
       " '₹625',\n",
       " '₹1,505',\n",
       " '₹323',\n",
       " '₹449',\n",
       " '₹498',\n",
       " '₹219',\n",
       " '₹207',\n",
       " '₹499',\n",
       " '₹1,179',\n",
       " '₹396',\n",
       " '₹633',\n",
       " '₹498',\n",
       " '₹349',\n",
       " '₹245',\n",
       " '₹1,093',\n",
       " '₹1,007',\n",
       " '₹945',\n",
       " '₹1,581',\n",
       " '₹399',\n",
       " '₹331',\n",
       " '₹237',\n",
       " '₹259',\n",
       " '₹1,031',\n",
       " '₹872',\n",
       " '₹498',\n",
       " '₹348',\n",
       " '₹925',\n",
       " '₹599',\n",
       " '₹499',\n",
       " '₹260',\n",
       " '₹539',\n",
       " '₹269',\n",
       " '₹759',\n",
       " '₹408',\n",
       " '₹699',\n",
       " '₹578',\n",
       " '₹237']"
      ]
     },
     "execution_count": 146,
     "metadata": {},
     "output_type": "execute_result"
    }
   ],
   "source": [
    "# fetching 100 price\n",
    "\n",
    "price = []\n",
    "for i in product_opening_urls1:\n",
    "    driver.get(i)\n",
    "    product_price = driver.find_elements_by_xpath(\"//div[@class='_30jeq3']\")\n",
    "    for i in product_price:\n",
    "        price.append(i.text)\n",
    "price[:100]"
   ]
  },
  {
   "cell_type": "code",
   "execution_count": 147,
   "metadata": {},
   "outputs": [
    {
     "data": {
      "text/plain": [
       "['78% off',\n",
       " '14% off',\n",
       " '79% off',\n",
       " '67% off',\n",
       " '16% off',\n",
       " '74% off',\n",
       " '86% off',\n",
       " '80% off',\n",
       " '82% off',\n",
       " '78% off',\n",
       " '81% off',\n",
       " '62% off',\n",
       " '79% off',\n",
       " '67% off',\n",
       " '77% off',\n",
       " '87% off',\n",
       " '82% off',\n",
       " '85% off',\n",
       " '30% off',\n",
       " '70% off',\n",
       " '21% off',\n",
       " '77% off',\n",
       " '80% off',\n",
       " '65% off',\n",
       " '80% off',\n",
       " '74% off',\n",
       " '84% off',\n",
       " '20% off',\n",
       " '18% off',\n",
       " '77% off',\n",
       " '82% off',\n",
       " '55% off',\n",
       " '58% off',\n",
       " '61% off',\n",
       " '72% off',\n",
       " '74% off',\n",
       " '69% off',\n",
       " '85% off',\n",
       " '30% off',\n",
       " '79% off',\n",
       " '78% off',\n",
       " '85% off',\n",
       " '83% off',\n",
       " '83% off',\n",
       " '80% off',\n",
       " '84% off',\n",
       " '76% off',\n",
       " '85% off',\n",
       " '77% off',\n",
       " '75% off',\n",
       " '80% off',\n",
       " '67% off',\n",
       " '10% off',\n",
       " '31% off',\n",
       " '83% off',\n",
       " '80% off',\n",
       " '82% off',\n",
       " '80% off',\n",
       " '32% off',\n",
       " '87% off',\n",
       " '81% off',\n",
       " '70% off',\n",
       " '62% off',\n",
       " '70% off',\n",
       " '63% off',\n",
       " '83% off',\n",
       " '70% off',\n",
       " '65% off',\n",
       " '72% off',\n",
       " '88% off',\n",
       " '66% off',\n",
       " '41% off',\n",
       " '68% off',\n",
       " '29% off',\n",
       " '67% off',\n",
       " '20% off',\n",
       " '83% off',\n",
       " '15% off',\n",
       " '69% off',\n",
       " '24% off',\n",
       " '45% off',\n",
       " '73% off',\n",
       " '81% off',\n",
       " '85% off',\n",
       " '87% off',\n",
       " '65% off',\n",
       " '32% off',\n",
       " '67% off',\n",
       " '72% off',\n",
       " '28% off',\n",
       " '70% off',\n",
       " '85% off',\n",
       " '86% off',\n",
       " '32% off',\n",
       " '73% off',\n",
       " '80% off',\n",
       " '81% off',\n",
       " '65% off',\n",
       " '27% off',\n",
       " '87% off']"
      ]
     },
     "execution_count": 147,
     "metadata": {},
     "output_type": "execute_result"
    }
   ],
   "source": [
    "# fetching 100 sunglassses Discount %\n",
    "\n",
    "discount = []\n",
    "for i in product_opening_urls1:\n",
    "    driver.get(i)\n",
    "    product_discount = driver.find_elements_by_xpath(\"//div[@class='_3Ay6Sb']\")\n",
    "    for i in product_discount:\n",
    "        discount.append(i.text)\n",
    "discount[:100]"
   ]
  },
  {
   "cell_type": "markdown",
   "metadata": {},
   "source": [
    "# Q7: Scrape 100 reviews data from flipkart.com for iphone11 phone. You have to go the link: https://www.flipkart.com/apple-iphone-11-black-64-gb-includes-earpods-power-adapter/p/itm0f37c2240b217?pid=MOBFKCTSVZAXUHGR&lid=LSTMOBFKCTSVZAXUHGREPBFGI&marketplace."
   ]
  },
  {
   "cell_type": "code",
   "execution_count": 150,
   "metadata": {},
   "outputs": [
    {
     "name": "stdout",
     "output_type": "stream",
     "text": [
      "Requirement already satisfied: selenium in c:\\users\\sunil gupta\\anaconda3\\lib\\site-packages (3.141.0)\n",
      "Requirement already satisfied: urllib3 in c:\\users\\sunil gupta\\anaconda3\\lib\\site-packages (from selenium) (1.25.11)\n"
     ]
    }
   ],
   "source": [
    "# LETS FIRST INSTALL THE SELENIUM LIBRARY\n",
    "!pip install selenium"
   ]
  },
  {
   "cell_type": "code",
   "execution_count": 151,
   "metadata": {},
   "outputs": [],
   "source": [
    "# let import all the libraries\n",
    "import selenium \n",
    "import pandas as pd\n",
    "from selenium import webdriver\n",
    "import time\n",
    "from selenium.common.exceptions import NoSuchElementException"
   ]
  },
  {
   "cell_type": "code",
   "execution_count": 152,
   "metadata": {},
   "outputs": [],
   "source": [
    "#lets connect to web driver\n",
    "\n",
    "driver = webdriver.Chrome(\"chromedriver.exe\")"
   ]
  },
  {
   "cell_type": "code",
   "execution_count": 155,
   "metadata": {},
   "outputs": [],
   "source": [
    "url = \"https://www.flipkart.com/apple-iphone-11-black-64-gb-includes-earpods-power-adapter/p/itm0f37c2240b217?pid=MOBFKCTSVZAXUHGR&lid=LSTMOBFKCTSVZAXUHGREPBFGI&marketplace.\"\n",
    "\n",
    "\n",
    "driver.get(url)"
   ]
  },
  {
   "cell_type": "code",
   "execution_count": 159,
   "metadata": {},
   "outputs": [
    {
     "data": {
      "text/plain": [
       "['https://www.flipkart.com/search?q=Apple+iPhone+11&otracker=search&otracker1=search&marketplace=FLIPKART&as-show=on&as=off&page=2',\n",
       " 'https://www.flipkart.com/search?q=Apple+iPhone+11&otracker=search&otracker1=search&marketplace=FLIPKART&as-show=on&as=off&page=3',\n",
       " 'https://www.flipkart.com/search?q=Apple+iPhone+11&otracker=search&otracker1=search&marketplace=FLIPKART&as-show=on&as=off&page=4']"
      ]
     },
     "execution_count": 159,
     "metadata": {},
     "output_type": "execute_result"
    }
   ],
   "source": [
    "# fetching 100 iphone to search reviews\n",
    "\n",
    "iphone_100_review = []\n",
    "\n",
    "url = driver.find_elements_by_xpath(\"//a[@class='ge-49M']\")\n",
    "\n",
    "for i in url:\n",
    "    iphone_100_review.append(i.get_attribute('href'))\n",
    "iphone_100_review "
   ]
  },
  {
   "cell_type": "code",
   "execution_count": 161,
   "metadata": {},
   "outputs": [
    {
     "data": {
      "text/plain": [
       "['1,087 Ratings & 100 Reviews',\n",
       " '67,381 Ratings & 5,169 Reviews',\n",
       " '1,087 Ratings & 100 Reviews',\n",
       " '67,381 Ratings & 5,169 Reviews',\n",
       " '67,381 Ratings & 5,169 Reviews',\n",
       " '7,865 Ratings & 589 Reviews',\n",
       " '1,087 Ratings & 100 Reviews',\n",
       " '67,381 Ratings & 5,169 Reviews',\n",
       " '67,381 Ratings & 5,169 Reviews',\n",
       " '67,381 Ratings & 5,169 Reviews',\n",
       " '7,865 Ratings & 589 Reviews',\n",
       " '67,381 Ratings & 5,169 Reviews',\n",
       " '1,087 Ratings & 100 Reviews',\n",
       " '67,381 Ratings & 5,169 Reviews',\n",
       " '7,865 Ratings & 589 Reviews',\n",
       " '67,381 Ratings & 5,169 Reviews',\n",
       " '67,381 Ratings & 5,169 Reviews',\n",
       " '1,087 Ratings & 100 Reviews',\n",
       " '67,381 Ratings & 5,169 Reviews',\n",
       " '67,381 Ratings & 5,169 Reviews',\n",
       " '67,381 Ratings & 5,169 Reviews',\n",
       " '1,087 Ratings & 100 Reviews',\n",
       " '67,381 Ratings & 5,169 Reviews',\n",
       " '67,381 Ratings & 5,169 Reviews',\n",
       " '67,381 Ratings & 5,169 Reviews',\n",
       " '67,381 Ratings & 5,169 Reviews',\n",
       " '67,381 Ratings & 5,169 Reviews',\n",
       " '7,865 Ratings & 589 Reviews',\n",
       " '67,381 Ratings & 5,169 Reviews',\n",
       " '1,087 Ratings & 100 Reviews',\n",
       " '67,381 Ratings & 5,169 Reviews',\n",
       " '67,381 Ratings & 5,169 Reviews',\n",
       " '67,381 Ratings & 5,169 Reviews',\n",
       " '67,381 Ratings & 5,169 Reviews',\n",
       " '67,381 Ratings & 5,169 Reviews',\n",
       " '11,000 Ratings & 878 Reviews',\n",
       " '11,000 Ratings & 878 Reviews',\n",
       " '11,000 Ratings & 878 Reviews',\n",
       " '11,000 Ratings & 878 Reviews',\n",
       " '1,666 Ratings & 202 Reviews',\n",
       " '1,45,865 Ratings & 16,408 Reviews',\n",
       " '1,666 Ratings & 202 Reviews',\n",
       " '1,45,865 Ratings & 16,408 Reviews',\n",
       " '1,45,865 Ratings & 16,408 Reviews',\n",
       " '1,45,865 Ratings & 16,408 Reviews',\n",
       " '1,666 Ratings & 202 Reviews',\n",
       " '1,666 Ratings & 202 Reviews',\n",
       " '1,666 Ratings & 202 Reviews',\n",
       " '1,45,865 Ratings & 16,408 Reviews',\n",
       " '1,45,865 Ratings & 16,408 Reviews',\n",
       " '1,45,865 Ratings & 16,408 Reviews',\n",
       " '1,45,865 Ratings & 16,408 Reviews',\n",
       " '1,666 Ratings & 202 Reviews',\n",
       " '1,45,865 Ratings & 16,408 Reviews',\n",
       " '1,666 Ratings & 202 Reviews',\n",
       " '1,45,865 Ratings & 16,408 Reviews',\n",
       " '1,45,865 Ratings & 16,408 Reviews']"
      ]
     },
     "execution_count": 161,
     "metadata": {},
     "output_type": "execute_result"
    }
   ],
   "source": [
    "# iphone review  list\n",
    "\n",
    "review = []\n",
    "for i in iphone_100_review:\n",
    "    driver.get(i)\n",
    "    iphone_review = driver.find_elements_by_xpath(\"//span[@class='_2_R_DZ']\")\n",
    "    for i in iphone_review:\n",
    "        review.append(i.text)\n",
    "review[:100]  "
   ]
  },
  {
   "cell_type": "code",
   "execution_count": 164,
   "metadata": {},
   "outputs": [
    {
     "data": {
      "text/plain": [
       "['https://www.flipkart.com/apple-iphone-11-black-64-gb-includes-earpods-power-adapter/product-reviews/itm0f37c2240b217?pid=MOBFKCTSVZAXUHGR&lid=LSTMOBFKCTSVZAXUHGREPBFGI&marketplace=FLIPKART&page=2',\n",
       " 'https://www.flipkart.com/apple-iphone-11-black-64-gb-includes-earpods-power-adapter/product-reviews/itm0f37c2240b217?pid=MOBFKCTSVZAXUHGR&lid=LSTMOBFKCTSVZAXUHGREPBFGI&marketplace=FLIPKART&page=3',\n",
       " 'https://www.flipkart.com/apple-iphone-11-black-64-gb-includes-earpods-power-adapter/product-reviews/itm0f37c2240b217?pid=MOBFKCTSVZAXUHGR&lid=LSTMOBFKCTSVZAXUHGREPBFGI&marketplace=FLIPKART&page=4',\n",
       " 'https://www.flipkart.com/apple-iphone-11-black-64-gb-includes-earpods-power-adapter/product-reviews/itm0f37c2240b217?pid=MOBFKCTSVZAXUHGR&lid=LSTMOBFKCTSVZAXUHGREPBFGI&marketplace=FLIPKART&page=5',\n",
       " 'https://www.flipkart.com/apple-iphone-11-black-64-gb-includes-earpods-power-adapter/product-reviews/itm0f37c2240b217?pid=MOBFKCTSVZAXUHGR&lid=LSTMOBFKCTSVZAXUHGREPBFGI&marketplace=FLIPKART&page=6',\n",
       " 'https://www.flipkart.com/apple-iphone-11-black-64-gb-includes-earpods-power-adapter/product-reviews/itm0f37c2240b217?pid=MOBFKCTSVZAXUHGR&lid=LSTMOBFKCTSVZAXUHGREPBFGI&marketplace=FLIPKART&page=7',\n",
       " 'https://www.flipkart.com/apple-iphone-11-black-64-gb-includes-earpods-power-adapter/product-reviews/itm0f37c2240b217?pid=MOBFKCTSVZAXUHGR&lid=LSTMOBFKCTSVZAXUHGREPBFGI&marketplace=FLIPKART&page=8',\n",
       " 'https://www.flipkart.com/apple-iphone-11-black-64-gb-includes-earpods-power-adapter/product-reviews/itm0f37c2240b217?pid=MOBFKCTSVZAXUHGR&lid=LSTMOBFKCTSVZAXUHGREPBFGI&marketplace=FLIPKART&page=9',\n",
       " 'https://www.flipkart.com/apple-iphone-11-black-64-gb-includes-earpods-power-adapter/product-reviews/itm0f37c2240b217?pid=MOBFKCTSVZAXUHGR&lid=LSTMOBFKCTSVZAXUHGREPBFGI&marketplace=FLIPKART&page=10']"
      ]
     },
     "execution_count": 164,
     "metadata": {},
     "output_type": "execute_result"
    }
   ],
   "source": [
    "# fetching review summary link\n",
    "iphone_100_review1 = []\n",
    "\n",
    "url = driver.find_elements_by_xpath(\"//a[@class='ge-49M']\")\n",
    "\n",
    "for i in url:\n",
    "    iphone_100_review1.append(i.get_attribute('href'))\n",
    "iphone_100_review1 "
   ]
  },
  {
   "cell_type": "code",
   "execution_count": 166,
   "metadata": {},
   "outputs": [
    {
     "data": {
      "text/plain": [
       "['5',\n",
       " '5',\n",
       " '5',\n",
       " '5',\n",
       " '5',\n",
       " '5',\n",
       " '5',\n",
       " '5',\n",
       " '4',\n",
       " '5',\n",
       " '5',\n",
       " '5',\n",
       " '5',\n",
       " '4',\n",
       " '5',\n",
       " '5',\n",
       " '5',\n",
       " '5',\n",
       " '5',\n",
       " '5',\n",
       " '5',\n",
       " '5',\n",
       " '4',\n",
       " '5',\n",
       " '5',\n",
       " '5',\n",
       " '5',\n",
       " '5',\n",
       " '5',\n",
       " '5',\n",
       " '5',\n",
       " '5',\n",
       " '5',\n",
       " '4',\n",
       " '5',\n",
       " '5',\n",
       " '5',\n",
       " '5',\n",
       " '5',\n",
       " '5',\n",
       " '5',\n",
       " '5',\n",
       " '5',\n",
       " '5',\n",
       " '5',\n",
       " '5',\n",
       " '5',\n",
       " '5',\n",
       " '5',\n",
       " '5',\n",
       " '5',\n",
       " '5',\n",
       " '4',\n",
       " '5',\n",
       " '5',\n",
       " '4',\n",
       " '5',\n",
       " '4',\n",
       " '5',\n",
       " '5',\n",
       " '5',\n",
       " '5',\n",
       " '5',\n",
       " '5',\n",
       " '4',\n",
       " '5',\n",
       " '5',\n",
       " '5',\n",
       " '4',\n",
       " '5',\n",
       " '5',\n",
       " '5',\n",
       " '5',\n",
       " '5',\n",
       " '5',\n",
       " '3',\n",
       " '4',\n",
       " '3',\n",
       " '5',\n",
       " '5',\n",
       " '5',\n",
       " '5',\n",
       " '5',\n",
       " '5',\n",
       " '5',\n",
       " '4',\n",
       " '4',\n",
       " '4']"
      ]
     },
     "execution_count": 166,
     "metadata": {},
     "output_type": "execute_result"
    }
   ],
   "source": [
    "# fetching Rating\n",
    "\n",
    "iphone_rating = []\n",
    "for i in iphone_100_review1:\n",
    "    driver.get(i)\n",
    "    iphone_rating1 = driver.find_elements_by_xpath(\"//div[@class='_3LWZlK _1BLPMq']\")\n",
    "    for i in iphone_rating1:\n",
    "        iphone_rating.append(i.text)\n",
    "iphone_rating[:100]"
   ]
  },
  {
   "cell_type": "code",
   "execution_count": null,
   "metadata": {},
   "outputs": [],
   "source": []
  },
  {
   "cell_type": "code",
   "execution_count": 165,
   "metadata": {},
   "outputs": [
    {
     "data": {
      "text/plain": [
       "['Perfect product!',\n",
       " 'Worth every penny',\n",
       " 'Perfect product!',\n",
       " 'Highly recommended',\n",
       " 'Worth every penny',\n",
       " 'Simply awesome',\n",
       " 'Terrific',\n",
       " 'Highly recommended',\n",
       " 'Nice product',\n",
       " 'Wonderful',\n",
       " 'Classy product',\n",
       " 'Brilliant',\n",
       " 'Must buy!',\n",
       " 'Good choice',\n",
       " 'Perfect product!',\n",
       " 'Terrific purchase',\n",
       " 'Wonderful',\n",
       " 'Simply awesome',\n",
       " 'Great product',\n",
       " 'Mind-blowing purchase',\n",
       " 'Terrific purchase',\n",
       " 'Simply awesome',\n",
       " 'Good quality product',\n",
       " 'Very poor',\n",
       " 'Best in the market!',\n",
       " 'Perfect product!',\n",
       " 'Must buy!',\n",
       " 'Fabulous!',\n",
       " 'Mind-blowing purchase',\n",
       " 'Mind-blowing purchase',\n",
       " 'Wonderful',\n",
       " 'Worth every penny',\n",
       " 'Great product',\n",
       " 'Just wow!',\n",
       " 'Very Good',\n",
       " 'Perfect product!',\n",
       " 'Classy product',\n",
       " 'Perfect product!',\n",
       " 'Just wow!',\n",
       " 'Awesome',\n",
       " 'Terrific',\n",
       " 'Terrific purchase',\n",
       " 'Awesome',\n",
       " 'Perfect product!',\n",
       " 'Brilliant',\n",
       " 'Perfect product!',\n",
       " 'Classy product',\n",
       " 'Awesome',\n",
       " 'Perfect product!',\n",
       " 'Excellent',\n",
       " 'Not recommended at all',\n",
       " 'Fabulous!',\n",
       " 'Excellent',\n",
       " 'Must buy!',\n",
       " 'Value-for-money',\n",
       " 'Brilliant',\n",
       " 'Terrific purchase',\n",
       " 'Good quality product',\n",
       " 'Perfect product!',\n",
       " 'Value-for-money',\n",
       " 'Just wow!',\n",
       " 'Super!',\n",
       " 'Best in the market!',\n",
       " 'Mind-blowing purchase',\n",
       " 'Excellent',\n",
       " 'Excellent',\n",
       " 'Pretty good',\n",
       " 'Must buy!',\n",
       " 'Worth every penny',\n",
       " 'Mind-blowing purchase',\n",
       " 'Good quality product',\n",
       " 'Fabulous!',\n",
       " 'Super!',\n",
       " 'Awesome',\n",
       " 'Awesome',\n",
       " 'Terrific purchase',\n",
       " 'Awesome',\n",
       " 'Decent product',\n",
       " 'Pretty good',\n",
       " 'Does the job',\n",
       " 'Wonderful',\n",
       " 'Classy product',\n",
       " 'Super!',\n",
       " 'Fabulous!',\n",
       " 'Excellent',\n",
       " 'Best in the market!',\n",
       " 'Brilliant',\n",
       " 'Wonderful',\n",
       " 'Nice product',\n",
       " 'Good quality product']"
      ]
     },
     "execution_count": 165,
     "metadata": {},
     "output_type": "execute_result"
    }
   ],
   "source": [
    "# fetching review summary\n",
    "review_summary = []\n",
    "for i in iphone_100_review1:\n",
    "    driver.get(i)\n",
    "    iphone_review1 = driver.find_elements_by_xpath(\"//p[@class='_2-N8zT']\")\n",
    "    for i in iphone_review1:\n",
    "        review_summary.append(i.text)\n",
    "review_summary[:100] "
   ]
  },
  {
   "cell_type": "code",
   "execution_count": 167,
   "metadata": {},
   "outputs": [
    {
     "data": {
      "text/plain": [
       "['5\\nPerfect product!\\nValue for money❤️❤️\\nIts awesome mobile phone in the world ...\\nDisplay was very good and bright ..\\nTrust me freinds you r never regret after Buying..\\nJust go for it....\\nI love this phone and i switch to iphone x to 11\\nFlipkart Customer\\nCertified Buyer, Jhunjhunun\\nNov, 2019\\n2407516',\n",
       " '5\\nWorth every penny\\nBest budget Iphone till date ❤️ go for it guys without second thought. Let me explain you guys about Camera, Display, battery, and performance.\\n\\nCamera: at this price range there is no comparison of camera, you’ll love the picture quality as well as video quality. I am a Vlogger I wanted an iPhone with 4k video by front camera and I got this phone and I am more than happy 😃\\n\\nBattery: I use this phone roughly as I am active social media person and I have a youtube channel. so the battery ba...\\nREAD MORE\\nArshad Ahmed\\nCertified Buyer, New Delhi\\nJan, 2020\\n2845722',\n",
       " \"5\\nPerfect product!\\nIphone is just awesome.. battery backup is very very nice.. continuously for 10 hours we can use it.camera is just awesome.. display is just fab.i love it alot..i had to wait 15 days for it as i pre ordered it..overalll it's worth the price..these all images are clicked by my iPhone..and i love it.\\nRishika Agarwal\\nCertified Buyer, Tisra\\nOct, 2019\\n1367338\",\n",
       " '5\\nHighly recommended\\nWhat a camera .....just awesome ..you can feel this iPhone just awesome . Good for gaming also ...try pubg in hd it’s just wow\\nVishal Dubey\\nCertified Buyer, Daltonganj\\n11 months ago\\n18739',\n",
       " '5\\nWorth every penny\\nIt’s been almost a month since I have been using this phone. I upgraded from an iPhone 8. The main issue with my 8 was battery and this phone is just awesome when it comes to battery. It lasts a day and a half for me with my regular use , internet connected always with 4g\\nCan’t move forward without saying this. Battery of this phone is a life saver when I am traveling or at work when I don’t get the option to charge\\nCamera is superb. Front cam selfies and back cam photos are just awesome.\\n...\\nREAD MORE\\nFlipkart Customer\\nCertified Buyer, Thiruvananthapuram\\nNov, 2019\\n1909519',\n",
       " '5\\nSimply awesome\\nExcellent camera, good performance, no lag. The lcd display is also good.. but difference come when we watch movie in prime and Netflix, the colours are not vibrant.. as we see in amoled display.. and the charger in box is of 5 watts.. takes more than 3 hours to charge from 0 to 100.. so guys be prepare to buy 18 watts charger . Finally I am an android user, it was my first Iapple phone, I promise u guys the iOS is so smooth.. overall the phone is damn good.... close eyes to buy it.. thanks t...\\nREAD MORE\\nchaitanya kumar\\nCertified Buyer, Rajahmundry\\nJun, 2020\\n32978',\n",
       " '5\\nTerrific\\nReally worth of money. i just love it. It is the best phone ever.\\nSOURAV DHAR\\nCertified Buyer, Bagula\\nOct, 2019\\n29973',\n",
       " \"5\\nHighly recommended\\nIt's my first time to use iOS phone and I am loving my upgradation 😍😍 I love the color, I love the assebility of the phone....I need to learn more about its functionality, but as far as I have seen, it's quite easy and it has a lot of functions to work on, specially if you are a content writer or a blogger you get a lot of content creation platforms and they are really amazing.\\n\\nThis phone not only for good quality photography but a lot of other task too.😍💯\\nJimly Gogoi\\nCertified Buyer, Ahmedabad\\nMay, 2020\\n14030\",\n",
       " '4\\nNice product\\nAwesome Phone. Slightly high price but worth. Better than iPhone XR.\\nCamera is superb and wide angle camera is very clear.\\n12MP selfie camera is also very good.\\nA13 Chip gives a very good and smooth performance.\\nAbhinav Gupta\\nCertified Buyer, Bengaluru\\nSep, 2019\\n36189',\n",
       " '5\\nWonderful\\nThis is my first ever I phone. Before this I was using my google nexus 5. But moving from android to iOS is a great experience. It’s worth at this price. I will highly recommend it if you want to move to iOS. The best part of this phone is it’s camera and it’s battery life. This two things have won my heart. I loved it. Happy to have it in my hand. Still exploring its features. And can’t forget to mention Flipkart service. Very prompt service and fast delivery.\\nSushilkumar Shinde\\nCertified Buyer, Vasai Virar\\nNov, 2019\\n23359',\n",
       " '5\\nClassy product\\nSuperb Product !!!\\nA big and worthy upgrade from mi 3S to iphone 11 .\\nTotally loved it !\\nGirish PAreek\\nCertified Buyer, Sri Ganganagar\\nDec, 2019\\n21956',\n",
       " '5\\nBrilliant\\nI have migrated from OP 7pro... and trust me, iPhone 11 is totally worth it.. following are the reasons:-\\n1)there is ABSOLUTELY NO ISSUE WITH THE DISPLAY... its crisp, sharp and I found it to be much much better than OP7 pro. Netflix, Prime video all run crisply... you won’t miss a thing. True Tone works flawlessly...the display brightness is perfect. OP have not calibrated their screens properly.\\n2) iPhone 11 series have really good cameras... others have spoken in depth about them.\\n3) bat...\\nREAD MORE\\nPratik M\\nCertified Buyer, New Delhi\\nJun, 2020\\n27479',\n",
       " '5\\nMust buy!\\nIt’s an amazing product from apple and the camera is simply superb. Phone is faster.Night shot is simply superb and detailing and colour differentiation from camera is an added advantage\\n\\nThis review I have written from iPhone 11 only and I am glad to say outside.\\n\\nCons wise if we see HD+ display only, no battery percentage indicator as in older iPhone 8.\\nNo assistive touch control button in it\\nNo oleophobic coating on back panel glass and finger prints are visible but since I bought mint gr...\\nREAD MORE\\nsankar ganesh\\nCertified Buyer, Bangalore\\nOct, 2019\\n26187',\n",
       " '4\\nGood choice\\nLooking so good 👍 😍 super 👌 stylish 😎 phone\\nClean box 📦 good 👍 delivery 👌 fast delivery\\nOriginal box Original iphone 📱 👌 😍😍😍\\nAkash Meena\\nCertified Buyer, Jhalawar District\\n5 months ago\\n11334',\n",
       " '5\\nPerfect product!\\nAfter 1 month use I found camera quality best compared to my previous Samsung note 10+.Display not good as note 10 also charging too slow.Apple should add fast charger like 11 plus and pro.Best phone for daily use\\nBibhudatta Behura\\nCertified Buyer, Puri District\\n10 months ago\\n11536',\n",
       " '5\\nTerrific purchase\\nUpgraded from iphone 6 to 11 best phone for iphone users battery is much better than other iphones camera is awesome love to use it.camera is so clear in night.\\nNitin Sharma\\nCertified Buyer, New Delhi\\nJan, 2020\\n594239',\n",
       " '5\\nWonderful\\nI just directly switch from iphone 6s to iphone 11 .The best premium smartphone I recommend to everyone. Excellent quality and colors the iphone have in 11 series.\\nCamera quality is just awesome and the major feel when we hold in our hands. The sound quality and volume is also higher then the previous models.\\nI will recommend to buy iphone 11 instead of pro models , there is nothing much difference as this model contains everything which fulfill our needs.\\n\\nOnly one thing that I dislike abo...\\nREAD MORE\\nAmrinder Mehta\\nCertified Buyer, Jalandhar\\nJun, 2020\\n12742',\n",
       " \"5\\nSimply awesome\\nIt's very high performances devise i am like the service of flipkart delevary very fast and packing very nice perfect phone\\niqbal hussain kantewala\\nCertified Buyer, Parbhani\\nJan, 2020\\n11239\",\n",
       " '5\\nGreat product\\nWell you all know the specifications . One of a kind. Best iPhone till date. Many enhancements to the camera app with many options. Love the glass body with matte finish in the lens area on the back. Lovely colours to choose from. Best battery in an iPhone till date, enough to last more than a day in normal usage. I tested my iPhone 11 battery and lasted for than 24 hours after full charge still with 30% battery charge left. Watched movies for some time. Normal usage on calls, browsing, musi...\\nREAD MORE\\nAsish Babu\\nCertified Buyer, Kottayam\\nFeb, 2020\\n21085',\n",
       " '5\\nMind-blowing purchase\\nThis will help you more. See if you are planning to buy iPhone 11. I will say. Yes. But there are some plans I just want to disclose before you buy. 1) If you are an existing iPhone X/XS/XS Max/ XR user, better you guys do not think it to buy. You guys have more or less better gadget. 2) If you are an android user and planning to buy premium phone. I will suggest them to please buy iPhone instead of buying an Android. I bet you will never go back to android after using IOS. Now I want to shar...\\nREAD MORE\\nAvishek Naha\\nCertified Buyer, Serampore\\nOct, 2019\\n12850',\n",
       " '5\\nTerrific purchase\\nThe built quality is not very premium.\\nThe battery back is great .\\nThe LCD panel is not so sharp but the brightness level is very High .\\nCamera is super duper awesome.\\nThe red colour which people think is bright is actually very soothing and excellent colour to choose from .\\nThe A13 Bionic chip is really a flagship processor and can beat any phone which even has 12 gb ram .\\nCamera module is very great and looks very stylish.\\nAnanya Dhiman\\nCertified Buyer, Zirakpur\\nJun, 2020\\n15271',\n",
       " '5\\nSimply awesome\\nReally good actually this is my first apple product am using its really awesome performance wise excellent. Am really happy with this iphone11\\nLikhitha Heman\\nCertified Buyer, Kuppam\\n11 months ago\\n294218',\n",
       " '4\\nGood quality product\\nit is very good at performance. Camera is best like before and very smooth response even in water. Don’t buy 12 mini buy iPhone 11 , it is far better than 12 mini believe me ! Have a nice day \\uf8ff ☺️\\nAditya Sehrawat\\nCertified Buyer, New Delhi\\n5 months ago\\n203229',\n",
       " '1\\nVery poor\\nReviewing again after 5 months. At the beginning the battery and performance was good but it degraded soon. Also I was facing heating issues. The mobile will heat up like a stove sometimes. You cannot even play Pubg even in low settings properly, performance is not a problem but heating is. Also if you play that game for 10 mins the brightness will be automatically down due to over heating even when the auto brightness is set to off. This will not be solved even if u manually increase the bri...\\nREAD MORE\\nArun R\\nCertified Buyer, Chennai\\nSep, 2019\\n244359',\n",
       " '5\\nBest in the market!\\nGreat iPhone very snappy experience as apple kind. Upgraded from iPhone 7.\\nPros\\n-Camera top class\\n- Battery top performed\\n-Chipset no need to say as apple kind\\n-Security as you expect from apple\\n- Display super bright industry leading colour\\naccuracy and super responsive\\n-Build quality as expect from apple sturdy\\npremium durable beautiful stylish.\\n-Os most stable os in smartphone industry\\n\\nCons\\n-No 5G\\n-Display is not based on OLED technology\\n-Charger headphones and 1 apple stic...\\nREAD MORE\\nManish Raghuvanshi\\nCertified Buyer\\n3 months ago\\n220',\n",
       " '5\\nPerfect product!\\nIt is just awesome mobile for this price from Apple,\\n\\nAfter 10 days review\\n\\nBattery enough for 1 day even 24*7 Internet will be on and mostly internet usage\\n\\nCamera is just awesome cool , android 64 MP is equal to this just 12 MP\\n\\nA13 Bionic chip will give more high performance without hanging\\n\\nAudio stereo speakers will give Dolby atoms sound with crystal clear\\n\\nVideo recording is like cinematic shots of every sec can be a 4K 60fps. Just awesome this phone\\niPhone 11 loved one\\nKumaresan R\\nCertified Buyer\\n1 month ago\\n191',\n",
       " '5\\nMust buy!\\nBest Apple iPhone that i have bought at a very reasonable price, camera quality is next level just awesome n of superior quality android phones not even close(RIP) to that and also battery is really good but packaging by Flipkart of iPhone was very poor of such a expensive product, firstly im bit worried about the quality of product if i purchased it through online how was the product but i think now this was mine best decision to bought it through Flipkart online because i got genuine Apple...\\nREAD MORE\\nPranjal Singh\\nCertified Buyer, Chamba\\n5 months ago\\n204',\n",
       " \"5\\nFabulous!\\nI can say I'm damn impressed with iPhone 11. As they says iPhone 11 have the toughest glass ever in the smartphone which you'll find on the front and back and it's totally smooth. The fit and finish is full apple quality - there's no sense that any cheaping out has happened in the construction. Without saying it's camera features this review won't complete. The iPhone 11 has a dual camera system, consisting of a wide angle len's that's pretty much same as found on the iPhone XR last year, but...\\nREAD MORE\\nharry byadwal\\nCertified Buyer\\n7 months ago\\n205\",\n",
       " '5\\nMind-blowing purchase\\nBest Quality Product OF iPhone Series , Sound Quality & Camera quality is very awesome, Battery Life is very Sufficient for 24 hr Backup With Full Internet Access , I love this this Product too much , It is very fast & making me Very fast in all my daily Routine\\nHighlights;\\n1.Camera: 5 STAR\\n2.Video Recording: 5 star\\n3.Night mODE sHOOTING & Camera:4 star\\n4. Audio Quality: Awesome\\n5. Battery : 5 Star\\n6. Touch:5 Star\\n7. Processor: Very Fast\\nThe M...\\nREAD MORE\\nAmol Suryawanshi\\nCertified Buyer, Ordnance Factory Itarsi Township\\nFeb, 2020\\n211',\n",
       " '5\\nMind-blowing purchase\\nFirst thanks to Flipkart for this amazing deal and phone is outstanding. I upgraded from iPhone 7 and this is like very big upgrade. But the packaging was very basic I expected a good packaging as they only wrapped one layer of bubble wrap which I don’t think is enough to protect this expensive phone. And I recommend this phone and seller as well.\\n\\nAnd I’m posting this review after using it for 4 days.\\nMohammed Aslam\\nCertified Buyer, Hyderabad\\nOct, 2019\\n3011',\n",
       " '5\\nWonderful\\nSuperfast delivery by Flipkart. Thanks.\\n\\n1. iPhone 11 is a pretty solid phone for the money you are paying.\\n2. All the bad reviews about the display is confusing. It’s not that bad.\\n3. I switched from a Oneplus 7t. I have no complaints about the display quality of iPhone. Yes, it’s not OLED, so, we are missing on the deep blacks. But that’s it. It is a very colour accurate display. Gets adequately bright and I could not find any pixelation.\\n4. Performance is one of the best, if not best, in ...\\nREAD MORE\\nMayukh Chowdhury\\nCertified Buyer, New Delhi\\nNov, 2019\\n206',\n",
       " '5\\nWorth every penny\\nSmooth like butter, camera like fantabulous, sound is crystal clear & its red color is damn attractive, i am just loving it. Must buy if you love photography.\\n\\nLucky to get it in sale, thank you Flipkart.\\nBiswa Das\\nCertified Buyer, Bilaspur\\n5 months ago\\n198',\n",
       " \"5\\nGreat product\\nAgain back to apple iphone after a gap of 2-3 years. It's pleasure to use iOS and the quality product by Apple. Iphone 11 still works like a beast in 2021 also. It really capable of doing day to day usage as well as hard core gaming. Battery is awesome. I'm really too much satisfied with it. Apart fto the very gorgious IPS LCD (AMOLED will be better) everything is mind boggling. Iphone💕.\\nSoumasish De\\nCertified Buyer\\n2 months ago\\n202\",\n",
       " '5\\nJust wow!\\nThe ultimate performance\\nCamera is superb\\nThe battery backup also very good i never saw iphone gives this much of battery backup\\nIf any one wana buy iphone 11 definitely i will recommend this mobile\\nIt has the better battery and powerfull processer peak performance glorious camera and the display also 100% high quality lcd display if u had money for for 12 if u dont wana invest much money on that then go for iphone 11 it has maximum same specs only main difference between the 12 and 11 is...\\nREAD MORE\\nMahesh Babu\\nCertified Buyer, Kalwakurthy\\n5 months ago\\n213',\n",
       " '4\\nVery Good\\nimpressive super phone and best in class camera ,sound and face unlock is super fast just see and phone is unlock and fast in daily apps use\\nNitin Prajapati\\nCertified Buyer, New Delhi\\nJan, 2020\\n2015',\n",
       " '5\\nPerfect product!\\nBattery backup is extraordinary, camera is decent & performance offered by A13 bionic is awsome. The display is good in practical usage like the visibility of display is very good in direct sun light compare to pro models. Iam extremely satisfied for the money I spent.\\nsree teja duggirala\\nCertified Buyer, Eluru\\nJan, 2020\\n9419',\n",
       " '5\\nClassy product\\nWell while switching from android to iOS the first thing you need to be careful about is that you will loose all your whatsapp chat backups as both are different operating systems. Camera clarity is awesome and though being an lcd screen clarity and resolution is good. Battery backup is also good unlike previous gen iPhone. So far the experience is good will Padre after a few months of usage.\\n\\nP.S the black is more of a dark grey shade and not jet black\\nZeeshan Chowdhury\\nCertified Buyer, Bidhan Nagar\\nJan, 2020\\n4415',\n",
       " '5\\nPerfect product!\\nIn love with this iphone great performance,camera ,battery everything. Go for it have a uncompareble battery backup, no doubts in iPhone camera here You can see the picture which is shot on my iPhone In love with this iphone great performance,camera ,battery everything. Go for it have a uncompareble battery backup, no doubts in iPhone camera here You can see the picture which is shot on my iPhone In love with this iphone great performance,camera ,battery everything. Go for it have a uncompare...\\nREAD MORE\\nAnas Aq\\nCertified Buyer, Shahdol\\nOct, 2019\\n89277',\n",
       " '5\\nJust wow!\\nBest in class. Battery backup is good especially when you play games like Pubg COD. But it is sort of heavy when you hold in hands. Portrait mode is best to click pictures. Stage light effect is awesome. Try to click photos outside in nature because photos inside home or room will not give you the quality in any phone even in DSLR.\\nsayyed shoieb\\nCertified Buyer, Chandrapur\\n8 months ago\\n201',\n",
       " '5\\nAwesome\\nVery excited to have this phone. This phone has the real power unlike the android phones having SD 855 . The battery life is very good and the camera quality is excellent as comapred to redmi and other phones except google pixel. I M enjoying every single bit of it. Would recommed only if you have the budget.\\nNeeraj Baveja\\nCertified Buyer, Noida\\nOct, 2019\\n3010',\n",
       " \"5\\nTerrific\\nI upgraded (downgraded?) from my iPhone X since the phone fell down and I didn't want to repair the screen. The box that the phone came in was super slim and I was worried that there'd be no 5W charger with it and my fears were confirmed. However, thankfully I had the 18W USB-C PD charger from Apple which I bought for my iPhone X and it worked perfectly. The charging time is as lethargic as ever though and it takes about 1:30 mins or even 2 hours depending on charge remaining. I'll list some ...\\nREAD MORE\\nAaron Teron\\nCertified Buyer\\n3 months ago\\n208\",\n",
       " '5\\nTerrific purchase\\nIts Very awesome product working and good camera quality and all about best product and also flipkart is very great deal and offer nice price\\nSyed Rizwan Ali\\nCertified Buyer, Nagpur\\n5 months ago\\n226',\n",
       " '5\\nAwesome\\nI am using this phone for 5 days and its one of the best camera out there ❤️ the screen is not oled and i am coming from iphone xs so its little bit not up to the mark i would say\\nBut overall value for money💕😍the battery back up is far better than my iphone xs and its worth in my apple ecosystem💫❤️if u are an apple User and have the eco system then go for it❤️though i will be getting the new iphone but its pretty good💫\\nRatul Sarkar\\nCertified Buyer\\n1 month ago\\n263',\n",
       " '5\\nPerfect product!\\nBest and amazing product.....phone looks so premium.... battary is also good as expected .... Wide angle camera is so addictive ...if you are a IOS lover....then this phone will be the best choice for you all!!💯🔥\\nSoham Kalangutkar\\nCertified Buyer\\n3 months ago\\n201',\n",
       " '5\\nBrilliant\\nExcellent camera and display touching very nice and smooth very improvement against iPhone XR and new processor is very fast\\njay shah\\nCertified Buyer, Vadodara\\nNov, 2019\\n208',\n",
       " '5\\nPerfect product!\\nAwesome purchase. Amazing phone with good battery backup. It’s a top notch device. White colour looks amazing. Phone has a few extra feature than iPhone XR. Overall, this is value for money\\nGangesh Kumar\\nCertified Buyer, Gurugram\\nJan, 2020\\n212',\n",
       " '5\\nClassy product\\nTotally in love with this ❤ the camera quality is amazing just love it 😘😘😘 itsss dammnnnnnn amazing... Must buy iPhone 11 this is my best experience ever ☀👌👌🧡🧡🧡🧡🧡 thanku apple ❤\\nPayal Singh\\nCertified Buyer\\n1 month ago\\n214',\n",
       " '5\\nAwesome\\nAlways love the apple products, upgraded from old iPhone 6S plus to this after having my first baby. I just love to click baby’s photos with it. Overall I just love this phone. Battery back up is okay, sound quality is good. Haven’t tested yet waterproof yet. Only one thing I hate is apple could have given charger & headphones in box.\\nDeepika Randive\\nCertified Buyer, Navi Mumbai\\n3 months ago\\n201',\n",
       " '5\\nPerfect product!\\nValue for money\\n5 star rating\\nExcellent camera\\nBattery backup full day in single charge.\\n\\nTougher and water resistant design, glossy back.\\nThe screen has excellent brightness and contrast.\\nApple A13 Bionic is the fastest smartphone chip on the planet.\\nExcellent battery life, fast charging support.\\nStereo speakers with great quality.\\nChirag Rajput\\nCertified Buyer, Kolkata\\n4 months ago\\n261',\n",
       " '5\\nExcellent\\nAmazing camera and feel super machine I am not describe my feeling but this is amazing Phone I am so lucky I have this\\nBhupendr Yadav\\nCertified Buyer, Lucknow\\n11 months ago\\n9538',\n",
       " '1\\nNot recommended at all\\nThey are selling cheep quality items. There is a black line on the edge of the display. Waiting for the replacement..\\n\\nUpdate:today I got the replacement from flipkart.. The second one is nice and the display and camera quality is much better than the previous one.. Thanks for the support\\nNithil KB\\nCertified Buyer\\n2 months ago\\n206',\n",
       " '5\\nFabulous!\\nawesome phone to have. it has got many smart features apart from mind blowing looks, camera, display, battery and sound. have fallen in love with this phone. must buy phone if you have got enough money. thanks to flipkart and apple of course..\\nJay Pandya\\nCertified Buyer, Bharuch\\nOct, 2019\\n9125',\n",
       " '5\\nExcellent\\nIts a fabulous mobile look awesome performance unbeaten camera like dslr battery good i think this is a beast of mobile\\nprem patel\\nCertified Buyer, Jabalpur\\n4 months ago\\n231',\n",
       " '5\\nMust buy!\\nDear friends... I want to share my experience with you about this amazing I phone 11....this is my first iPhone and special things about this mobile is it has great camera, battery backup and awesome display.... I mean everything is perfect.loved it 👍👍👍\\nMahaveer Swami\\nCertified Buyer, Hisar\\n4 months ago\\n4533',\n",
       " \"4\\nValue-for-money\\nJust got this iphone 11\\nAnd it is most powerful mobile phone I have used ever\\n\\nSo,go for it if you want a phone with best specification like camera,battery backup,display, A13 bionic chip\\n\\nThat's my review about this phone but yours can be differ from me....\\nBarinder Singh Jandu\\nCertified Buyer\\n1 month ago\\n211\",\n",
       " '5\\nBrilliant\\nAmazing phone and on great deal I received with super fast delivery by Flipkart...\\nAlok Singh\\nCertified Buyer, Bengaluru\\n5 months ago\\n200',\n",
       " '5\\nTerrific purchase\\nfinally an iPhone with very nice battery backup. update from iPhone 7 and happy to have it. camera is not up to the mark in low light but overall a recommended phone if your budget allows 😀\\nDurgesh Kumar\\nCertified Buyer, Allahabad\\nNov, 2019\\n2014',\n",
       " \"4\\nGood quality product\\nI'm switching this phone to oppo reno 10x zoom\\nIt's really impressive\\nRarely I'm missing smooth display touch response like oppo reno but\\nI really loved it.\\nCamera really impressive\\nRahul Dewangan\\nCertified Buyer, Baloda Bazar District\\n4 months ago\\n204\",\n",
       " '5\\nPerfect product!\\nWorth the money’ starting first from its performance it beats out all phones , second the smoothness of camera is awesome, contrast ratio is much than expected. Price will not matter if u r a quality person, if not other phones are available with better discount\\nBani\\nCertified Buyer, Zirakpur\\nFeb, 2020\\n207',\n",
       " \"4\\nValue-for-money\\nI'm Really happy with the product\\nDelivery was fast as well\\n..it was a gift for my sister and she loved it so much.\\nGeorge Haokip\\nCertified Buyer\\n3 months ago\\n190\",\n",
       " '5\\nJust wow!\\nGreat iphone.\\nI am writing this review after 2 months of usage.\\nCamera is excellent, especially the nightmode\\nDisplay perfect\\nBattery backup awesome\\nSound quality very good\\nOverall Apple gives you a perfect iphone in this range.\\nReally in love with iPhone 11\\nRajat Singh\\nCertified Buyer, Roorkee\\nMar, 2020\\n207',\n",
       " '5\\nSuper!\\nDid an upgrade from 6s plus to iphone 11.\\nAo far the experience is well and good. Felt smoother than 6s plus. The camera quality is superb. Battery backup is descent. Not a heavy user, and gets power more than a day. Go for it if you need an alrounder iphone in a competitve price.\\nDEEPAK V S\\nCertified Buyer, Kollam\\n4 months ago\\n194',\n",
       " '5\\nBest in the market!\\nDamn this phone is a blast . Upgraded from android to ios and is a duperb experience. Battery backup is top notch and display also pretty good\\nKunal Das\\nCertified Buyer, Tinsukia\\n3 months ago\\n150',\n",
       " '5\\nMind-blowing purchase\\nawesome Phone Smooth Touch Too good Sexyy looks one word Awesome\\nNagma Khatoon\\nCertified Buyer, Ranchi\\nNov, 2019\\n100',\n",
       " \"5\\nExcellent\\nJust go for it.\\nThis phone is really amazing. I ordered it for my wife and we click photos on this thing which are better than dslr. I own OnePlus 6t but it's camera sucks. iPhone is really amazing when it comes to camera. It's worth spending 50k on this. Cons- only display is lcd. While using u don't feel it but if u compare with other phone then u can see difference quite easily.\\nChanging from Android to iphone is bit difficult coz most of things u don't know but I liked it. Some of the a...\\nREAD MORE\\nFlipkart Customer\\nCertified Buyer, Mumbai\\n4 months ago\\n100\",\n",
       " \"5\\nExcellent\\nIt was amazing experience for me. Honestly i am using iPhone first time so I don't have that much past experience about that. But after using 7 days this mobile i want to give some honest feedback.\\n1- Display 9 out of 10\\n2- Camera 9.5 out of 10\\n3- Battery 7 out of 10\\n4- Performance 9.5 out of 10\\n5- Features & Functions 10 out of 10\\n6- Outer looks and colour 10 out of 10\\nRest i think i will understand after using this for few months.\\nI will highly recommend you guys if you have budget then you...\\nREAD MORE\\nsoumen mondal\\nCertified Buyer\\n2 months ago\\n80\",\n",
       " \"4\\nPretty good\\nI've used this phone for over a month now and here are my takeaways.\\nI would like to first talk about the best things about this phone and then the cons of it.\\n\\nPros:\\nThis phone is a performance beast. It handles large games and applications effortlessly and you won't find any stutters or lags while playing graphic intensive games like pubg, cod , mortal kombat and asphalt.\\n\\nThis phone has only 4gb ram and yet the ram management is amazing, it can keep 3 heavy games in memory without reload...\\nREAD MORE\\nPraveen Kumar\\nCertified Buyer\\n2 months ago\\n80\",\n",
       " '5\\nMust buy!\\nI rate this product 5* as it has got amazing user experience with the best performing A13 bionic processor. The screen responds and graphics rendering is top notch. With casual gaming and internet browsing, the battery lasts for approx. 1 day. Camera is very good. You will fall in love with the portrait mode. You can call me a loyal Apple customer or whatever but I won’t stop praising the products and overall experience. That user experience matters and is worth every penny you pay.\\n\\nBelow ar...\\nREAD MORE\\nSmarjit Debata\\nCertified Buyer, Bhubaneswar\\nJun, 2020\\n111',\n",
       " '5\\nWorth every penny\\nUndoubtedly Iphone 11 is the most successful model till now and its performance is extraordinary and the security features are very impressive, display is more vibrant sound quality Camera Quality 5*****, but Iphone should add accessories too and act like scrooge.\\nWasim Siddique\\nCertified Buyer\\n21 days ago\\n70',\n",
       " '5\\nMind-blowing purchase\\nAbsolutely powerful gadget. Loved it’s look! Soo glassy and classy. I would definitely recommend this model of Apple. Only disappointed with the 5W charger, one should purchase an 18W adapter for fast charging. Though battery backup is great. Bought it in September 2020, reviewing after so long so I’m gonna put the genuine review here.✅\\nYamini Saini\\nCertified Buyer, New Delhi\\n5 months ago\\n60',\n",
       " '4\\nGood quality product\\nI was torn between the oneplus 8 pro and the iphone 11. I had to shell out extra money for this, but I say if you can afford it, this truely is the best package.\\nMind blowing camera, battery and overall performance. Face Id works like magic even in complete darkness without firing up the screen brightness. The phones with in display fingerprint scanners do this at night time and it really burns your eyes.\\nI wanted the oneplus for its display but tbh the OLEDs on oneplus is really bad. Flick...\\nREAD MORE\\nAnwar Azash\\nCertified Buyer, Kollam\\n8 months ago\\n70',\n",
       " '5\\nFabulous!\\nI purchased the iPhone 11 a month back. I must say Apple has impressed me yet again . I have been an Apple user for past 5 years . The phone is power packed with amazing features . What impressed me the most was the battery backup the phone offers . Battery can easily run upto 1.5 days in single charge with moderate to\\nHeavy usage . If you’re looking for a value for money device , I don’t see any other phone in the price range which can match the iPhone 11 .\\nOne thing I didn’t like was that ...\\nREAD MORE\\nPrateek raj\\nCertified Buyer, Bengaluru\\nMar, 2020\\n121',\n",
       " \"5\\nSuper!\\nIt's a great phone. From camera to display everything is best for the price.\\nBest camera , best performance. I think everyone should buy it . This phone has best battery life so far in iphone series which I had used earlier. Happy to have it. Thanks Flipkart\\nMayank Kushwah\\nCertified Buyer, Datia\\n10 months ago\\n153\",\n",
       " '5\\nAwesome\\nCan’t beat the software and hardware integration of apple.\\nPerforms like a beast. Great quality camera\\n6-7 hours screen on time which is good. Nothing much to complaint about the screen. Good connectivity speeds.\\nGreat buy and Flipkart’s delivery top notch as usual\\nsanjay deva\\nCertified Buyer, Chennai\\nNov, 2019\\n122',\n",
       " '5\\nAwesome\\nI dreamt about this day from a long time.... Getting an iPhone with my own money.... Super happy and worth spending every penny\\nPratyay Goswami\\nCertified Buyer\\n1 month ago\\n60',\n",
       " '5\\nTerrific purchase\\nI use a Note10+ and have been using both iOS and Android devices.\\n\\nCamera has really good features and portraits are super good, better than Samsung flagship. Overall camera setup can still be enhanced and hopeful for better upgrades on software in next release\\n\\nOperating system is quite a breeze and user experience of daily usage is very high as compared to Android. I moved to iOS very swiftly in 2 days for all my office work from Note10+\\n\\nBattery holds up quite well with 4 hrs of call and ...\\nREAD MORE\\nPratik Shah\\nCertified Buyer, Mumbai\\n11 months ago\\n60',\n",
       " '5\\nAwesome\\nThe phone is completely good\\nAs far as camera Apple is king of it\\nAnd its a beast in performance\\nAnd the battery is pretty good too\\nAkshay Joseph\\nCertified Buyer, Visakhapatnam\\nNov, 2019\\n60',\n",
       " '3\\nDecent product\\nEverything u ll like it when u use this iPhone. Simple changes only not many to lower models but it’s nice to use. Little heavy compared to previous models like 7,8\\nEzhil Rules\\nCertified Buyer, Namakkal\\nOct, 2019\\n60',\n",
       " '4\\nPretty good\\nI was using Iphone 6s and also Oneplus 6t. Both mobiles were perfectly alright in Photos, gaming, and smooth interface . My 6s mobile getting battery issue. thought upgrade to 11. Really like this mobile of its Internal storage (compare to 6s) , camera and its touch feeling. Its a worth buying mobile for me.\\nvijay hegde\\nCertified Buyer\\n1 month ago\\n143',\n",
       " \"3\\nDoes the job\\nphone is good but in display is 720p lcd in this price range we can get full hd OLED displays with higher refresh rate processor is very good camera is nice but looks kind of oldish in front of todays phone also there's no charging in box had to buy it seperately\\naman vats\\nCertified Buyer\\n2 months ago\\n143\",\n",
       " '5\\nWonderful\\nNice value for money good and best price I phone mind blowing camera processor very fast other android mobile I am happy India top selling phone 2020\\nFlipkart Customer\\nCertified Buyer, Panna\\n5 months ago\\n91',\n",
       " '5\\nClassy product\\nWe are on apple ecosystem for almost eight years now with couple of iPads and iPhones, including Xr.\\n\\nBought iPhone 11 as a gift to my daughter who loves it. We chose for a purple coloured one. Believe me it is gorgeous and towards the lighter shade. Dazzling and brilliant!\\n\\nThe phone is great and does excellent RAM management like any other Apple device.\\n\\nThe screen, though a LCD and lesser ppi as compared to other flagship phones of competitor brands, is a delight to watch with perfect re...\\nREAD MORE\\nAmit Kulshrestha\\nCertified Buyer\\n2 months ago\\n154',\n",
       " '5\\nSuper!\\nThis is my first ever iPhone.\\nAnd I truly don’t regret switching to IOS from my Android.\\n\\nIt is easily an alternative to a DSLR camera.\\nIf you’re obsessed with photos and videos, just don’t think twice or don’t compare to other androids(Samsung S10 lite or OnePlus 8/8T), as it’s far better from them in every field.\\nComparing will only make you confused.\\n\\nI am getting an average Screen on Time of around 10 hours with 30 percent left. I haven’t let my device discharged below 30 % as it aff...\\nREAD MORE\\nKaustav Acharyya\\nCertified Buyer, Basirhat\\n4 months ago\\n112',\n",
       " '5\\nFabulous!\\nEverything is perfect pictures come out so clearly and at first I wasn’t sure when I got it then when I started to use it and get the hang of it it was amazing!! I can’t wait to see what the next future phones will be like. The screen display on this bad boy are unbelievable they are so clear and never fail me. The performance is super cool there is a lot of cool features as well I like this phone because I feel that it is easy to use and one of my favorite things about this phone is the Face...\\nREAD MORE\\nJitendra Pratap Singh\\nCertified Buyer, Bagaha\\n5 months ago\\n102',\n",
       " '5\\nExcellent\\nValue for money product. This iphone 11 is really amazing. Again nice release by apple. Great camera, battery backup is excellent. I just love this phone\\nGajendra K Chauhan\\nCertified Buyer, Vadodara\\nDec, 2019\\n123',\n",
       " \"5\\nBest in the market!\\nThe best all rounder iphone. Flipkart is doing a great job. They're delivery services are blazing fast. I got delivery on the same day. Genuine Apple Product. Working great. Talking about review There's no need of review for iphones. They're simply the best.\\nFlipkart Customer\\nCertified Buyer\\n3 months ago\\n186\",\n",
       " '5\\nBrilliant\\nA wort full value for money decision it’s . Simply go for it in 2021 its still a good decision . Awesome camera , Super smothered performance, Heck of build quality. And Most important it protects your privacy.\\nMohammed Mueenuddin\\nCertified Buyer\\n1 month ago\\n40',\n",
       " \"4\\nWonderful\\nI genuinely liked it. One of the best mobile phones I have used. It's sho smooth and it's security is very astonishing. Plus it has a very good camera quality. so overall it's a win win.\\nNeha\\nCertified Buyer\\n3 months ago\\n50\",\n",
       " \"4\\nNice product\\nIf you are looking for a premium phone under 55k, this is the one for you.Got the iPhone 11 during the Republic day sale. Performance is top notch in this price range. Camera's do a perfect job in taking good quality photos and videos. Battery backup too is satisfactory. Writing this review after using for a week. Any further observations would be updated.\\nFrancis Thomas\\nCertified Buyer, Kottayam District\\n5 months ago\\n50\",\n",
       " '4\\nGood quality product\\nAwesome camera, smooth and fast UI, display is great (though not LED) but the black area at the top could have been reduced. Battery remains a day even if used heavily. Charger in the box is ok, but 12 or 18W could have been nothing like anything. Overall an excellent product and comfortable to use. I have got it almost a month back and so far so good.\\nALI A Hoque\\nCertified Buyer, New Town\\n11 months ago\\n50']"
      ]
     },
     "execution_count": 167,
     "metadata": {},
     "output_type": "execute_result"
    }
   ],
   "source": [
    "# fetching Full review\n",
    "\n",
    "Full_review = []\n",
    "for i in iphone_100_review1:\n",
    "    driver.get(i)\n",
    "    iphone_review2 = driver.find_elements_by_xpath(\"//div[@class='col _2wzgFH K0kLPL']\")\n",
    "    for i in iphone_review2:\n",
    "        Full_review.append(i.text)\n",
    "Full_review[:100] "
   ]
  },
  {
   "cell_type": "markdown",
   "metadata": {},
   "source": [
    "# Q8: Scrape data for first 100 sneakers you find when you visit flipkart.com and search for “sneakers” in the search field.\n",
    "You have to scrape 4 attributes of each sneaker :\n",
    "1. Brand\n",
    "2. Product Description\n",
    "3. Price\n",
    "4. discount %\n"
   ]
  },
  {
   "cell_type": "code",
   "execution_count": 1,
   "metadata": {},
   "outputs": [
    {
     "name": "stdout",
     "output_type": "stream",
     "text": [
      "Requirement already satisfied: selenium in c:\\users\\sunil gupta\\anaconda3\\lib\\site-packages (3.141.0)\n",
      "Requirement already satisfied: urllib3 in c:\\users\\sunil gupta\\anaconda3\\lib\\site-packages (from selenium) (1.25.11)\n"
     ]
    }
   ],
   "source": [
    "# LETS FIRST INSTALL THE SELENIUM LIBRARY\n",
    "!pip install selenium "
   ]
  },
  {
   "cell_type": "code",
   "execution_count": 2,
   "metadata": {},
   "outputs": [],
   "source": [
    "# let import all the libraries\n",
    "import selenium \n",
    "import pandas as pd\n",
    "from selenium import webdriver"
   ]
  },
  {
   "cell_type": "code",
   "execution_count": 3,
   "metadata": {},
   "outputs": [],
   "source": [
    "# lets connect to webdriver\n",
    "driver = webdriver.Chrome(\"chromedriver.exe\")"
   ]
  },
  {
   "cell_type": "code",
   "execution_count": 4,
   "metadata": {},
   "outputs": [],
   "source": [
    "url = \"https://www.flipkart.com/\"\n",
    "\n",
    "driver.get(url)"
   ]
  },
  {
   "cell_type": "code",
   "execution_count": 6,
   "metadata": {},
   "outputs": [
    {
     "data": {
      "text/plain": [
       "['https://www.flipkart.com/search?q=sneakers&otracker=search&otracker1=search&marketplace=FLIPKART&as-show=on&as=off&page=2',\n",
       " 'https://www.flipkart.com/search?q=sneakers&otracker=search&otracker1=search&marketplace=FLIPKART&as-show=on&as=off&page=3',\n",
       " 'https://www.flipkart.com/search?q=sneakers&otracker=search&otracker1=search&marketplace=FLIPKART&as-show=on&as=off&page=4',\n",
       " 'https://www.flipkart.com/search?q=sneakers&otracker=search&otracker1=search&marketplace=FLIPKART&as-show=on&as=off&page=5',\n",
       " 'https://www.flipkart.com/search?q=sneakers&otracker=search&otracker1=search&marketplace=FLIPKART&as-show=on&as=off&page=6',\n",
       " 'https://www.flipkart.com/search?q=sneakers&otracker=search&otracker1=search&marketplace=FLIPKART&as-show=on&as=off&page=7',\n",
       " 'https://www.flipkart.com/search?q=sneakers&otracker=search&otracker1=search&marketplace=FLIPKART&as-show=on&as=off&page=8',\n",
       " 'https://www.flipkart.com/search?q=sneakers&otracker=search&otracker1=search&marketplace=FLIPKART&as-show=on&as=off&page=9',\n",
       " 'https://www.flipkart.com/search?q=sneakers&otracker=search&otracker1=search&marketplace=FLIPKART&as-show=on&as=off&page=10']"
      ]
     },
     "execution_count": 6,
     "metadata": {},
     "output_type": "execute_result"
    }
   ],
   "source": [
    "# FETCHING 100 sneakers link\n",
    "\n",
    "url_sneaker = []\n",
    "\n",
    "url = driver.find_elements_by_xpath(\"//a[@class='ge-49M']\")\n",
    "\n",
    "for i in url:\n",
    "    url_sneaker.append(i.get_attribute('href'))\n",
    "url_sneaker "
   ]
  },
  {
   "cell_type": "code",
   "execution_count": 7,
   "metadata": {},
   "outputs": [
    {
     "data": {
      "text/plain": [
       "['bluemaker',\n",
       " 'Chevit',\n",
       " 'World Wear Footwear',\n",
       " 'Extoes',\n",
       " 'Magnolia',\n",
       " 'World Wear Footwear',\n",
       " 'Arohi',\n",
       " 'Extoes',\n",
       " 'ESSENCE',\n",
       " 'ESSENCE',\n",
       " '3SIX5',\n",
       " 'Chevit',\n",
       " 'STRANGER BROTHERS',\n",
       " 'Birde',\n",
       " 'Lee Won',\n",
       " 'GVSSHOES',\n",
       " 'Absolute comfort',\n",
       " 'Birde',\n",
       " 'Chevit',\n",
       " 'Chevit',\n",
       " 'World Wear Footwear',\n",
       " 'HOTSTYLE',\n",
       " 'Birde',\n",
       " 'Echor',\n",
       " 'ESSENCE',\n",
       " 'REEBOK',\n",
       " 'HOTSTYLE',\n",
       " 'Robbie jones',\n",
       " 'Zsyto',\n",
       " 'Robbie jones',\n",
       " 'kardam&sons',\n",
       " 'Chevit',\n",
       " 'Zsyto',\n",
       " 'Robbie jones',\n",
       " 'Jack Diamond',\n",
       " 'U.S. POLO ASSN.',\n",
       " 'BRUTON',\n",
       " 'Zorth',\n",
       " 'SPARX',\n",
       " 'bluemaker',\n",
       " 'D-SNEAKERZ',\n",
       " 'ESSENCE',\n",
       " 'Aura',\n",
       " 'Extoes',\n",
       " 'SPARX',\n",
       " 'Chevit',\n",
       " 'BRUTON',\n",
       " 'Extoes',\n",
       " 'FILA',\n",
       " 'kardam&sons',\n",
       " 'HOCKWOOD',\n",
       " 'luxury fashion',\n",
       " 'Robbie jones',\n",
       " 'bluemaker',\n",
       " 'PUMA',\n",
       " 'GVSSHOES',\n",
       " 'PUMA',\n",
       " 'SPADE CLUB',\n",
       " 'Echor',\n",
       " 'Chevit',\n",
       " 'Magnolia',\n",
       " 'STRANGER BROTHERS',\n",
       " 'TR',\n",
       " 'Birde',\n",
       " 'BRUTON',\n",
       " 'kardam&sons',\n",
       " 'FILA',\n",
       " 'Nilatin',\n",
       " 'kardam&sons',\n",
       " 'SPARX',\n",
       " 'Vellinto',\n",
       " 'Robbie jones',\n",
       " 'SPARX',\n",
       " 'RED TAPE',\n",
       " 'DUCATI',\n",
       " 'STRANGER BROTHERS',\n",
       " 'Alfiya',\n",
       " 'Fzzirok',\n",
       " 'Ktiz',\n",
       " 'U.S. POLO ASSN.',\n",
       " 'ESSENCE',\n",
       " 'SPARX',\n",
       " 'BRUTON',\n",
       " 'Echor',\n",
       " 'Robbie jones',\n",
       " 'Red Eagle',\n",
       " 'Chevit',\n",
       " 'Labbin',\n",
       " 'Absolute comfort',\n",
       " 'SPARX',\n",
       " 'HOCKWOOD',\n",
       " 'LishTree',\n",
       " 'HOCKWOOD',\n",
       " 'Chevit',\n",
       " 'ADIDAS',\n",
       " 'Fzzirok',\n",
       " 'SPARX',\n",
       " 'Chevit',\n",
       " 'PROVOGUE',\n",
       " 'Chevit']"
      ]
     },
     "execution_count": 7,
     "metadata": {},
     "output_type": "execute_result"
    }
   ],
   "source": [
    "# FETCHING 100 sneakers brand\n",
    "\n",
    "sneakers = []\n",
    "for i in url_sneaker:\n",
    "    driver.get(i)\n",
    "    sneakers1 = driver.find_elements_by_xpath(\"//div[@class='_2WkVRV']\")\n",
    "    for i in sneakers1:\n",
    "        sneakers.append(i.text)\n",
    "sneakers[:100]"
   ]
  },
  {
   "cell_type": "code",
   "execution_count": 8,
   "metadata": {},
   "outputs": [
    {
     "data": {
      "text/plain": [
       "['casual for men (beige 06) Sneakers For Men',\n",
       " 'Affordable Combo Pack of 02 Pairs Sneakers Outdoor Loaf...',\n",
       " 'Men 5014 Latest Collection Stylish Casual Sports Loafer...',\n",
       " 'Sneakers For Men',\n",
       " 'Sneakers For Men',\n",
       " 'Latest Collection-1227 Stylish Casual Sports Sneakers F...',\n",
       " 'Sneakers For Men',\n",
       " 'Sneakers For Men',\n",
       " 'Trendy Sneakers For Men',\n",
       " 'Sneakers For Men',\n",
       " 'Combo Pack of 5 Casual Shoes Loafers Sneakers For Men',\n",
       " 'Sneakers For Men',\n",
       " 'Combo Pack of 4 Casual Sneakers With Sneakers For Men',\n",
       " 'Combo Pack of 2 Casual Shoes Sneakers For Men',\n",
       " 'Perfect & Affordable Combo Pack of 02 Pairs Sneakers Ou...',\n",
       " 'Combo Pack Of 4 Casual Shoes Loafer Shoes Sneakers For ...',\n",
       " 'Combo Pack of 4 Latest Collection Stylish Casual Loafer...',\n",
       " 'Sneakers Sneakers For Men',\n",
       " 'Combo Pack of 4 Casual Shoes Sneakers For Men',\n",
       " 'Trendy Sneakers For Men',\n",
       " 'TREAD LITE LUX Sneakers For Men',\n",
       " 'Sneakers Sneakers For Men',\n",
       " 'Super Stylish & Trendy Combo Pack of 02 Pairs Sneakers ...',\n",
       " 'Casual Sneakers Green Shoes For Men And Boys Sneakers F...',\n",
       " 'Fashionable casual sneaker shoes Sneakers For Men',\n",
       " 'shoes for boys Sneakers For Men',\n",
       " 'Sneakers For Men',\n",
       " 'Casual Sneakers Green Shoes For Men And Boys Sneakers F...',\n",
       " 'Combo Pack of 5 Casual Sneakers With Sneakers For Men',\n",
       " 'New Fashion Outdoor Trendy Lightweight Casual,Canvas St...',\n",
       " 'Lightweight Pack of 02 Pair Shoes for Men Casual Sneake...',\n",
       " \"Casual , Partywear Sneakers Shoes For Men's And Boys Wh...\",\n",
       " 'Trendy Sneakers For Men',\n",
       " 'Combo Pack of 3 Casual Shoes Sneakers For Men',\n",
       " 'Sneakers For Men',\n",
       " 'SM-162 Sneakers For Men',\n",
       " 'Combo Pack of 4 Casual Sneakers With Sneakers For Men',\n",
       " 'Combo Pack of 2 Casual Shoes Sneakers For Men',\n",
       " 'Sneakers For Men',\n",
       " 'EMAN Sneakers For Men',\n",
       " \"Karda Casual Sneakers and Gym Shoes for Men's and Boys ...\",\n",
       " 'Casual Sneakers Green Shoes For Men And Boys Sneakers F...',\n",
       " 'casual for men Sneakers For Men',\n",
       " 'Trenzo II IDP Sneakers For Men',\n",
       " 'Combo Pack Of 4 Casual Shoes Loafer Shoes Sneakers For ...',\n",
       " 'Speeder DP Sneakers For Men',\n",
       " 'shoes for boys Sneakers For Men',\n",
       " 'Fashionable casual sneaker shoes Sneakers For Men',\n",
       " 'White Sneakers Sneakers For Men',\n",
       " 'Sneakers For Men',\n",
       " 'Sneakers For Men',\n",
       " 'Combo Pack Of 3 Loafer Shoes Sneakers For Men',\n",
       " \"Karda Casual Sneakers and Gym Shoes for Men's and Boys ...\",\n",
       " 'DERICO Sneakers For Men',\n",
       " 'Combo Pack of 5 Casual Shoes Loafers Sneakers For Men',\n",
       " \"Karda Casual Sneakers and Gym Shoes for Men's and Boys ...\",\n",
       " 'Sneakers For Men',\n",
       " 'Super Stylish & Trendy Combo Pack of 02 Pairs Sneakers ...',\n",
       " 'Sneakers For Men',\n",
       " 'Shoes in Black Color Party wear/Outdoor/Casual Shoes Fo...',\n",
       " 'Sneakers For Men',\n",
       " 'Sneakers For Men',\n",
       " 'Casual Sneakers Shoes For Men Sneakers For Men',\n",
       " 'Sneakers For Men',\n",
       " 'Stylish & Unique Design Combo Pack of 02 Shoes for Men ...',\n",
       " 'Combo Pack Of 4 Casual Shoes Loafer Shoes Sneakers For ...',\n",
       " 'Sneakers For Men',\n",
       " 'COMBO-PACK-(3)-SNEAKER-WRBT Sneakers For Men',\n",
       " 'SD-323 Sneakers For Men',\n",
       " 'Adiset M Sneakers For Men',\n",
       " \"Men's Combo Pack of 02 Shoes for Men Casual Sneakers Ou...\",\n",
       " 'Combo Pack of 4 Casual Sneakers With Sneakers For Men',\n",
       " 'Combo Pack of 2 Walking Shoes Sneakers For Men',\n",
       " 'PRO-NP-AW08 Sneakers For Men',\n",
       " 'SM-322 Sneakers For Men',\n",
       " 'PANAL Sneakers For Men',\n",
       " 'Sneakers For Men',\n",
       " 'SM-322 Sneakers For Men',\n",
       " 'Super Stylish & Trendy Combo Pack of 02 Pairs Sneakers ...',\n",
       " 'Sneakers For Men',\n",
       " \"Super & Trendy Men's Pack of 02 Pair Shoes for Boys Cas...\",\n",
       " 'Sneakers For Men',\n",
       " 'shoes for boys Sneakers For Men',\n",
       " 'Sneakers For Men',\n",
       " 'Adiset M Sneakers For Men',\n",
       " 'Lightweight Combo Pack Of 04 Trendy Sneakers Sneakers F...',\n",
       " 'Combo Pack of 5 Casual Shoes Loafers Sneakers For Men',\n",
       " 'Sneakers For Men  (White) Sneakers For Men',\n",
       " 'mnnu casual running shoes, walking shoes, Sneakers For ...',\n",
       " 'SM-322 Sneakers For Men',\n",
       " 'Stylish & Comfort Combo Pack of 02 Pair Shoes for Boys ...',\n",
       " \"Casual , Partywear Sneakers Shoes For Men's And Boys Re...\",\n",
       " 'Sneakers For Men',\n",
       " 'Lazy Knit Slip On IDP Sneakers For Men',\n",
       " 'Combo Pack Of 4 Casual Sneaker Shoes For Men Sneakers F...',\n",
       " 'Sneakers For Men',\n",
       " 'Sneakers For Men',\n",
       " 'Combo Pack of 4 Casual Shoes For Men Sneakers For Men',\n",
       " 'Court Legacy Sneakers For Men',\n",
       " 'Sneakers For Men']"
      ]
     },
     "execution_count": 8,
     "metadata": {},
     "output_type": "execute_result"
    }
   ],
   "source": [
    "# FETCHING 100 sneakers description\n",
    "\n",
    "sneakers_description = []\n",
    "for i in url_sneaker:\n",
    "    driver.get(i)\n",
    "    sneakers_desc = driver.find_elements_by_xpath(\"//a[@class='IRpwTa']\")\n",
    "    for i in sneakers_desc:\n",
    "        sneakers_description.append(i.text)\n",
    "sneakers_description[:100]"
   ]
  },
  {
   "cell_type": "code",
   "execution_count": 9,
   "metadata": {},
   "outputs": [
    {
     "data": {
      "text/plain": [
       "['₹599',\n",
       " '₹379',\n",
       " '₹240',\n",
       " '₹499',\n",
       " '₹377',\n",
       " '₹469',\n",
       " '₹240',\n",
       " '₹298',\n",
       " '₹399',\n",
       " '₹465',\n",
       " '₹475',\n",
       " '₹489',\n",
       " '₹698',\n",
       " '₹468',\n",
       " '₹189',\n",
       " '₹474',\n",
       " '₹498',\n",
       " '₹283',\n",
       " '₹499',\n",
       " '₹474',\n",
       " '₹799',\n",
       " '₹499',\n",
       " '₹283',\n",
       " '₹379',\n",
       " '₹468',\n",
       " '₹1,047',\n",
       " '₹283',\n",
       " '₹499',\n",
       " '₹499',\n",
       " '₹398',\n",
       " '₹419',\n",
       " '₹599',\n",
       " '₹398',\n",
       " '₹499',\n",
       " '₹499',\n",
       " '₹499',\n",
       " '₹635',\n",
       " '₹470',\n",
       " '₹699',\n",
       " '₹429',\n",
       " '₹468',\n",
       " '₹474',\n",
       " '₹498',\n",
       " '₹499',\n",
       " '₹474',\n",
       " '₹302',\n",
       " '₹499',\n",
       " '₹298',\n",
       " '₹692',\n",
       " '₹1,244',\n",
       " '₹410',\n",
       " '₹489',\n",
       " '₹379',\n",
       " '₹1,549',\n",
       " '₹499',\n",
       " '₹474',\n",
       " '₹979',\n",
       " '₹673',\n",
       " '₹348',\n",
       " '₹379',\n",
       " '₹499',\n",
       " '₹474',\n",
       " '₹410',\n",
       " '₹499',\n",
       " '₹329',\n",
       " '₹1,406',\n",
       " '₹844',\n",
       " '₹599',\n",
       " '₹430',\n",
       " '₹616',\n",
       " '₹999',\n",
       " '₹698',\n",
       " '₹1,360',\n",
       " '₹399',\n",
       " '₹370',\n",
       " '₹429',\n",
       " '₹1,439',\n",
       " '₹344',\n",
       " '₹398',\n",
       " '₹475',\n",
       " '₹468',\n",
       " '₹474',\n",
       " '₹399',\n",
       " '₹599',\n",
       " '₹598',\n",
       " '₹649',\n",
       " '₹474',\n",
       " '₹499',\n",
       " '₹474',\n",
       " '₹629',\n",
       " '₹674',\n",
       " '₹599',\n",
       " '₹1,795',\n",
       " '₹498',\n",
       " '₹664',\n",
       " '₹474',\n",
       " '₹498',\n",
       " '₹884',\n",
       " '₹840',\n",
       " '₹379']"
      ]
     },
     "execution_count": 9,
     "metadata": {},
     "output_type": "execute_result"
    }
   ],
   "source": [
    "# FETCHING 100 sneakers price\n",
    "\n",
    "sneakers_price = []\n",
    "for i in url_sneaker:\n",
    "    driver.get(i)\n",
    "    sneakers_pr = driver.find_elements_by_xpath(\"//div[@class='_30jeq3']\")\n",
    "    for i in sneakers_pr:\n",
    "        sneakers_price.append(i.text)\n",
    "sneakers_price[:100]"
   ]
  },
  {
   "cell_type": "code",
   "execution_count": 10,
   "metadata": {},
   "outputs": [
    {
     "data": {
      "text/plain": [
       "['53% off',\n",
       " '62% off',\n",
       " '51% off',\n",
       " '50% off',\n",
       " '62% off',\n",
       " '53% off',\n",
       " '51% off',\n",
       " '40% off',\n",
       " '60% off',\n",
       " '59% off',\n",
       " '52% off',\n",
       " '51% off',\n",
       " '72% off',\n",
       " '53% off',\n",
       " '62% off',\n",
       " '76% off',\n",
       " '50% off',\n",
       " '43% off',\n",
       " '72% off',\n",
       " '86% off',\n",
       " '59% off',\n",
       " '81% off',\n",
       " '43% off',\n",
       " '50% off',\n",
       " '53% off',\n",
       " '54% off',\n",
       " '43% off',\n",
       " '62% off',\n",
       " '50% off',\n",
       " '69% off',\n",
       " '79% off',\n",
       " '50% off',\n",
       " '69% off',\n",
       " '50% off',\n",
       " '50% off',\n",
       " '66% off',\n",
       " '36% off',\n",
       " '52% off',\n",
       " '82% off',\n",
       " '76% off',\n",
       " '53% off',\n",
       " '52% off',\n",
       " '62% off',\n",
       " '50% off',\n",
       " '76% off',\n",
       " '87% off',\n",
       " '50% off',\n",
       " '40% off',\n",
       " '30% off',\n",
       " '59% off',\n",
       " '75% off',\n",
       " '51% off',\n",
       " '62% off',\n",
       " '50% off',\n",
       " '50% off',\n",
       " '86% off',\n",
       " '27% off',\n",
       " '32% off',\n",
       " '65% off',\n",
       " '50% off',\n",
       " '50% off',\n",
       " '83% off',\n",
       " '75% off',\n",
       " '62% off',\n",
       " '67% off',\n",
       " '59% off',\n",
       " '11% off',\n",
       " '72% off',\n",
       " '74% off',\n",
       " '52% off',\n",
       " '23% off',\n",
       " '66% off',\n",
       " '54% off',\n",
       " '60% off',\n",
       " '62% off',\n",
       " '52% off',\n",
       " '60% off',\n",
       " '65% off',\n",
       " '60% off',\n",
       " '54% off',\n",
       " '53% off',\n",
       " '52% off',\n",
       " '61% off',\n",
       " '50% off',\n",
       " '62% off',\n",
       " '7% off',\n",
       " '86% off',\n",
       " '40% off',\n",
       " '68% off',\n",
       " '16% off',\n",
       " '32% off',\n",
       " '51% off',\n",
       " '50% off',\n",
       " '50% off',\n",
       " '33% off',\n",
       " '76% off',\n",
       " '61% off',\n",
       " '57% off',\n",
       " '15% off',\n",
       " '50% off']"
      ]
     },
     "execution_count": 10,
     "metadata": {},
     "output_type": "execute_result"
    }
   ],
   "source": [
    "# FETCHING 100 sneakers discount\n",
    "\n",
    "sneakers_discount = []\n",
    "for i in url_sneaker:\n",
    "    driver.get(i)\n",
    "    sneakers_disc = driver.find_elements_by_xpath(\"//div[@class='_3Ay6Sb']\")\n",
    "    for i in sneakers_disc:\n",
    "        sneakers_discount.append(i.text)\n",
    "sneakers_discount[:100]"
   ]
  },
  {
   "cell_type": "markdown",
   "metadata": {},
   "source": [
    "# Q9: Go to the link - https://www.myntra.com/shoes\n",
    "### Set Price filter to “Rs. 6649 to Rs. 13099” , Color filter to “Black”, as shown in the below image\n",
    "### And then scrape First 100 shoes data you get. The data should include “Brand” of the shoes , Short Shoe description, price of  the shoe as shown in the below image.\n",
    "Please note"
   ]
  },
  {
   "cell_type": "code",
   "execution_count": 1,
   "metadata": {},
   "outputs": [
    {
     "name": "stdout",
     "output_type": "stream",
     "text": [
      "Requirement already satisfied: selenium in c:\\users\\sunil gupta\\anaconda3\\lib\\site-packages (3.141.0)\n",
      "Requirement already satisfied: urllib3 in c:\\users\\sunil gupta\\anaconda3\\lib\\site-packages (from selenium) (1.25.11)\n"
     ]
    }
   ],
   "source": [
    "# LETS FIRST INSTALL THE SELENIUM LIBRARY\n",
    "!pip install selenium "
   ]
  },
  {
   "cell_type": "code",
   "execution_count": 2,
   "metadata": {},
   "outputs": [],
   "source": [
    "# let import all the libraries\n",
    "import selenium \n",
    "import pandas as pd\n",
    "import time\n",
    "from selenium import webdriver"
   ]
  },
  {
   "cell_type": "code",
   "execution_count": 15,
   "metadata": {},
   "outputs": [],
   "source": [
    "# lets connect to webdriver\n",
    "driver = webdriver.Chrome(\"chromedriver.exe\")"
   ]
  },
  {
   "cell_type": "code",
   "execution_count": 16,
   "metadata": {},
   "outputs": [],
   "source": [
    "url = \"https://www.myntra.com/shoes\"\n",
    "driver.get(url)"
   ]
  },
  {
   "cell_type": "code",
   "execution_count": 21,
   "metadata": {},
   "outputs": [
    {
     "data": {
      "text/plain": [
       "<selenium.webdriver.remote.webelement.WebElement (session=\"c59e0b0692b2bd8ac709fbd220abd5cf\", element=\"3a3ed649-5853-44d2-94ce-f3b63cbcde84\")>"
      ]
     },
     "execution_count": 21,
     "metadata": {},
     "output_type": "execute_result"
    }
   ],
   "source": [
    "price_button = driver.find_element_by_xpath('/html/body/div[2]/div/div[1]/main/div[3]/div[1]/section/div/div[5]/ul/li[2]/label/div')\n",
    "price_button"
   ]
  },
  {
   "cell_type": "code",
   "execution_count": 22,
   "metadata": {},
   "outputs": [],
   "source": [
    "price_button.click()"
   ]
  },
  {
   "cell_type": "code",
   "execution_count": 19,
   "metadata": {},
   "outputs": [
    {
     "data": {
      "text/plain": [
       "<selenium.webdriver.remote.webelement.WebElement (session=\"c59e0b0692b2bd8ac709fbd220abd5cf\", element=\"1b3891d4-7b87-4765-ba96-5de4b18a3fb5\")>"
      ]
     },
     "execution_count": 19,
     "metadata": {},
     "output_type": "execute_result"
    }
   ],
   "source": [
    "color_button = driver.find_element_by_xpath('/html/body/div[2]/div/div[1]/main/div[3]/div[1]/section/div/div[6]/ul/li[1]/label/div')\n",
    "color_button"
   ]
  },
  {
   "cell_type": "code",
   "execution_count": 20,
   "metadata": {},
   "outputs": [],
   "source": [
    "color_button.click()"
   ]
  },
  {
   "cell_type": "code",
   "execution_count": 44,
   "metadata": {},
   "outputs": [
    {
     "data": {
      "text/plain": [
       "['https://www.myntra.com/shoes?f=Color%3ABlack_36454f&plaEnabled=false&rf=Price%3A6649.0_13099.0_6649.0%20TO%2013099.0%2C6687.0_13125.0_6687.0%20TO%2013125.0']"
      ]
     },
     "execution_count": 44,
     "metadata": {},
     "output_type": "execute_result"
    }
   ],
   "source": [
    "# FETCHING 100 shoes link\n",
    "\n",
    "url_shoes = []\n",
    "\n",
    "url = driver.find_elements_by_xpath('/html/body/div[2]/div/div[1]/main/div[3]/div[2]/div/div[2]/section/div[2]/ul/li[2]/a')\n",
    "\n",
    "\n",
    "for i in url:\n",
    "    url_shoes.append(i.get_attribute('href'))\n",
    "url_shoes "
   ]
  },
  {
   "cell_type": "code",
   "execution_count": 48,
   "metadata": {},
   "outputs": [
    {
     "data": {
      "text/plain": [
       "['Nike',\n",
       " 'Nike',\n",
       " 'ALDO',\n",
       " 'Nike',\n",
       " 'Nike',\n",
       " 'ALDO',\n",
       " 'Puma',\n",
       " 'Puma',\n",
       " 'Puma',\n",
       " 'Puma',\n",
       " 'Nike',\n",
       " 'Puma',\n",
       " 'UNDER ARMOUR',\n",
       " 'Puma',\n",
       " 'Hush Puppies',\n",
       " 'Nike',\n",
       " 'UNDER ARMOUR',\n",
       " 'UNDER ARMOUR',\n",
       " 'UNDER ARMOUR',\n",
       " 'ADIDAS',\n",
       " 'Skechers',\n",
       " 'Hush Puppies',\n",
       " 'Skechers',\n",
       " 'Hush Puppies',\n",
       " 'PUMA Hoops',\n",
       " 'Nike',\n",
       " 'FORCLAZ By Decathlon',\n",
       " 'Puma',\n",
       " 'Hush Puppies',\n",
       " 'Ruosh',\n",
       " 'Hush Puppies',\n",
       " 'UNDER ARMOUR',\n",
       " 'Puma',\n",
       " 'ASICS',\n",
       " 'Puma',\n",
       " 'Puma',\n",
       " 'Kalenji By Decathlon',\n",
       " 'Hush Puppies',\n",
       " 'Hush Puppies',\n",
       " 'Vans',\n",
       " 'Puma',\n",
       " 'Geox',\n",
       " 'Hush Puppies',\n",
       " 'PUMA Motorsport',\n",
       " 'UNDER ARMOUR',\n",
       " 'ASICS',\n",
       " 'Ruosh',\n",
       " 'Bugatti',\n",
       " 'Puma',\n",
       " 'Hush Puppies']"
      ]
     },
     "execution_count": 48,
     "metadata": {},
     "output_type": "execute_result"
    }
   ],
   "source": [
    "# FETCHING 100 shoes Brand\n",
    "\n",
    "shoes = []\n",
    "for i in url_shoes:\n",
    "    driver.get(i)\n",
    "    shoes_list = driver.find_elements_by_xpath(\"//h3[@class='product-brand']\")\n",
    "    \n",
    "    for i in shoes_list:\n",
    "        shoes.append(i.text)\n",
    "shoes[:100]"
   ]
  },
  {
   "cell_type": "code",
   "execution_count": 49,
   "metadata": {},
   "outputs": [
    {
     "data": {
      "text/plain": [
       "['Unisex LEBRON XVIII Basketball',\n",
       " 'Men AIR ZOOM Running Shoes',\n",
       " 'Men Driving Shoes',\n",
       " 'LEBRON XVIII Basketball Shoes',\n",
       " 'Women FREE RN 5.0 Shoes',\n",
       " 'Men Sneakers',\n",
       " 'Mesh Hybrid Fuego Running',\n",
       " 'Men Velocity Nitro Running',\n",
       " 'Men Running Shoes',\n",
       " 'Men Deviate Nitro Running Shoe',\n",
       " 'Women AIR MAX VG-R Sneakers',\n",
       " 'Men Hybrid Fuego Running Shoes',\n",
       " 'Women Liquify Rebel Running',\n",
       " 'Men Liberate Nitro Running',\n",
       " 'Men Leather Slip-On Sneakers',\n",
       " 'Men CHALLENGER OG Sneakers',\n",
       " 'HOVR Sonic 3 Running Shoes',\n",
       " 'HOVR Sonic 3 Running Shoes',\n",
       " 'Women TriBase Reign 2 Training',\n",
       " 'Women Running Shoes',\n",
       " 'Women AIR ELEMENT 2 Sneakers',\n",
       " 'Men Leather Slip-On Shoes',\n",
       " 'Men Flex Advantage 4.0Upstream',\n",
       " 'Men Colourblocked Driving Shoes',\n",
       " 'Unisex Clyde Basketball Shoes',\n",
       " 'Women Air Max Siren Sneakers',\n",
       " 'TREKKING 100 Boots',\n",
       " 'Women Eternity Nitro Running',\n",
       " 'Men Solid Leather Formal Slip-Ons',\n",
       " 'Men Solid Leather Formal Slip-Ons',\n",
       " 'Men Leather Derbys',\n",
       " 'Women HOVR Rise 2 Training',\n",
       " 'Women Velocity Nitro Running',\n",
       " 'Women Running Shoes',\n",
       " 'Men Football Shoes',\n",
       " 'Women Deviate Nitro Running',\n",
       " 'Men KD500 Running Shoe',\n",
       " 'Men Leather Slip-On Sneakers',\n",
       " 'Men Solid Leather Formal Slip-Ons',\n",
       " 'Men Striped Sneakers',\n",
       " 'Women Liberate Nitro Running',\n",
       " 'Men Leather Formal Derbys',\n",
       " 'Men Solid Leather Formal Derbys',\n",
       " 'Unisex Sneakers',\n",
       " 'GS SC 3Zero IV Basketball',\n",
       " 'Men Running Shoes',\n",
       " 'Men Textured Leather Monks',\n",
       " 'Men Slip-On Sneakers',\n",
       " 'Men 365 Evoknit Ignite Ct Football',\n",
       " 'Men Solid Leather Formal Slip-Ons']"
      ]
     },
     "execution_count": 49,
     "metadata": {},
     "output_type": "execute_result"
    }
   ],
   "source": [
    "# FETCHING 100 shoes description\n",
    "\n",
    "shoes_description = []\n",
    "for i in url_shoes:\n",
    "    driver.get(i)\n",
    "    shoes_desc = driver.find_elements_by_xpath(\"//h4[@class='product-product']\")\n",
    "    \n",
    "    for i in shoes_desc:\n",
    "        shoes_description.append(i.text)\n",
    "shoes_description[:100]"
   ]
  },
  {
   "cell_type": "code",
   "execution_count": 55,
   "metadata": {},
   "outputs": [
    {
     "data": {
      "text/plain": [
       "['Rs. 8750Rs. 10295(15% OFF)',\n",
       " 'Rs. 11999',\n",
       " 'Rs. 12316Rs. 17595(30% OFF)',\n",
       " 'Rs. 9999',\n",
       " 'Rs. 12316Rs. 17595(30% OFF)',\n",
       " 'Rs. 7195Rs. 7995(10% OFF)',\n",
       " 'Rs. 6999',\n",
       " 'Rs. 8799Rs. 10999(20% OFF)',\n",
       " 'Rs. 12999',\n",
       " 'Rs. 11249Rs. 14999(25% OFF)',\n",
       " 'Rs. 6999',\n",
       " 'Rs. 7375Rs. 8195(10% OFF)',\n",
       " 'Rs. 8999',\n",
       " 'Rs. 7499Rs. 9999(25% OFF)',\n",
       " 'Rs. 9999',\n",
       " 'Rs. 7375Rs. 8195(10% OFF)',\n",
       " 'Rs. 10999',\n",
       " 'Rs. 10999',\n",
       " 'Rs. 11999',\n",
       " 'Rs. 6799Rs. 7999(15% OFF)',\n",
       " 'Rs. 7999',\n",
       " 'Rs. 6999',\n",
       " 'Rs. 6999',\n",
       " 'Rs. 8999',\n",
       " 'Rs. 8249Rs. 10999(25% OFF)',\n",
       " 'Rs. 7375Rs. 8195(10% OFF)',\n",
       " 'Rs. 7857Rs. 8449(7% OFF)',\n",
       " 'Rs. 6999',\n",
       " 'Rs. 9749Rs. 12999(25% OFF)',\n",
       " 'Rs. 9659Rs. 13999(31% OFF)',\n",
       " 'Rs. 8999',\n",
       " 'Rs. 6990',\n",
       " 'Rs. 7349Rs. 10499(30% OFF)',\n",
       " 'Rs. 9999',\n",
       " 'Rs. 7999',\n",
       " 'Rs. 11999Rs. 14999(20% OFF)',\n",
       " 'Rs. 8249Rs. 10999(25% OFF)',\n",
       " 'Rs. 12749Rs. 16999(25% OFF)',\n",
       " 'Rs. 6999',\n",
       " 'Rs. 8999',\n",
       " 'Rs. 6999Rs. 9999(30% OFF)',\n",
       " 'Rs. 7499Rs. 9999(25% OFF)',\n",
       " 'Rs. 6899Rs. 9999(31% OFF)',\n",
       " 'Rs. 9999',\n",
       " 'Rs. 6749Rs. 8999(25% OFF)',\n",
       " 'Rs. 7499',\n",
       " 'Rs. 6990',\n",
       " 'Rs. 7999',\n",
       " 'Rs. 7499Rs. 9999(25% OFF)',\n",
       " 'Rs. 9999']"
      ]
     },
     "execution_count": 55,
     "metadata": {},
     "output_type": "execute_result"
    }
   ],
   "source": [
    "# FETCHING 100 shoes price\n",
    "\n",
    "shoes_price = []\n",
    "for i in url_shoes:\n",
    "    driver.get(i)\n",
    "    shoes_pr = driver.find_elements_by_xpath(\"//div[@class='product-price']\")\n",
    "    \n",
    "    for i in shoes_pr:\n",
    "        shoes_price.append(i.text)\n",
    "shoes_price[:100]"
   ]
  },
  {
   "cell_type": "markdown",
   "metadata": {},
   "source": [
    "# Q10: Go to webpage https://www.amazon.in/\n",
    "### Enter “Laptop” in the search field and then click the search icon.\n",
    "### Then set CPU Type filter to “Intel Core i7” and “Intel Core i9” as shown in the below image:\n",
    "### After setting the filters scrape first 10 laptops data. You have to scrape 3 attributes for each laptop:\n",
    "### 1. title\n",
    "### 2. Ratings\n",
    "### 3. Price    "
   ]
  },
  {
   "cell_type": "code",
   "execution_count": 1,
   "metadata": {},
   "outputs": [
    {
     "name": "stdout",
     "output_type": "stream",
     "text": [
      "Requirement already satisfied: selenium in c:\\users\\sunil gupta\\anaconda3\\lib\\site-packages (3.141.0)\n",
      "Requirement already satisfied: urllib3 in c:\\users\\sunil gupta\\anaconda3\\lib\\site-packages (from selenium) (1.25.11)\n"
     ]
    }
   ],
   "source": [
    "# LETS FIRST INSTALL THE SELENIUM LIBRARY\n",
    "!pip install selenium "
   ]
  },
  {
   "cell_type": "code",
   "execution_count": 33,
   "metadata": {},
   "outputs": [],
   "source": [
    "# let import all the libraries\n",
    "import selenium \n",
    "import pandas as pd\n",
    "import time\n",
    "from selenium import webdriver"
   ]
  },
  {
   "cell_type": "code",
   "execution_count": 3,
   "metadata": {},
   "outputs": [],
   "source": [
    "# lets connect to webdriver\n",
    "driver = webdriver.Chrome(\"chromedriver.exe\")"
   ]
  },
  {
   "cell_type": "code",
   "execution_count": 4,
   "metadata": {},
   "outputs": [],
   "source": [
    "url = \"https://www.amazon.in/\"\n",
    "driver.get(url)"
   ]
  },
  {
   "cell_type": "code",
   "execution_count": 5,
   "metadata": {},
   "outputs": [],
   "source": [
    "# how to search laptop\n",
    "\n",
    "search_laptop = driver.find_element_by_id('twotabsearchtextbox')"
   ]
  },
  {
   "cell_type": "code",
   "execution_count": 6,
   "metadata": {},
   "outputs": [],
   "source": [
    "# writing on search bar\n",
    "search_laptop.send_keys('laptop')"
   ]
  },
  {
   "cell_type": "code",
   "execution_count": 7,
   "metadata": {},
   "outputs": [
    {
     "data": {
      "text/plain": [
       "<selenium.webdriver.remote.webelement.WebElement (session=\"90ec10a0a1f73f08243eca844b29e4cb\", element=\"f01f5b20-0f02-4093-a16a-c08652a8b20d\")>"
      ]
     },
     "execution_count": 7,
     "metadata": {},
     "output_type": "execute_result"
    }
   ],
   "source": [
    "# how to click on button\n",
    "\n",
    "search_button = driver.find_element_by_xpath(\"//div[@class='nav-search-submit nav-sprite']\")\n",
    "search_button "
   ]
  },
  {
   "cell_type": "code",
   "execution_count": 8,
   "metadata": {},
   "outputs": [],
   "source": [
    "# click the button\n",
    "\n",
    "search_button.click()"
   ]
  },
  {
   "cell_type": "code",
   "execution_count": 9,
   "metadata": {},
   "outputs": [
    {
     "data": {
      "text/plain": [
       "<selenium.webdriver.remote.webelement.WebElement (session=\"90ec10a0a1f73f08243eca844b29e4cb\", element=\"0bb899ce-081f-4b1d-9df1-221c6a2bc415\")>"
      ]
     },
     "execution_count": 9,
     "metadata": {},
     "output_type": "execute_result"
    }
   ],
   "source": [
    "icore7_button = driver.find_element_by_xpath('/html/body/div[1]/div[2]/div[1]/div/div[2]/div/div[3]/span/div[1]/span/div/div/div[6]/ul[1]/li[26]/span/a/div/label/i')\n",
    "icore7_button"
   ]
  },
  {
   "cell_type": "code",
   "execution_count": 10,
   "metadata": {},
   "outputs": [],
   "source": [
    "icore7_button.click()"
   ]
  },
  {
   "cell_type": "code",
   "execution_count": 11,
   "metadata": {},
   "outputs": [
    {
     "data": {
      "text/plain": [
       "<selenium.webdriver.remote.webelement.WebElement (session=\"90ec10a0a1f73f08243eca844b29e4cb\", element=\"f0f54cc4-6113-44c2-ac54-6b7f5dfbe7da\")>"
      ]
     },
     "execution_count": 11,
     "metadata": {},
     "output_type": "execute_result"
    }
   ],
   "source": [
    "icore9_button = driver.find_element_by_xpath('/html/body/div[1]/div[2]/div[1]/div/div[2]/div/div[3]/span/div[1]/span/div/div/div[6]/ul[1]/li[28]/span/a/div/label/i')\n",
    "icore9_button"
   ]
  },
  {
   "cell_type": "code",
   "execution_count": 12,
   "metadata": {},
   "outputs": [],
   "source": [
    "icore9_button.click()"
   ]
  },
  {
   "cell_type": "code",
   "execution_count": 28,
   "metadata": {},
   "outputs": [],
   "source": [
    "laptop_urls = []\n",
    "for i in driver.find_elements_by_xpath(\"//a[@class='a-link-normal a-text-normal']\"):\n",
    "    laptop_urls.append(i.get_attribute(\"href\"))\n"
   ]
  },
  {
   "cell_type": "code",
   "execution_count": 30,
   "metadata": {},
   "outputs": [
    {
     "data": {
      "text/plain": [
       "['https://www.amazon.in/gp/slredirect/picassoRedirect.html/ref=pa_sp_atf_computers_sr_pg1_1?ie=UTF8&adId=A05808253755H7YWZ0AS3&url=%2FLenovo-Legion-Windows-Graphics-81YU002AIN%2Fdp%2FB08FJCRGPR%2Fref%3Dsr_1_1_sspa%3Fdchild%3D1%26keywords%3Dlaptop%26qid%3D1625890521%26refinements%3Dp_n_feature_thirteen_browse-bin%253A12598163031%257C16757432031%26rnid%3D12598141031%26s%3Dcomputers%26sr%3D1-1-spons%26psc%3D1&qualifier=1625890521&id=8194375818569640&widgetName=sp_atf',\n",
       " 'https://www.amazon.in/gp/slredirect/picassoRedirect.html/ref=pa_sp_atf_computers_sr_pg1_1?ie=UTF8&adId=A05810051XY0FATC051KI&url=%2FDell-Alienware-m15-R3-15-6-inch%2Fdp%2FB08BZR715W%2Fref%3Dsr_1_2_sspa%3Fdchild%3D1%26keywords%3Dlaptop%26qid%3D1625890521%26refinements%3Dp_n_feature_thirteen_browse-bin%253A12598163031%257C16757432031%26rnid%3D12598141031%26s%3Dcomputers%26sr%3D1-2-spons%26psc%3D1&qualifier=1625890521&id=8194375818569640&widgetName=sp_atf',\n",
       " 'https://www.amazon.in/HP-Pavilion-Graphics-35-56cms-14-dv0058TU/dp/B08WB857GB/ref=sr_1_3?dchild=1&keywords=laptop&qid=1625890521&refinements=p_n_feature_thirteen_browse-bin%3A12598163031%7C16757432031&rnid=12598141031&s=computers&sr=1-3',\n",
       " 'https://www.amazon.in/Asus-G703GI-E5148T-17-3-inch-i9-8950HK-Processor/dp/B07GRCW51K/ref=sr_1_4?dchild=1&keywords=laptop&qid=1625890521&refinements=p_n_feature_thirteen_browse-bin%3A12598163031%7C16757432031&rnid=12598141031&s=computers&sr=1-4',\n",
       " 'https://www.amazon.in/HP-Pavilion-Touchscreen-Convertible-14-dw1040TU/dp/B08R843NHL/ref=sr_1_5?dchild=1&keywords=laptop&qid=1625890521&refinements=p_n_feature_thirteen_browse-bin%3A12598163031%7C16757432031&rnid=12598141031&s=computers&sr=1-5',\n",
       " 'https://www.amazon.in/Notebook-Horizon-i7-10510U-Graphics-XMA1904-AF/dp/B089F2W1KW/ref=sr_1_6?dchild=1&keywords=laptop&qid=1625890521&refinements=p_n_feature_thirteen_browse-bin%3A12598163031%7C16757432031&rnid=12598141031&s=computers&sr=1-6',\n",
       " 'https://www.amazon.in/Dell-7567-15-6-inch-i7-7700HQ-Microsoft/dp/B0749KG8XG/ref=sr_1_7?dchild=1&keywords=laptop&qid=1625890521&refinements=p_n_feature_thirteen_browse-bin%3A12598163031%7C16757432031&rnid=12598141031&s=computers&sr=1-7',\n",
       " 'https://www.amazon.in/HP-Pavilion-Processor-15-6-inch-15-dk1509TX/dp/B08ZN7GBQ5/ref=sr_1_8?dchild=1&keywords=laptop&qid=1625890521&refinements=p_n_feature_thirteen_browse-bin%3A12598163031%7C16757432031&rnid=12598141031&s=computers&sr=1-8',\n",
       " 'https://www.amazon.in/Renewed-MSI-GT75-Titan-9SG-413IN/dp/B08XZ249KL/ref=sr_1_9?dchild=1&keywords=laptop&qid=1625890521&refinements=p_n_feature_thirteen_browse-bin%3A12598163031%7C16757432031&rnid=12598141031&s=computers&sr=1-9',\n",
       " 'https://www.amazon.in/HP-35-56cms-i7-1165G7-Windows-14s-dr2007TU/dp/B08N57LR4X/ref=sr_1_10?dchild=1&keywords=laptop&qid=1625890521&refinements=p_n_feature_thirteen_browse-bin%3A12598163031%7C16757432031&rnid=12598141031&s=computers&sr=1-10',\n",
       " 'https://www.amazon.in/Dell-i7-1165G7-Inspiron-5410-D560469WIN9S/dp/B095S9NJ4S/ref=sr_1_11?dchild=1&keywords=laptop&qid=1625890521&refinements=p_n_feature_thirteen_browse-bin%3A12598163031%7C16757432031&rnid=12598141031&s=computers&sr=1-11',\n",
       " 'https://www.amazon.in/GF63-Thin-10SCSR-019IN-i7-10750H-9S7-16R412-019/dp/B0897SXQNN/ref=sr_1_12?dchild=1&keywords=laptop&qid=1625890521&refinements=p_n_feature_thirteen_browse-bin%3A12598163031%7C16757432031&rnid=12598141031&s=computers&sr=1-12',\n",
       " 'https://www.amazon.in/ASUS-VivoBook-i7-1165G7-Graphics-S433EA-AM702TS/dp/B08SN9GJXH/ref=sr_1_13?dchild=1&keywords=laptop&qid=1625890521&refinements=p_n_feature_thirteen_browse-bin%3A12598163031%7C16757432031&rnid=12598141031&s=computers&sr=1-13',\n",
       " 'https://www.amazon.in/Lenovo-Legion-Gaming-GeForce-81SY00U7IN/dp/B092MRQCJ6/ref=sr_1_14?dchild=1&keywords=laptop&qid=1625890521&refinements=p_n_feature_thirteen_browse-bin%3A12598163031%7C16757432031&rnid=12598141031&s=computers&sr=1-14',\n",
       " 'https://www.amazon.in/gp/slredirect/picassoRedirect.html/ref=pa_sp_mtf_computers_sr_pg1_1?ie=UTF8&adId=A086665935KXADPC1VKVC&url=%2FNotebook-Horizon-i5-10210U-Graphics-XMA1904-AR%2Fdp%2FB089F5JGM1%2Fref%3Dsr_1_15_sspa%3Fdchild%3D1%26keywords%3Dlaptop%26qid%3D1625890521%26refinements%3Dp_n_feature_thirteen_browse-bin%253A12598163031%257C16757432031%26rnid%3D12598141031%26s%3Dcomputers%26sr%3D1-15-spons%26psc%3D1&qualifier=1625890521&id=8194375818569640&widgetName=sp_mtf',\n",
       " 'https://www.amazon.in/gp/slredirect/picassoRedirect.html/ref=pa_sp_mtf_computers_sr_pg1_1?ie=UTF8&adId=A0574697AGZ73PUBQN0I&url=%2FHP-Pavilion-Processor-15-6-inch-15-dk1509TX%2Fdp%2FB08ZN7GBQ5%2Fref%3Dsr_1_16_sspa%3Fdchild%3D1%26keywords%3Dlaptop%26qid%3D1625890521%26refinements%3Dp_n_feature_thirteen_browse-bin%253A12598163031%257C16757432031%26rnid%3D12598141031%26s%3Dcomputers%26sr%3D1-16-spons%26psc%3D1&qualifier=1625890521&id=8194375818569640&widgetName=sp_mtf',\n",
       " 'https://www.amazon.in/Dell-1366x768-Integrated-Graphics-Latitude/dp/B09752NVNF/ref=sr_1_17?dchild=1&keywords=laptop&qid=1625890521&refinements=p_n_feature_thirteen_browse-bin%3A12598163031%7C16757432031&rnid=12598141031&s=computers&sr=1-17',\n",
       " 'https://www.amazon.in/Renewed-HP-15-6-Inch-Graphics-Zbook/dp/B09128J5VT/ref=sr_1_18?dchild=1&keywords=laptop&qid=1625890521&refinements=p_n_feature_thirteen_browse-bin%3A12598163031%7C16757432031&rnid=12598141031&s=computers&sr=1-18',\n",
       " 'https://www.amazon.in/Dell-TOUCHSCREEN-Integrated-Graphics-Latitude/dp/B097YXR7SZ/ref=sr_1_19?dchild=1&keywords=laptop&qid=1625890521&refinements=p_n_feature_thirteen_browse-bin%3A12598163031%7C16757432031&rnid=12598141031&s=computers&sr=1-19',\n",
       " 'https://www.amazon.in/Dell-TOUCHSCREEN-Integrated-Graphics-Latitude/dp/B097YY81J6/ref=sr_1_20?dchild=1&keywords=laptop&qid=1625890521&refinements=p_n_feature_thirteen_browse-bin%3A12598163031%7C16757432031&rnid=12598141031&s=computers&sr=1-20',\n",
       " 'https://www.amazon.in/Renewed-Lenovo-80UE00BLIH-Windows-Champagne/dp/B07K23KHJD/ref=sr_1_21?dchild=1&keywords=laptop&qid=1625890521&refinements=p_n_feature_thirteen_browse-bin%3A12598163031%7C16757432031&rnid=12598141031&s=computers&sr=1-21',\n",
       " 'https://www.amazon.in/Lenovo-Touchscreen-Fingerprint-Graphite-82HS0092IN/dp/B08WRZQBQ6/ref=sr_1_22?dchild=1&keywords=laptop&qid=1625890521&refinements=p_n_feature_thirteen_browse-bin%3A12598163031%7C16757432031&rnid=12598141031&s=computers&sr=1-22',\n",
       " 'https://www.amazon.in/Dell-1366x768-Integrated-Graphics-Latitude/dp/B0974W4W9W/ref=sr_1_23?dchild=1&keywords=laptop&qid=1625890521&refinements=p_n_feature_thirteen_browse-bin%3A12598163031%7C16757432031&rnid=12598141031&s=computers&sr=1-23',\n",
       " 'https://www.amazon.in/Dell-1366x768-Integrated-Graphics-Latitude/dp/B0974WWK87/ref=sr_1_24?dchild=1&keywords=laptop&qid=1625890521&refinements=p_n_feature_thirteen_browse-bin%3A12598163031%7C16757432031&rnid=12598141031&s=computers&sr=1-24',\n",
       " 'https://www.amazon.in/Dell-Inspiron-i7-1165G7-Integrated-D560414WIN9S/dp/B0919LL313/ref=sr_1_25?dchild=1&keywords=laptop&qid=1625890521&refinements=p_n_feature_thirteen_browse-bin%3A12598163031%7C16757432031&rnid=12598141031&s=computers&sr=1-25',\n",
       " 'https://www.amazon.in/Lenovo-IdeaPad-15-6-inch-Windows-81Y400VAIN/dp/B08PV48PYW/ref=sr_1_26?dchild=1&keywords=laptop&qid=1625890521&refinements=p_n_feature_thirteen_browse-bin%3A12598163031%7C16757432031&rnid=12598141031&s=computers&sr=1-26',\n",
       " 'https://www.amazon.in/Nexstgo-NP15N1IN008P-15-6-inch-i7-8550U-Integrated/dp/B07KGP3HP3/ref=sr_1_27?dchild=1&keywords=laptop&qid=1625890521&refinements=p_n_feature_thirteen_browse-bin%3A12598163031%7C16757432031&rnid=12598141031&s=computers&sr=1-27',\n",
       " 'https://www.amazon.in/Renewed-Dell-Latitude-15-inch-Graphics/dp/B08L7P3D6Y/ref=sr_1_28?dchild=1&keywords=laptop&qid=1625890521&refinements=p_n_feature_thirteen_browse-bin%3A12598163031%7C16757432031&rnid=12598141031&s=computers&sr=1-28',\n",
       " 'https://www.amazon.in/gp/slredirect/picassoRedirect.html/ref=pa_sp_btf_computers_sr_pg1_1?ie=UTF8&adId=A05809812DV8P4414935R&url=%2FDell-15-6inch-i7-10750H-Warranty-D560250WIN9BE%2Fdp%2FB08HYPRST4%2Fref%3Dsr_1_29_sspa%3Fdchild%3D1%26keywords%3Dlaptop%26qid%3D1625890521%26refinements%3Dp_n_feature_thirteen_browse-bin%253A12598163031%257C16757432031%26rnid%3D12598141031%26s%3Dcomputers%26sr%3D1-29-spons%26psc%3D1&qualifier=1625890521&id=8194375818569640&widgetName=sp_btf',\n",
       " 'https://www.amazon.in/gp/slredirect/picassoRedirect.html/ref=pa_sp_btf_computers_sr_pg1_1?ie=UTF8&adId=A05814731HU5OO0SAJXI0&url=%2FASUS-i7-10870H-Graphics-Original-G512LV-HN222T%2Fdp%2FB08QJTD4W8%2Fref%3Dsr_1_30_sspa%3Fdchild%3D1%26keywords%3Dlaptop%26qid%3D1625890521%26refinements%3Dp_n_feature_thirteen_browse-bin%253A12598163031%257C16757432031%26rnid%3D12598141031%26s%3Dcomputers%26sr%3D1-30-spons%26psc%3D1&qualifier=1625890521&id=8194375818569640&widgetName=sp_btf',\n",
       " 'https://www.amazon.in/gp/slredirect/picassoRedirect.html/ref=sspa_dk_rhf_search_pt_sub_0?ie=UTF8&adId=A01682073R2TVGAVOXNX3&adOffset=0&qualifier=1625891759&id=5567961817495628&widgetName=sp_rhf_search&url=%2FDixcy-Scott-Comfort-IE_Olive-Grey_M%2Fdp%2FB07VN43T6C%3Fpsc%3D1%26pd_rd_w%3DOxU2h%26pf_rd_p%3Da458bc5b-bc65-4238-9284-07ecc9e72432%26pf_rd_r%3DH9N4K0A8S4BFF5YYT2PM%26pd_rd_r%3D65ea5421-638a-42d9-a574-da7c027a599a%26pd_rd_wg%3DEaWqe%26ref_%3Dsspa_dk_rhf_search_pt_sub_0',\n",
       " 'https://www.amazon.in/gp/slredirect/picassoRedirect.html/ref=sspa_dk_rhf_search_pt_sub_1?ie=UTF8&adId=A01000881BI4VVV3910HY&adOffset=0&qualifier=1625891759&id=5567961817495628&widgetName=sp_rhf_search&url=%2FLenovo-Tab-M10-FHD-Plus%2Fdp%2FB08BZSR4TX%3Fpsc%3D1%26pd_rd_w%3DOxU2h%26pf_rd_p%3Da458bc5b-bc65-4238-9284-07ecc9e72432%26pf_rd_r%3DH9N4K0A8S4BFF5YYT2PM%26pd_rd_r%3D65ea5421-638a-42d9-a574-da7c027a599a%26pd_rd_wg%3DEaWqe%26ref_%3Dsspa_dk_rhf_search_pt_sub_1',\n",
       " 'https://www.amazon.in/gp/slredirect/picassoRedirect.html/ref=sspa_dk_rhf_search_pt_sub_2?ie=UTF8&adId=A04621139KE4PV4DKBF9&adOffset=0&qualifier=1625891759&id=5567961817495628&widgetName=sp_rhf_search&url=%2FPortronics-Combo-Multimedia-Wireless-Light-Weight%2Fdp%2FB07X1KRPDZ%3Fpsc%3D1%26pd_rd_w%3DOxU2h%26pf_rd_p%3Da458bc5b-bc65-4238-9284-07ecc9e72432%26pf_rd_r%3DH9N4K0A8S4BFF5YYT2PM%26pd_rd_r%3D65ea5421-638a-42d9-a574-da7c027a599a%26pd_rd_wg%3DEaWqe%26ref_%3Dsspa_dk_rhf_search_pt_sub_2',\n",
       " 'https://www.amazon.in/gp/slredirect/picassoRedirect.html/ref=sspa_dk_rhf_search_pt_sub_3?ie=UTF8&adId=A04890841T9W3PW801L3J&adOffset=0&qualifier=1625891759&id=5567961817495628&widgetName=sp_rhf_search&url=%2FPortronics-POR-015-Toad-Wireless-Mouse%2Fdp%2FB07PT6Q376%3Fpsc%3D1%26pd_rd_w%3DOxU2h%26pf_rd_p%3Da458bc5b-bc65-4238-9284-07ecc9e72432%26pf_rd_r%3DH9N4K0A8S4BFF5YYT2PM%26pd_rd_r%3D65ea5421-638a-42d9-a574-da7c027a599a%26pd_rd_wg%3DEaWqe%26ref_%3Dsspa_dk_rhf_search_pt_sub_3',\n",
       " 'https://www.amazon.in/gp/slredirect/picassoRedirect.html/ref=sspa_dk_rhf_search_pt_sub_4?ie=UTF8&adId=A04787642CVDC7RK19IFQ&adOffset=0&qualifier=1625891759&id=5567961817495628&widgetName=sp_rhf_search&url=%2FPortronics-POR-1101-Car-Vent-Adjustable-Smartphones%2Fdp%2FB08KSZJGRM%3Fpsc%3D1%26pd_rd_w%3DOxU2h%26pf_rd_p%3Da458bc5b-bc65-4238-9284-07ecc9e72432%26pf_rd_r%3DH9N4K0A8S4BFF5YYT2PM%26pd_rd_r%3D65ea5421-638a-42d9-a574-da7c027a599a%26pd_rd_wg%3DEaWqe%26ref_%3Dsspa_dk_rhf_search_pt_sub_4',\n",
       " 'https://www.amazon.in/gp/slredirect/picassoRedirect.html/ref=sspa_dk_rhf_search_pt_sub_0?ie=UTF8&adId=A03185332IMFKDFNG4542&adOffset=0&qualifier=1625891759&id=2435087030896687&widgetName=sp_rhf_search_personalized&url=%2FASUS-VivoBook-S532EQ-BQ502TS-I5-1135G7-SILVER%2Fdp%2FB08PZ79SRH%3Fpsc%3D1%26pd_rd_w%3D9TQd8%26pf_rd_p%3D43328b64-8a6f-491a-8c51-172c4f12c935%26pf_rd_r%3DH9N4K0A8S4BFF5YYT2PM%26pd_rd_r%3D65ea5421-638a-42d9-a574-da7c027a599a%26pd_rd_wg%3DEaWqe%26ref_%3Dsspa_dk_rhf_search_pt_sub_0',\n",
       " 'https://www.amazon.in/gp/slredirect/picassoRedirect.html/ref=sspa_dk_rhf_search_pt_sub_1?ie=UTF8&adId=A031427721N2WH4RIDES8&adOffset=0&qualifier=1625891759&id=2435087030896687&widgetName=sp_rhf_search_personalized&url=%2FHP-Processor-39-62cms-Integrated-15s-fq2075TU%2Fdp%2FB08XNXJDVX%3Fpsc%3D1%26pd_rd_w%3D9TQd8%26pf_rd_p%3D43328b64-8a6f-491a-8c51-172c4f12c935%26pf_rd_r%3DH9N4K0A8S4BFF5YYT2PM%26pd_rd_r%3D65ea5421-638a-42d9-a574-da7c027a599a%26pd_rd_wg%3DEaWqe%26ref_%3Dsspa_dk_rhf_search_pt_sub_1',\n",
       " 'https://www.amazon.in/gp/slredirect/picassoRedirect.html/ref=sspa_dk_rhf_search_pt_sub_2?ie=UTF8&adId=A03122132M6BV39E18XO1&adOffset=0&qualifier=1625891759&id=2435087030896687&widgetName=sp_rhf_search_personalized&url=%2FHP-Pavilion-Graphics-Keyboard-14-dv0053TU%2Fdp%2FB08WB8686H%3Fpsc%3D1%26pd_rd_w%3D9TQd8%26pf_rd_p%3D43328b64-8a6f-491a-8c51-172c4f12c935%26pf_rd_r%3DH9N4K0A8S4BFF5YYT2PM%26pd_rd_r%3D65ea5421-638a-42d9-a574-da7c027a599a%26pd_rd_wg%3DEaWqe%26ref_%3Dsspa_dk_rhf_search_pt_sub_2',\n",
       " 'https://www.amazon.in/gp/slredirect/picassoRedirect.html/ref=sspa_dk_rhf_search_pt_sub_3?ie=UTF8&adId=A02747862D8NB1N8RFPDN&adOffset=0&qualifier=1625891759&id=2435087030896687&widgetName=sp_rhf_search_personalized&url=%2FASUS-VivoBook-i3-1005G1-Integrated-X415JA-EK312TS%2Fdp%2FB08JMSHVJW%3Fpsc%3D1%26pd_rd_w%3D9TQd8%26pf_rd_p%3D43328b64-8a6f-491a-8c51-172c4f12c935%26pf_rd_r%3DH9N4K0A8S4BFF5YYT2PM%26pd_rd_r%3D65ea5421-638a-42d9-a574-da7c027a599a%26pd_rd_wg%3DEaWqe%26ref_%3Dsspa_dk_rhf_search_pt_sub_3',\n",
       " 'https://www.amazon.in/gp/slredirect/picassoRedirect.html/ref=sspa_dk_rhf_search_pt_sub_4?ie=UTF8&adId=A026579021RWPDG3QTNQM&adOffset=0&qualifier=1625891759&id=2435087030896687&widgetName=sp_rhf_search_personalized&url=%2FASUS-VivoBook-i5-1035G1-Integrated-X415JA-EK501T%2Fdp%2FB08PQW6W1L%3Fpsc%3D1%26pd_rd_w%3D9TQd8%26pf_rd_p%3D43328b64-8a6f-491a-8c51-172c4f12c935%26pf_rd_r%3DH9N4K0A8S4BFF5YYT2PM%26pd_rd_r%3D65ea5421-638a-42d9-a574-da7c027a599a%26pd_rd_wg%3DEaWqe%26ref_%3Dsspa_dk_rhf_search_pt_sub_4']"
      ]
     },
     "execution_count": 30,
     "metadata": {},
     "output_type": "execute_result"
    }
   ],
   "source": [
    "laptop_urls"
   ]
  },
  {
   "cell_type": "code",
   "execution_count": 29,
   "metadata": {},
   "outputs": [
    {
     "data": {
      "text/plain": [
       "40"
      ]
     },
     "execution_count": 29,
     "metadata": {},
     "output_type": "execute_result"
    }
   ],
   "source": [
    "len(laptop_urls)"
   ]
  },
  {
   "cell_type": "code",
   "execution_count": 31,
   "metadata": {},
   "outputs": [],
   "source": [
    "laptop_title =[]\n",
    "laptop_ratiing = []\n",
    "laptop_price = []"
   ]
  },
  {
   "cell_type": "code",
   "execution_count": 34,
   "metadata": {},
   "outputs": [],
   "source": [
    "# fetching 10 laptop title\n",
    "\n",
    "for i in laptop_urls[:10]:\n",
    "    driver.get(i)\n",
    "    time.sleep(3)\n",
    "    \n",
    "    try:\n",
    "        laptop = driver.find_element_by_xpath(\"//span[@class='a-size-large product-title-word-break']\")\n",
    "        laptop_title.append(laptop.text)\n",
    "    except NoSuchElementException:\n",
    "        laptop_title.append('_')"
   ]
  },
  {
   "cell_type": "code",
   "execution_count": 35,
   "metadata": {},
   "outputs": [
    {
     "data": {
      "text/plain": [
       "['Lenovo Legion 7 10th Gen Intel Core i7 15.6 inch Full HD Gaming Laptop (16GB/1TB SSD/Windows 10/MS Office 2019/144 Hz/NVIDIA RTX 2080 8GB GDDR6 Graphics/Slate Grey/2.25Kg), 81YU002AIN',\n",
       " 'Dell Alienware m15(R3) 15.6-inch FHD Gaming Laptop (10th Gen Core i7-10750H/16GB/512GB SSD/Windows 10 Home & MS Office/6GB NVIDIA GTX 1660 Ti Graphics), Lunar Light',\n",
       " 'HP Pavilion (2021) Thin & Light 11th Gen Core i7 Laptop, 16 GB RAM, 1TB SSD, Iris Xe Graphics, 14\" (35.56cms) FHD Screen, Windows 10, MS Office, Backlit Keyboard (14-dv0058TU)',\n",
       " 'ASUS ROG G703GI-E5148T 17.3\" (43.94 cms) FHD 144Hz/3ms Gaming Laptop (8th Gen Intel Core i9-8950HK/64GB/2TB SSHD + 1.5TB NVMe SSD/Windows 10/GTX 1080 8GB Graphics/4.70 Kg), Aluminum',\n",
       " 'HP Pavilion x360 (2021) 14\" (35.56cms) FHD Touchscreen Laptop, 11th Gen Core i7, 8 GB RAM, 512GB SSD, 2-in-1 Convertible, Windows 10, MS Office, Finger Print Reader (14-dw1040TU)',\n",
       " 'Mi Notebook Horizon Edition 14 Intel Core i7-10510U 10th Gen 14-inch (35.56 cms) Thin and Light Laptop(8GB/512GB SSD/Windows 10/Nvidia MX350 2GB Graphics/Grey/1.35Kg), XMA1904-AF+Webcam',\n",
       " 'Dell Inspiron 15 Gaming 7567 15.6-inch Laptop (7th Gen Core i7-7700HQ/8GB/1TB/Windows 10 with Microsoft Office Home & Student 2016/4GB Graphics)',\n",
       " 'HP Pavilion Gaming 10th Gen Intel Core i7 Processor 15.6-inch FHD Gaming Laptop (16GB/512GB SSD + 32GB Intel Optane/Windows 10/NVIDIA 1650Ti 4GB/Shadow Black), 15-dk1509TX',\n",
       " '(Renewed) MSI Gaming Intel 9th Gen Core i7 17-Inch (43.18 cms) 3840 x 2160 (4K UHD) Laptop (32 GB/1 TB HDD/Windows 10 Home/RTX 2080/Black/1.74 Kg), GT75 Titan 9SG-413IN',\n",
       " 'HP 14 Thin & Light 14\" (35.56cms) FHD Laptop (11th Gen Intel i7-1165G7/8GB/512GB SSD/Windows 10/MS Office 2019/Alexa Built-in/Pale Gold/1.47 kg), 14s-dr2007TU']"
      ]
     },
     "execution_count": 35,
     "metadata": {},
     "output_type": "execute_result"
    }
   ],
   "source": [
    "laptop_title"
   ]
  },
  {
   "cell_type": "code",
   "execution_count": 38,
   "metadata": {},
   "outputs": [],
   "source": [
    "# fetching 10 laptop rating\n",
    "\n",
    "for i in laptop_urls[:10]:\n",
    "    driver.get(i)\n",
    "    time.sleep(3)\n",
    "    \n",
    "    try:\n",
    "        laptop_rate = driver.find_element_by_xpath(\"//span[@class='a-size-medium a-color-base']\")\n",
    "        laptop_ratiing.append(laptop_rate.text)\n",
    "    except:\n",
    "        laptop_ratiing.append('_')"
   ]
  },
  {
   "cell_type": "code",
   "execution_count": 40,
   "metadata": {},
   "outputs": [
    {
     "data": {
      "text/plain": [
       "['2.8 out of 5',\n",
       " '3.1 out of 5',\n",
       " '4.4 out of 5',\n",
       " '3.8 out of 5',\n",
       " '3.9 out of 5',\n",
       " '4.4 out of 5',\n",
       " '2.7 out of 5',\n",
       " '4.2 out of 5',\n",
       " '2.8 out of 5',\n",
       " '3.1 out of 5']"
      ]
     },
     "execution_count": 40,
     "metadata": {},
     "output_type": "execute_result"
    }
   ],
   "source": [
    "laptop_ratiing[:10]"
   ]
  },
  {
   "cell_type": "code",
   "execution_count": 41,
   "metadata": {},
   "outputs": [],
   "source": [
    "# fetching 10 laptop rating\n",
    "\n",
    "for i in laptop_urls[:10]:\n",
    "    driver.get(i)\n",
    "    time.sleep(3)\n",
    "    \n",
    "    try:\n",
    "        laptop_pr = driver.find_element_by_xpath(\"//span[@class='a-size-medium a-color-price priceBlockBuyingPriceString']\")\n",
    "        laptop_price.append(laptop_pr.text)\n",
    "    except:\n",
    "        laptop_price.append('_')"
   ]
  },
  {
   "cell_type": "code",
   "execution_count": 42,
   "metadata": {},
   "outputs": [
    {
     "data": {
      "text/plain": [
       "['₹ 2,00,000.00',\n",
       " '₹ 1,74,990.00',\n",
       " '₹ 84,990.00',\n",
       " '₹ 5,39,322.00',\n",
       " '_',\n",
       " '₹ 59,999.00',\n",
       " '₹ 79,990.00',\n",
       " '₹ 86,990.00',\n",
       " '₹ 2,64,900.00',\n",
       " '₹ 88,990.00']"
      ]
     },
     "execution_count": 42,
     "metadata": {},
     "output_type": "execute_result"
    }
   ],
   "source": [
    "laptop_price[:10]"
   ]
  }
 ],
 "metadata": {
  "kernelspec": {
   "display_name": "Python 3",
   "language": "python",
   "name": "python3"
  },
  "language_info": {
   "codemirror_mode": {
    "name": "ipython",
    "version": 3
   },
   "file_extension": ".py",
   "mimetype": "text/x-python",
   "name": "python",
   "nbconvert_exporter": "python",
   "pygments_lexer": "ipython3",
   "version": "3.8.5"
  }
 },
 "nbformat": 4,
 "nbformat_minor": 4
}
